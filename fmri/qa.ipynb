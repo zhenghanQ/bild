{
 "cells": [
  {
   "cell_type": "code",
   "execution_count": null,
   "metadata": {
    "collapsed": false
   },
   "outputs": [],
   "source": [
    "%matplotlib inline\n",
    "\n",
    "import os\n",
    "import glob\n",
    "import re\n",
    "import fnmatch\n",
    "import nilearn.plotting as nlp\n",
    "import matplotlib.pyplot as plt\n",
    "import nibabel as nb\n",
    "import numpy as np\n",
    "import pandas as pd\n",
    "import seaborn as sns\n",
    "import warnings"
   ]
  },
  {
   "cell_type": "code",
   "execution_count": null,
   "metadata": {
    "collapsed": true
   },
   "outputs": [],
   "source": [
    "##### FMRI QA #####"
   ]
  },
  {
   "cell_type": "code",
   "execution_count": null,
   "metadata": {
    "collapsed": false
   },
   "outputs": [],
   "source": [
    "### PROJECT-SPECIFIC VARIABLES TO CHANGE ###\n",
    "\n",
    "openfmri_dir = '/om/user/satra/projects/SAD/data/'\n",
    "l1_dir = '/om/user/satra/projects/SAD/fmri_results/individual/'\n",
    "subj_prefix = 'SAD_???'\n",
    "fs_dir = '/om/user/satra/projects/SAD/fsdata/'   # set to None if no freesurfer dir\n",
    "skip_tasks = ['task%03d' % val for val in [2, 3, 4, 5, 6]]\n",
    "outlier_threshold = 10    # percent\n",
    "\n",
    "############################################"
   ]
  },
  {
   "cell_type": "code",
   "execution_count": null,
   "metadata": {
    "collapsed": false
   },
   "outputs": [],
   "source": [
    "# Setting up models, tasks, subject lists, runs, # of vols, contrasts, etc.\n",
    "\n",
    "models = [task.split('/')[-1] for task in sorted(glob.glob(os.path.join(openfmri_dir, 'models', \n",
    "                                                                        'model*')))]\n",
    "task_key = os.path.join(openfmri_dir, 'task_key.txt')\n",
    "with open(task_key, 'r') as f:\n",
    "    tasks = [re.split(' |,\\t',line)[0] for line in f]\n",
    "\n",
    "#task_contrasts = os.path.join(openfmri_dir, 'models', model, 'task_contrasts.txt')\n",
    "#condition_key = os.path.join(openfmri_dir, 'models', model, 'condition_key.txt')\n",
    "\n",
    "def get_tasks(model):\n",
    "    tasks = [task.split('/')[-1] for task in sorted(glob.glob(os.path.join(l1_dir, model, 'task*')))]\n",
    "    return [task for task in tasks if task not in skip_tasks]\n",
    "\n",
    "\n",
    "def get_subjlist(model, task):\n",
    "    subjlist = [fl for fl in sorted(os.listdir(os.path.join(l1_dir, model, task))) \n",
    "                if fnmatch.fnmatch(fl,subj_prefix)]\n",
    "    return sorted(subjlist)\n",
    "\n",
    "def get_subjtask(model):\n",
    "    df = pd.DataFrame()\n",
    "    for task in get_tasks(model):\n",
    "        subjects = get_subjlist(model, task)\n",
    "        df[task] = pd.Series([1 for subj in subjects], index=subjects)\n",
    "    return df\n",
    "\n",
    "def get_runs(task, subj):\n",
    "    task_runs = sorted(os.listdir(os.path.join(openfmri_dir, subj, 'BOLD')))\n",
    "    num_runs = 0\n",
    "    for run in task_runs:\n",
    "        if run.split('_')[0] == task:\n",
    "            num_runs += 1\n",
    "    return num_runs\n",
    "\n",
    "def get_num_vols(task, subj, run):\n",
    "    bold_file = os.path.join(openfmri_dir,subj,'BOLD','%s_run%03d' % (task,run+1),'bold.nii.gz')\n",
    "    bold_img = nb.load(bold_file)\n",
    "    return bold_img.shape[3]\n",
    "\n",
    "def get_contrasts(model, task):\n",
    "    contrasts_dict = {}\n",
    "    with open(task_contrasts, 'r') as f:\n",
    "        contrasts = [re.split(' |,\\t',line)[1] for line in f if re.split(' |,\\t',line)[0]==task]\n",
    "    with open(condition_key, 'r') as f:\n",
    "        cond_gt_rest = [re.split(' |,\\t',line)[2].strip() + '_gt_rest' for line in f \\\n",
    "                        if re.split(' |,\\t',line)[0]==task]\n",
    "    contrasts.extend(cond_gt_rest)\n",
    "    return contrasts"
   ]
  },
  {
   "cell_type": "code",
   "execution_count": null,
   "metadata": {
    "collapsed": false
   },
   "outputs": [],
   "source": [
    "# REGISTRATION\n",
    "\n",
    "def plot_mean2anat_overlay(subj, subj_path, fs_dir, title, fig=None, ax=None):   \n",
    "    if fs_dir == None:\n",
    "        bg = os.path.join(openfmri_dir, subj, 'anatomy', 'T1_001.nii.gz')\n",
    "    else:\n",
    "        bg = os.path.join(fs_dir, subj, 'mri', 'T1.mgz')\n",
    "    mask = os.path.join(os.path.join(subj_path,'qa','mask','mean2anat',\\\n",
    "                                     'median_brain_mask.nii.gz'))\n",
    "    close = False\n",
    "    if ax is None:\n",
    "        fig = plt.figure(figsize=(5, 2))\n",
    "        ax = fig.gca()\n",
    "        close = True\n",
    "    display = nlp.plot_roi(roi_img=mask, bg_img=bg, black_bg=False, alpha=0.3, \n",
    "                           draw_cross=False, annotate=False,\n",
    "                           figure=fig, axes=ax, title=title)\n",
    "    if close:\n",
    "        plt.show()\n",
    "        display.close()\n",
    "\n",
    "def plot_anat(subj_path, title, fig=None, ax=None):\n",
    "    anat2target = os.path.join(subj_path, 'qa', 'anat2target', 'output_warped_image.nii.gz')\n",
    "    close = False\n",
    "    if ax is None:\n",
    "        fig = plt.figure(figsize=(5, 2))\n",
    "        ax = fig.gca()\n",
    "        close = True\n",
    "    display = nlp.plot_anat(anat_img=anat2target, cut_coords=(0, -13, 20), annotate=False,\n",
    "                            draw_cross=False, title=title, figure=fig, axes=ax)\n",
    "    if close:\n",
    "        plt.show()\n",
    "        display.close()\n",
    "    \n",
    "#def dice_coefficient():"
   ]
  },
  {
   "cell_type": "code",
   "execution_count": null,
   "metadata": {
    "collapsed": false,
    "scrolled": true
   },
   "outputs": [],
   "source": [
    "# check registration of mean (median) functional to structural\n",
    "\n",
    "for model in models:\n",
    "    print '********** %s **********' % model\n",
    "    subj_df = get_subjtask(model)\n",
    "    for subj in subj_df.index:\n",
    "        fig, ax = plt.subplots(1, subj_df.shape[1], figsize=(4 * subj_df.shape[1], 2))\n",
    "        if not isinstance(ax, np.ndarray):\n",
    "            ax = [ax]\n",
    "        for idx, task in enumerate(subj_df.ix[subj].index):\n",
    "            if subj_df.ix[subj, task]:\n",
    "                plot_mean2anat_overlay(subj, os.path.join(l1_dir, model, task, subj), \n",
    "                                       fs_dir, title=subj + '-' + task, fig=fig, ax=ax[idx])\n",
    "        plt.show()\n",
    "        plt.close(fig)"
   ]
  },
  {
   "cell_type": "code",
   "execution_count": null,
   "metadata": {
    "collapsed": true
   },
   "outputs": [],
   "source": [
    "coregistration_outliers = ['SAD_049', 'SAD_P42']"
   ]
  },
  {
   "cell_type": "code",
   "execution_count": null,
   "metadata": {
    "collapsed": false
   },
   "outputs": [],
   "source": [
    "# check registration of structural to MNI template\n",
    "\n",
    "for model in models:\n",
    "    print '********** %s **********' % model\n",
    "    subj_df = get_subjtask(model)\n",
    "    for subj in subj_df.index:\n",
    "        fig, ax = plt.subplots(1, subj_df.shape[1], figsize=(4 * subj_df.shape[1], 2))\n",
    "        if not isinstance(ax, np.ndarray):\n",
    "            ax = [ax]\n",
    "        for idx, task in enumerate(subj_df.ix[subj].index):\n",
    "            if subj_df.ix[subj, task]:\n",
    "                plot_anat(os.path.join(l1_dir, model, task, subj), title=subj + '-' + task, fig=fig, ax=ax[idx])\n",
    "        plt.show()\n",
    "        plt.close(fig)"
   ]
  },
  {
   "cell_type": "code",
   "execution_count": null,
   "metadata": {
    "collapsed": true
   },
   "outputs": [],
   "source": [
    "normalization_outliers = ['SAD_049']"
   ]
  },
  {
   "cell_type": "code",
   "execution_count": null,
   "metadata": {
    "collapsed": true
   },
   "outputs": [],
   "source": [
    "# OUTLIERS\n",
    "\n",
    "def count_outliers(subj_path, run):\n",
    "    outlier_file = os.path.join(subj_path, 'qa', 'art', \n",
    "                                'run%02d_art.bold_dtype_mcf_outliers.txt' % (run + 1))\n",
    "    with warnings.catch_warnings():\n",
    "        warnings.simplefilter(\"ignore\")\n",
    "        outliers = np.genfromtxt(outlier_file)\n",
    "    return np.prod(outliers.shape)"
   ]
  },
  {
   "cell_type": "code",
   "execution_count": null,
   "metadata": {
    "collapsed": false
   },
   "outputs": [],
   "source": [
    "# outputs number of outliers in each run, as well as a warning if outlier threshold is exceeded\n",
    "outlier_dfs = {}\n",
    "for model in models:\n",
    "    df = pd.DataFrame()\n",
    "    print '********** %s **********' % model\n",
    "    tasks = get_tasks(model)\n",
    "    for task in tasks:\n",
    "        print '********** %s **********' % task\n",
    "        subjects = get_subjlist(model, task)\n",
    "        max_run = 0\n",
    "        subj_runs = {}\n",
    "        for subj in subjects:\n",
    "            num_runs = get_runs(task, subj)\n",
    "            subj_runs[subj] = num_runs\n",
    "            if num_runs > max_run:\n",
    "                max_run = num_runs\n",
    "        task_info = np.zeros((len(subjects), max_run))\n",
    "        columns = ['%s-Run%02d' % (task, run) for run in range(1, max_run + 1)]\n",
    "        for idx, subj in enumerate(subjects):\n",
    "            for run in range(subj_runs[subj]):\n",
    "                num_outliers = count_outliers(os.path.join(l1_dir, model, task, subj), run) \n",
    "                num_vols = get_num_vols(task,subj,run)\n",
    "                task_info[idx, run] = float(num_outliers)/num_vols\n",
    "        df_task = pd.DataFrame(task_info, index=subjects, columns=columns)\n",
    "        df = pd.concat((df, df_task), axis=1)\n",
    "    sns.set(context=\"poster\", font=\"monospace\")\n",
    "    f, ax = plt.subplots(figsize=(20, 20))\n",
    "    sns.heatmap(df, linewidths=0, annot=True, vmax=0.1, vmin=0), #vmax=1, vmin=-1, \n",
    "    f.tight_layout()\n",
    "    outlier_dfs[model] = df"
   ]
  },
  {
   "cell_type": "code",
   "execution_count": null,
   "metadata": {
    "collapsed": false
   },
   "outputs": [],
   "source": [
    "outlier_names = {}\n",
    "for model in models:\n",
    "    outlier_names[model] = outlier_dfs[model].index[np.nonzero((outlier_dfs[model] > 0.1).sum(axis=1))[0]].tolist()\n",
    "outlier_names"
   ]
  },
  {
   "cell_type": "code",
   "execution_count": null,
   "metadata": {
    "collapsed": false
   },
   "outputs": [],
   "source": [
    "# MASKS\n",
    "\n",
    "def plot_mask(subj_path,run):\n",
    "    mask = os.path.join(subj_path,'qa','mask','run%02d_mask.nii.gz' % (run+1))\n",
    "    bg = os.path.join(subj_path, 'mean', 'median.nii.gz')\n",
    "\n",
    "    display = nlp.plot_roi(roi_img=mask, bg_img=bg, black_bg=False, alpha=0.3, display_mode='y', cut_coords=15)\n",
    "    plt.show()\n",
    "    display.close()"
   ]
  },
  {
   "cell_type": "code",
   "execution_count": null,
   "metadata": {
    "collapsed": false
   },
   "outputs": [],
   "source": [
    "# quick visual check for holes in masks\n",
    "\n",
    "for model in models:\n",
    "    print '********** %s **********' % model\n",
    "    tasks = get_tasks(model)\n",
    "    print tasks\n",
    "    for task in tasks:\n",
    "        print '********** %s **********' % task\n",
    "        for subj in get_subjlist(model, task):\n",
    "            print subj\n",
    "            num_runs = get_runs(task, subj)\n",
    "            for run in range(num_runs):\n",
    "                print 'run%02d' % (run + 1)\n",
    "                plot_mask(os.path.join(l1_dir,model,task,subj),run)"
   ]
  },
  {
   "cell_type": "code",
   "execution_count": null,
   "metadata": {
    "collapsed": true
   },
   "outputs": [],
   "source": [
    "# ZSTATS\n",
    "\n",
    "def plot_stat_map(subj_path, contrast_num, title):\n",
    "    zstat = os.path.join(subj_path,'zstats','mni','zstat%02d.nii.gz' % (contrast_num + 1))\n",
    "    fig = plt.figure(figsize=(10, 1.5))\n",
    "    display = nlp.plot_stat_map(stat_map_img=zstat, display_mode='z', threshold=2.3, figure=fig,\n",
    "                                black_bg=True, cut_coords=np.linspace(-40, 70, 12), title=title,\n",
    "                                annotate=False)\n",
    "    plt.show()\n",
    "    display.close()"
   ]
  },
  {
   "cell_type": "code",
   "execution_count": null,
   "metadata": {
    "collapsed": false,
    "scrolled": true
   },
   "outputs": [],
   "source": [
    "# visual check of zstats in MNI space (displays slices in axial view)\n",
    "\n",
    "for model in models:\n",
    "    print '********** %s **********' % model \n",
    "    for task in get_tasks(model):\n",
    "        print '********** %s **********' % task\n",
    "        contrasts = get_contrasts(model,task)\n",
    "        for contrast_num in range(len(contrasts)):\n",
    "            print contrasts[contrast_num]\n",
    "            for subj in get_subjlist(model, task):\n",
    "                #print subj\n",
    "                plot_stat_map(os.path.join(l1_dir, model, task, subj), contrast_num, title=subj)"
   ]
  },
  {
   "cell_type": "code",
   "execution_count": null,
   "metadata": {
    "collapsed": true
   },
   "outputs": [],
   "source": [
    "# TSNR (from Satra's script)\n",
    "\n",
    "def read_stats(fname):\n",
    "    statsname = fname.split('_aparc')[0] + '_summary.stats'\n",
    "    roi = np.genfromtxt(statsname, dtype=object)[:, 4]\n",
    "    data = np.genfromtxt(fname)\n",
    "    return dict(zip(roi, data))\n",
    "\n",
    "import re\n",
    "\n",
    "def get_data(fl, subj_regex):\n",
    "    data = None\n",
    "    for i, name in enumerate(fl):\n",
    "        subjid = re.search(subj_regex, name).group()\n",
    "        df = pd.DataFrame(read_stats(name), index=[subjid])\n",
    "        if data is None:\n",
    "            data = df\n",
    "        else:\n",
    "            data = pd.concat((data, df))\n",
    "    return data.dropna(axis=1)"
   ]
  },
  {
   "cell_type": "code",
   "execution_count": null,
   "metadata": {
    "collapsed": false
   },
   "outputs": [],
   "source": [
    "df = pd.DataFrame()\n",
    "for task in get_tasks('model001'):\n",
    "    print task\n",
    "    fl = sorted(glob.glob(os.path.join(l1_dir, 'model001', task, subj_prefix,\n",
    "                                             'qa','tsnr','run01_aparc+aseg_warped_avgwf.txt')))\n",
    "    data = get_data(fl, 'SAD_...')\n",
    "    idx = np.nonzero(data.median(axis=0) > 20)[0]\n",
    "    data_trimmed = data.ix[:, idx]\n",
    "    df_task = pd.Series((np.corrcoef(data) < 0.8).sum(axis=0), index=data.index, name=task)\n",
    "    df = pd.concat((df, df_task), axis=1)\n",
    "df = df/df.shape[0]    \n",
    "sns.set(context=\"poster\", font=\"monospace\")\n",
    "f, ax = plt.subplots(figsize=(20, 20))\n",
    "sns.heatmap(df, linewidths=0, annot=True), #vmax=1, vmin=-1, \n",
    "f.tight_layout()"
   ]
  },
  {
   "cell_type": "code",
   "execution_count": null,
   "metadata": {
    "collapsed": false
   },
   "outputs": [],
   "source": [
    "plt.hist(df.values.flatten(), 30)\n",
    "plt.xlabel('% TSNR dissimilarity')\n",
    "ph = plt.ylabel('Number of participants')"
   ]
  },
  {
   "cell_type": "code",
   "execution_count": null,
   "metadata": {
    "collapsed": false
   },
   "outputs": [],
   "source": [
    "tsnr_outliers = df.index[np.nonzero((df >= .4).sum(axis=1))[0]].tolist()\n",
    "tsnr_outliers"
   ]
  },
  {
   "cell_type": "code",
   "execution_count": null,
   "metadata": {
    "collapsed": false
   },
   "outputs": [],
   "source": [
    "np.intersect1d(outlier_names['model001'], tsnr_outliers)"
   ]
  },
  {
   "cell_type": "code",
   "execution_count": null,
   "metadata": {
    "collapsed": true
   },
   "outputs": [],
   "source": []
  },
  {
   "cell_type": "code",
   "execution_count": null,
   "metadata": {
    "collapsed": true
   },
   "outputs": [],
   "source": []
  },
  {
   "cell_type": "code",
   "execution_count": null,
   "metadata": {
    "collapsed": false
   },
   "outputs": [],
   "source": []
  },
  {
   "cell_type": "code",
   "execution_count": null,
   "metadata": {
    "collapsed": false
   },
   "outputs": [],
   "source": []
  },
  {
   "cell_type": "code",
   "execution_count": null,
   "metadata": {
    "collapsed": true
   },
   "outputs": [],
   "source": []
  },
  {
   "cell_type": "code",
   "execution_count": null,
   "metadata": {
    "collapsed": false
   },
   "outputs": [],
   "source": []
  }
 ],
 "metadata": {
  "kernelspec": {
   "display_name": "Python 2",
   "language": "python",
   "name": "python2"
  },
  "language_info": {
   "codemirror_mode": {
    "name": "ipython",
    "version": 2
   },
   "file_extension": ".py",
   "mimetype": "text/x-python",
   "name": "python",
   "nbconvert_exporter": "python",
   "pygments_lexer": "ipython2",
   "version": "2.7.10"
  }
 },
 "nbformat": 4,
 "nbformat_minor": 0
}
