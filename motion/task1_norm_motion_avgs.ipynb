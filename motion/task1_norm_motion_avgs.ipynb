{
 "cells": [
  {
   "cell_type": "code",
   "execution_count": 1,
   "metadata": {
    "collapsed": true
   },
   "outputs": [],
   "source": [
    "import os\n",
    "import numpy as np\n",
    "import pandas as pd"
   ]
  },
  {
   "cell_type": "code",
   "execution_count": 81,
   "metadata": {
    "collapsed": true
   },
   "outputs": [],
   "source": [
    "os.chdir('/om/user/cdla/projects/bild/openfmri_4')"
   ]
  },
  {
   "cell_type": "code",
   "execution_count": 89,
   "metadata": {
    "collapsed": true
   },
   "outputs": [],
   "source": [
    "pars_dir = '/om/user/cdla/projects/bild/openfmri_4/032316_l1output_fwhm6_art3mm_sd/model01/task001'\n",
    "\n",
    "pars = 'BILDC3161 BILDC3139 BILDC3093 BILDC3111 BILDC3223 BILDC3072 \\\n",
    "BILDC3267 BILDC3083 BILDC3236 BILDC3138 BILDC3237 BILDC3095 BILDC3152 \\\n",
    "BILDC3296 BILDC3076 BILDC3092 BILDC3089 BILDC3224 BILDC3219 BILDC3074 \\\n",
    "BILDC3220 BILDC3141 BILDC3165 BILDC3238 BILDC3071 BILDC3143 BILDC3142 \\\n",
    "BILDC3187 BILDC3213 BILDC3078 BILDC3151 BILDC3167 BILDC3240 BILDC3049 \\\n",
    "BILDC3159 BILDC3277 BILDC3278 BILDC3130 BILDC3046 BILDC3125 BILDC3266 \\\n",
    "BILDC3081 BILDC3158 BILDC3205 BILDC3268 BILDC3247 BILDC3244 BILDC3198 \\\n",
    "BILDC3168 BILDC3189 BILDC3255 BILDC3250 BILDC3119 BILDC3254 BILDA17 \\\n",
    "BILDA_1 BILDA21 BILDA24 BILDA4 BILDA2 BILDA9 BILDA19 BILDSLI3054 BILDA22 \\\n",
    "BILDSLI3053 BILDA3 BILDA20 BILDSLI3056 BILDA14 BILDA10 BILDA11 BILDA12 \\\n",
    "BILDSLI3057 BILDA16 BILDSLI3048 BILDA13'.split(' ')\n",
    "\n",
    "def compute_avg(par, l1dir):\n",
    "    avg_files = []\n",
    "    for i in [1,2,3]:\n",
    "        avg_files.append(np.genfromtxt(os.path.join(l1dir,\n",
    "                par, 'qa/art/run0{}_norm.bold_dtype_mcf.txt'.format(i))))\n",
    "    avg_matrix = np.asarray(avg_files)\n",
    "    avgs_runs = avg_matrix.T.mean(0)\n",
    "    avg_all = sum(avgs_runs) / 3.0\n",
    "    return [par, avg_all, avgs_runs]"
   ]
  },
  {
   "cell_type": "code",
   "execution_count": 90,
   "metadata": {
    "collapsed": false
   },
   "outputs": [],
   "source": [
    "store_df = []\n",
    "for par in pars:  \n",
    "    avg_data = compute_avg(par,pars_dir)\n",
    "    data = [avg_data[0], avg_data[1],\n",
    "                     avg_data[2][0], avg_data[2][1],\n",
    "                    avg_data[2][2]]\n",
    "    store_df.append(data)   "
   ]
  },
  {
   "cell_type": "code",
   "execution_count": 91,
   "metadata": {
    "collapsed": false
   },
   "outputs": [],
   "source": [
    "df = pd.DataFrame(data=store_df, columns=['id','overall_avg',\n",
    "                                         'avg_run01','avg_run02',\n",
    "                                         'avg_run03'])"
   ]
  },
  {
   "cell_type": "code",
   "execution_count": 92,
   "metadata": {
    "collapsed": true
   },
   "outputs": [],
   "source": [
    "df.to_csv('task01_motion_norm_avg.csv', sep=',', index=None)"
   ]
  },
  {
   "cell_type": "code",
   "execution_count": null,
   "metadata": {
    "collapsed": true
   },
   "outputs": [],
   "source": []
  }
 ],
 "metadata": {
  "kernelspec": {
   "display_name": "Python 2",
   "language": "python",
   "name": "python2"
  },
  "language_info": {
   "codemirror_mode": {
    "name": "ipython",
    "version": 2
   },
   "file_extension": ".py",
   "mimetype": "text/x-python",
   "name": "python",
   "nbconvert_exporter": "python",
   "pygments_lexer": "ipython2",
   "version": "2.7.12"
  }
 },
 "nbformat": 4,
 "nbformat_minor": 0
}
