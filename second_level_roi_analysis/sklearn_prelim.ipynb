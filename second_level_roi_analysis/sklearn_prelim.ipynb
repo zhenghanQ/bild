{
 "cells": [
  {
   "cell_type": "code",
   "execution_count": 1,
   "metadata": {
    "collapsed": true
   },
   "outputs": [],
   "source": [
    "import os\n",
    "import numpy as np\n",
    "import pandas as pd"
   ]
  },
  {
   "cell_type": "code",
   "execution_count": 2,
   "metadata": {},
   "outputs": [
    {
     "name": "stdout",
     "output_type": "stream",
     "text": [
      "behav.txt                     fszstatcope2_means_nz.csv\r\n",
      "bild_roi_analysis.ipynb       fszstatcope2_nvoxels_all.csv\r\n",
      "fszstatcope2_means_all.csv    fszstatcope2_nvoxels_nz.csv\r\n"
     ]
    }
   ],
   "source": [
    "ls"
   ]
  },
  {
   "cell_type": "markdown",
   "metadata": {},
   "source": [
    "## loading and preprocessing data"
   ]
  },
  {
   "cell_type": "code",
   "execution_count": 10,
   "metadata": {},
   "outputs": [
    {
     "name": "stdout",
     "output_type": "stream",
     "text": [
      "1.0\n",
      "58\n",
      "True\n"
     ]
    }
   ],
   "source": [
    "voxels = pd.read_csv(\"fszstatcope2_nvoxels_nz.csv\", index_col=0)\n",
    "behav = pd.read_csv(\"behav.txt\", sep='\\t', index_col=0)\n",
    "print(np.mean(behav.index == voxels.index)) #should be 1.0\n",
    "idx_keep = (voxels.iloc[1,:] > 27).values\n",
    "voxels_g27 = voxels.iloc[:, idx_keep]\n",
    "string_search = [\"Vent\", \"Stem\", \"Cerebellum\", \"CSF\", \"White\", \"plexus\"]\n",
    "remove_feature_idx = []\n",
    "\n",
    "for idx, col in enumerate(voxels_g27.columns):\n",
    "    for ss in string_search:\n",
    "        if ss in col:\n",
    "            remove_feature_idx.append(idx)\n",
    "            \n",
    "remove_feature_idx = np.unique(remove_feature_idx)\n",
    "print(voxels_g27.shape[1] - remove_feature_idx.shape[0]) # should be 58\n",
    "voxels_data = voxels_g27.iloc[:, np.setdiff1d(np.arange(voxels_g27.shape[1]), remove_feature_idx)]\n",
    "roi_data = pd.read_csv(\"fszstatcope2_means_nz.csv\", index_col=0).loc[:, voxels_data.columns]\n",
    "print(np.all(roi_data.columns == voxels_data.columns)) # should be true"
   ]
  },
  {
   "cell_type": "markdown",
   "metadata": {},
   "source": [
    "## removing linear effect of covaries from roi data"
   ]
  },
  {
   "cell_type": "code",
   "execution_count": 11,
   "metadata": {
    "collapsed": true
   },
   "outputs": [],
   "source": [
    "def projection(data , covars):\n",
    "    \"\"\"for removing linear effect of covariates\"\"\"\n",
    "    X, C = data.values, covars.values\n",
    "    P = np.eye(C.shape[0]) - C.dot(np.linalg.pinv(C.T.dot(C))).dot(C.T)\n",
    "    return pd.DataFrame(P.dot(X), columns=data.columns, index=data.index)\n",
    "\n",
    "covar_columns = [\"gender\", \"iq\", \"outliers\", \"composite_motion\"]\n",
    "covariates = behav.loc[:, covar_columns]\n",
    "data = projection(roi_data, covariates)"
   ]
  },
  {
   "cell_type": "markdown",
   "metadata": {},
   "source": [
    "## unsupervised dimensionality reduction visualization\n",
    "\n",
    "conclusion: this says nothing"
   ]
  },
  {
   "cell_type": "code",
   "execution_count": 12,
   "metadata": {
    "collapsed": true
   },
   "outputs": [],
   "source": [
    "% matplotlib inline\n",
    "import matplotlib.pyplot as plt\n",
    "from sklearn import manifold\n",
    "import seaborn as sns"
   ]
  },
  {
   "cell_type": "code",
   "execution_count": 13,
   "metadata": {
    "scrolled": false
   },
   "outputs": [
    {
     "data": {
      "image/png": "[encoded data removed]",
      "text/plain": [
       "<matplotlib.figure.Figure at 0x112c10978>"
      ]
     },
     "metadata": {},
     "output_type": "display_data"
    }
   ],
   "source": [
    "X_r, err = manifold.locally_linear_embedding(\n",
    "    data.values, n_neighbors=6, n_components=2\n",
    ")\n",
    "\n",
    "ax=sns.pairplot(\n",
    "    x_vars=[\"one\"], \n",
    "    y_vars=[\"two\"], \n",
    "    data=pd.DataFrame(np.hstack((X_r, behav[\"young_kid\"].values[:, None])), columns=[\"one\", \"two\", \"type\"]), \n",
    "    hue=\"type\",\n",
    "    height=6, aspect=10/8.27\n",
    ")\n"
   ]
  },
  {
   "cell_type": "markdown",
   "metadata": {},
   "source": [
    "## quick first pass to see what the accuracy is - using all the data & overfitting"
   ]
  },
  {
   "cell_type": "code",
   "execution_count": 14,
   "metadata": {
    "collapsed": true
   },
   "outputs": [],
   "source": [
    "from sklearn import linear_model\n",
    "from sklearn.preprocessing import StandardScaler\n",
    "from sklearn.pipeline import Pipeline\n",
    "from sklearn.metrics import roc_auc_score"
   ]
  },
  {
   "cell_type": "code",
   "execution_count": 15,
   "metadata": {},
   "outputs": [
    {
     "name": "stdout",
     "output_type": "stream",
     "text": [
      "overfitting, all data classification score: 80.039 % correct\n"
     ]
    }
   ],
   "source": [
    "clf = Pipeline([\n",
    "    (\"scale\", StandardScaler()),\n",
    "    (\"lg\", linear_model.LogisticRegression())\n",
    "])\n",
    "\n",
    "clf.fit(data.values, behav.young_kid.values)\n",
    "\n",
    "print(\"overfitting, all data classification score: {} % correct\".format(\n",
    "    round(roc_auc_score(behav.young_kid.values, clf.predict(data.values))*100, 3)\n",
    "))"
   ]
  },
  {
   "cell_type": "markdown",
   "metadata": {},
   "source": [
    "## now overfitting using l1 regularization"
   ]
  },
  {
   "cell_type": "code",
   "execution_count": 16,
   "metadata": {},
   "outputs": [
    {
     "name": "stdout",
     "output_type": "stream",
     "text": [
      "overfitting, all data classification score: 78.039 % correct\n",
      "\n",
      "columns selected:\n",
      "1 ctx_lh_G_temp_sup-G_T_transv.nii.gz\n",
      "2 Left-Accumbens-area.nii.gz\n",
      "3 ctx_rh_G_oc-temp_med-Parahip.nii.gz\n",
      "4 Right-Accumbens-area.nii.gz\n",
      "5 ctx_rh_G_temp_sup-Lateral.nii.gz\n",
      "6 Left-Putamen.nii.gz\n",
      "7 ctx_lh_S_collat_transv_ant.nii.gz\n",
      "8 ctx_lh_Lat_Fis-post.nii.gz\n",
      "9 ctx_lh_G_temp_sup-Plan_polar.nii.gz\n",
      "10 ctx_rh_G_and_S_cingul-Ant.nii.gz\n",
      "11 ctx_rh_S_temporal_sup.nii.gz\n",
      "12 ctx_rh_Lat_Fis-post.nii.gz\n",
      "13 Right-Amygdala.nii.gz\n",
      "14 ctx_rh_G_postcentral.nii.gz\n",
      "15 Left-Thalamus-Proper.nii.gz\n",
      "16 ctx_rh_G_front_middle.nii.gz\n",
      "17 ctx_lh_G_temporal_inf.nii.gz\n",
      "18 ctx_rh_S_collat_transv_ant.nii.gz\n",
      "19 ctx_rh_G_temporal_inf.nii.gz\n",
      "20 ctx_rh_G_front_inf-Orbital.nii.gz\n",
      "21 ctx_rh_G_precentral.nii.gz\n",
      "22 ctx_rh_S_pericallosal.nii.gz\n",
      "23 Left-Caudate.nii.gz\n",
      "24 ctx_rh_S_front_middle.nii.gz\n",
      "25 ctx_rh_S_oc-temp_med_and_Lingual.nii.gz\n",
      "26 Right-Hippocampus.nii.gz\n",
      "27 ctx_rh_G_temp_sup-G_T_transv.nii.gz\n",
      "28 ctx_lh_S_suborbital.nii.gz\n"
     ]
    }
   ],
   "source": [
    "clf = Pipeline([\n",
    "    (\"scale\", StandardScaler()),\n",
    "    (\"lg\", linear_model.LogisticRegression(\n",
    "        penalty=\"l1\",\n",
    "        solver=\"liblinear\"\n",
    "    ))\n",
    "])\n",
    "\n",
    "clf.fit(data.values, behav.young_kid.values)\n",
    "\n",
    "print(\"overfitting, all data classification score: {} % correct\\n\".format(\n",
    "    round(roc_auc_score(behav.young_kid.values, clf.predict(data.values))*100, 3)\n",
    "))\n",
    "\n",
    "print(\"columns selected:\")\n",
    "for idx, col in enumerate(data.columns.values[(clf.named_steps[\"lg\"].coef_ != 0).ravel()]):\n",
    "    print(idx+1, col)"
   ]
  },
  {
   "cell_type": "markdown",
   "metadata": {
    "collapsed": true
   },
   "source": [
    "## rationale for why chance is not 50% for unbalanced classes, though I think ROC gets over this problem\n",
    "\n",
    "chance level is the probability of a random classifier picking the majority class, here this is $y = 1 = {51\\over{76}} \\approx 0.67$: \n",
    "\n",
    "$$P(chance) = P(\\hat y = 1)P(y = 1) + P(\\hat y = 0) + P(y = 0)$$\n",
    "\n",
    "according to this dataset: \n",
    "\n",
    "$$P(y = 1) \\approx 0.671$$\n",
    "$$P(y = 0) \\approx 0.3289$$\n",
    "\n",
    "so: \n",
    "\n",
    "$$P(\\hat y = 1)P(y = 1) + P(\\hat y = 0) + P(y = 0)$$\n",
    "\n",
    "$$\\approx 0.67 \\times 0.67 + 0.33 \\times 0.33$$\n",
    "$$\\approx 0.557$$"
   ]
  },
  {
   "cell_type": "markdown",
   "metadata": {},
   "source": [
    "## in a day or two i'll add the proper analysis"
   ]
  },
  {
   "cell_type": "code",
   "execution_count": null,
   "metadata": {
    "collapsed": true
   },
   "outputs": [],
   "source": []
  }
 ],
 "metadata": {
  "kernelspec": {
   "display_name": "Python 3",
   "language": "python",
   "name": "python3"
  },
  "language_info": {
   "codemirror_mode": {
    "name": "ipython",
    "version": 3
   },
   "file_extension": ".py",
   "mimetype": "text/x-python",
   "name": "python",
   "nbconvert_exporter": "python",
   "pygments_lexer": "ipython3",
   "version": "3.6.2"
  }
 },
 "nbformat": 4,
 "nbformat_minor": 2
}
