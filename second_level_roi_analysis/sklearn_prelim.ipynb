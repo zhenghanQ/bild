{
 "cells": [
  {
   "cell_type": "code",
   "execution_count": 1,
   "metadata": {
    "collapsed": true
   },
   "outputs": [],
   "source": [
    "import os\n",
    "import numpy as np\n",
    "import pandas as pd"
   ]
  },
  {
   "cell_type": "code",
   "execution_count": 2,
   "metadata": {},
   "outputs": [
    {
     "name": "stdout",
     "output_type": "stream",
     "text": [
      "behav.txt                     fszstatcope2_nvoxels_nz.csv\r\n",
      "fszstatcope2_means_all.csv    \u001b[34mgit\u001b[m\u001b[m/\r\n",
      "fszstatcope2_means_nz.csv     sklearn_prelim.ipynb\r\n",
      "fszstatcope2_nvoxels_all.csv\r\n"
     ]
    }
   ],
   "source": [
    "ls"
   ]
  },
  {
   "cell_type": "markdown",
   "metadata": {},
   "source": [
    "## loading and preprocessing data"
   ]
  },
  {
   "cell_type": "code",
   "execution_count": 3,
   "metadata": {},
   "outputs": [
    {
     "name": "stdout",
     "output_type": "stream",
     "text": [
      "1.0\n",
      "58\n",
      "True\n"
     ]
    }
   ],
   "source": [
    "voxels = pd.read_csv(\"fszstatcope2_nvoxels_nz.csv\", index_col=0)\n",
    "behav = pd.read_csv(\"behav.txt\", sep='\\t', index_col=0)\n",
    "print(np.mean(behav.index == voxels.index)) #should be 1.0\n",
    "voxels_g27 = voxels.iloc[:, (voxels.iloc[1,:] > 27).values]\n",
    "remove_feature_idx = []\n",
    "\n",
    "for idx, col in enumerate(voxels_g27.columns):\n",
    "    for ss in [\"Vent\", \"Stem\", \"Cerebellum\", \"CSF\", \"White\", \"plexus\"]:\n",
    "        if ss in col:\n",
    "            remove_feature_idx.append(idx)\n",
    "            \n",
    "remove_feature_idx = np.unique(remove_feature_idx)\n",
    "print(voxels_g27.shape[1] - remove_feature_idx.shape[0]) # should be 58\n",
    "voxels_data = voxels_g27.iloc[:, np.setdiff1d(np.arange(voxels_g27.shape[1]), remove_feature_idx)]\n",
    "roi_data = pd.read_csv(\"fszstatcope2_means_nz.csv\", index_col=0).loc[:, voxels_data.columns]\n",
    "print(np.all(roi_data.columns == voxels_data.columns)) # should be true"
   ]
  },
  {
   "cell_type": "markdown",
   "metadata": {},
   "source": [
    "## removing linear effect of covaries from roi data"
   ]
  },
  {
   "cell_type": "code",
   "execution_count": 4,
   "metadata": {
    "collapsed": true
   },
   "outputs": [],
   "source": [
    "def projection(data , covars):\n",
    "    \"\"\"for removing linear effect of covariates\"\"\"\n",
    "    X, C = data.values, covars.values\n",
    "    P = np.eye(C.shape[0]) - C.dot(np.linalg.pinv(C.T.dot(C))).dot(C.T)\n",
    "    return pd.DataFrame(P.dot(X), columns=data.columns, index=data.index)\n",
    "\n",
    "data = projection(roi_data, behav.loc[:, [\"gender\", \"iq\", \"outliers\", \"composite_motion\"]])"
   ]
  },
  {
   "cell_type": "markdown",
   "metadata": {},
   "source": [
    "## unsupervised dimensionality reduction visualization\n",
    "\n",
    "conclusion: this says nothing"
   ]
  },
  {
   "cell_type": "code",
   "execution_count": 5,
   "metadata": {
    "collapsed": true
   },
   "outputs": [],
   "source": [
    "% matplotlib inline\n",
    "import matplotlib.pyplot as plt\n",
    "from sklearn import manifold\n",
    "import seaborn as sns"
   ]
  },
  {
   "cell_type": "code",
   "execution_count": 6,
   "metadata": {
    "scrolled": false
   },
   "outputs": [
    {
     "data": {
      "image/png": "[encoded data removed]",
      "text/plain": [
       "<matplotlib.figure.Figure at 0x1a17776c88>"
      ]
     },
     "metadata": {},
     "output_type": "display_data"
    }
   ],
   "source": [
    "X_r, err = manifold.locally_linear_embedding(\n",
    "    data.values, n_neighbors=6, n_components=2\n",
    ")\n",
    "\n",
    "ax=sns.pairplot(\n",
    "    x_vars=[\"one\"], \n",
    "    y_vars=[\"two\"], \n",
    "    data=pd.DataFrame(np.hstack((X_r, behav[\"young_kid\"].values[:, None])), columns=[\"one\", \"two\", \"type\"]), \n",
    "    hue=\"type\",\n",
    "    height=6, aspect=10/8.27\n",
    ")\n"
   ]
  },
  {
   "cell_type": "markdown",
   "metadata": {},
   "source": [
    "## quick first pass to see what the accuracy is - using all the data & overfitting"
   ]
  },
  {
   "cell_type": "code",
   "execution_count": 7,
   "metadata": {
    "collapsed": true
   },
   "outputs": [],
   "source": [
    "from sklearn import linear_model\n",
    "from sklearn.preprocessing import StandardScaler\n",
    "from sklearn.pipeline import Pipeline\n",
    "from sklearn.metrics import roc_auc_score"
   ]
  },
  {
   "cell_type": "code",
   "execution_count": 8,
   "metadata": {},
   "outputs": [
    {
     "name": "stdout",
     "output_type": "stream",
     "text": [
      "overfitting, all data classification score: 80.039 % correct\n"
     ]
    }
   ],
   "source": [
    "clf = Pipeline([\n",
    "    (\"scale\", StandardScaler()),\n",
    "    (\"lg\", linear_model.LogisticRegression())\n",
    "])\n",
    "\n",
    "clf.fit(data.values, behav.young_kid.values)\n",
    "\n",
    "print(\"overfitting, all data classification score: {} % correct\".format(\n",
    "    round(roc_auc_score(behav.young_kid.values, clf.predict(data.values))*100, 3)\n",
    "))"
   ]
  },
  {
   "cell_type": "markdown",
   "metadata": {},
   "source": [
    "## now overfitting using l1 regularization"
   ]
  },
  {
   "cell_type": "code",
   "execution_count": 9,
   "metadata": {},
   "outputs": [
    {
     "name": "stdout",
     "output_type": "stream",
     "text": [
      "overfitting, all data classification score: 78.039 % correct\n",
      "\n",
      "columns selected:\n",
      "1 ctx_lh_G_temp_sup-G_T_transv.nii.gz\n",
      "2 Left-Accumbens-area.nii.gz\n",
      "3 ctx_rh_G_oc-temp_med-Parahip.nii.gz\n",
      "4 Right-Accumbens-area.nii.gz\n",
      "5 ctx_rh_G_temp_sup-Lateral.nii.gz\n",
      "6 Left-Putamen.nii.gz\n",
      "7 ctx_lh_S_collat_transv_ant.nii.gz\n",
      "8 ctx_lh_Lat_Fis-post.nii.gz\n",
      "9 ctx_lh_G_temp_sup-Plan_polar.nii.gz\n",
      "10 ctx_rh_G_and_S_cingul-Ant.nii.gz\n",
      "11 ctx_rh_S_temporal_sup.nii.gz\n",
      "12 ctx_rh_Lat_Fis-post.nii.gz\n",
      "13 Right-Amygdala.nii.gz\n",
      "14 ctx_rh_G_postcentral.nii.gz\n",
      "15 Left-Thalamus-Proper.nii.gz\n",
      "16 ctx_rh_G_front_middle.nii.gz\n",
      "17 ctx_lh_G_temporal_inf.nii.gz\n",
      "18 ctx_rh_S_collat_transv_ant.nii.gz\n",
      "19 ctx_rh_G_temporal_inf.nii.gz\n",
      "20 ctx_rh_G_front_inf-Orbital.nii.gz\n",
      "21 ctx_rh_G_precentral.nii.gz\n",
      "22 ctx_rh_S_pericallosal.nii.gz\n",
      "23 Left-Caudate.nii.gz\n",
      "24 ctx_rh_S_front_middle.nii.gz\n",
      "25 ctx_rh_S_oc-temp_med_and_Lingual.nii.gz\n",
      "26 Right-Hippocampus.nii.gz\n",
      "27 ctx_rh_G_temp_sup-G_T_transv.nii.gz\n",
      "28 ctx_lh_S_suborbital.nii.gz\n"
     ]
    }
   ],
   "source": [
    "clf = Pipeline([\n",
    "    (\"scale\", StandardScaler()),\n",
    "    (\"lg\", linear_model.LogisticRegression(\n",
    "        penalty=\"l1\",\n",
    "        solver=\"liblinear\"\n",
    "    ))\n",
    "])\n",
    "\n",
    "clf.fit(data.values, behav.young_kid.values)\n",
    "\n",
    "print(\"overfitting, all data classification score: {} % correct\\n\".format(\n",
    "    round(roc_auc_score(behav.young_kid.values, clf.predict(data.values))*100, 3)\n",
    "))\n",
    "\n",
    "print(\"columns selected:\")\n",
    "for idx, col in enumerate(data.columns.values[(clf.named_steps[\"lg\"].coef_ != 0).ravel()]):\n",
    "    print(idx+1, col)"
   ]
  },
  {
   "cell_type": "markdown",
   "metadata": {
    "collapsed": true
   },
   "source": [
    "## rationale for why chance is not 50% for unbalanced classes, though I think ROC gets over this problem\n",
    "\n",
    "chance level is the probability of a random classifier picking the majority class, here this is $y = 1 = {51\\over{76}} \\approx 0.67$: \n",
    "\n",
    "$$P(chance) = P(\\hat y = 1)P(y = 1) + P(\\hat y = 0)P(y = 0)$$\n",
    "\n",
    "according to this dataset: \n",
    "\n",
    "$$P(y = 1) \\approx 0.671$$\n",
    "\n",
    "$$P(y = 0) \\approx 0.3289$$\n",
    "\n",
    "so: \n",
    "\n",
    "$$P(\\hat y = 1)P(y = 1) + P(\\hat y = 0) + P(y = 0)$$\n",
    "\n",
    "$$\\approx 0.67\\times0.67 + 0.67\\times0.33$$\n",
    "\n",
    "$$\\approx 0.67$$"
   ]
  },
  {
   "cell_type": "markdown",
   "metadata": {},
   "source": [
    "## can group status be predicted using just the hippocampi rois"
   ]
  },
  {
   "cell_type": "code",
   "execution_count": 10,
   "metadata": {
    "collapsed": true
   },
   "outputs": [],
   "source": [
    "from sklearn import svm\n",
    "from sklearn.model_selection import cross_val_predict\n",
    "from sklearn.model_selection import ShuffleSplit, LeaveOneOut\n",
    "from sklearn import metrics\n",
    "from sklearn.model_selection import permutation_test_score"
   ]
  },
  {
   "cell_type": "code",
   "execution_count": 11,
   "metadata": {},
   "outputs": [
    {
     "name": "stdout",
     "output_type": "stream",
     "text": [
      "0.6710526315789473\n"
     ]
    }
   ],
   "source": [
    "clf = Pipeline([\n",
    "    (\"scale\", StandardScaler()),\n",
    "    (\"svc\", svm.SVC(\n",
    "        kernel=\"rbf\"\n",
    "    ))\n",
    "])\n",
    "\n",
    "X = data.loc[:, [\"Right-Hippocampus.nii.gz\", \"Left-Hippocampus.nii.gz\"]].values\n",
    "y = behav[\"young_kid\"].values\n",
    "\n",
    "pred_scores = np.zeros(X.shape[0])\n",
    "predicted = np.zeros(X.shape[0])\n",
    "true_class = np.zeros(X.shape[0])\n",
    "\n",
    "for idx, (train_idx, test_idx) in enumerate(LeaveOneOut().split(X)):\n",
    "    X_train, X_test = X[train_idx], X[test_idx]\n",
    "    y_train, y_test = y[train_idx], y[test_idx]\n",
    "    clf.fit(X_train, y_train)\n",
    "    predicted[idx], true_class[idx] = clf.predict(X_test), y_test\n",
    "    pred_scores[idx] = np.int64(predicted[idx] == true_class[idx])\n",
    "\n",
    "print(pred_scores.mean())"
   ]
  },
  {
   "cell_type": "code",
   "execution_count": 12,
   "metadata": {},
   "outputs": [],
   "source": [
    "score, permutation_scores, pvalue = permutation_test_score(\n",
    "    clf, X, y, scoring=\"accuracy\", cv=LeaveOneOut(), n_permutations=10000, n_jobs=1\n",
    ")"
   ]
  },
  {
   "cell_type": "code",
   "execution_count": 13,
   "metadata": {},
   "outputs": [
    {
     "data": {
      "text/plain": [
       "Text(0.5,0,'Score')"
      ]
     },
     "execution_count": 13,
     "metadata": {},
     "output_type": "execute_result"
    },
    {
     "data": {
      "image/png": "[encoded data removed]",
      "text/plain": [
       "<matplotlib.figure.Figure at 0x1a178a80b8>"
      ]
     },
     "metadata": {},
     "output_type": "display_data"
    }
   ],
   "source": [
    "from pylab import rcParams\n",
    "rcParams['figure.figsize'] = 10, 8\n",
    "\n",
    "plt.hist(permutation_scores, 20, label='Permutation scores', edgecolor='black')\n",
    "ylim = plt.ylim()\n",
    "plt.plot(2 * [score], ylim, '--g', linewidth=3, label='Classification Score (pvalue %s)' % pvalue)\n",
    "plt.plot([.67, .67], ylim, '--k', linewidth=3, label='Luck')\n",
    "plt.ylim(ylim)\n",
    "plt.legend()\n",
    "plt.xlabel('Score')"
   ]
  },
  {
   "cell_type": "markdown",
   "metadata": {},
   "source": [
    "# using a \"smarter\" strategy - using leaveoneout cv and shuffle split resampling stratified to 50/50 class labels"
   ]
  },
  {
   "cell_type": "code",
   "execution_count": 14,
   "metadata": {},
   "outputs": [],
   "source": [
    "def evensplit_resampler(y, n_resamples):\n",
    "    N, shuff_idx = y.shape[0], []\n",
    "    if N % 2 == 0:\n",
    "        class_one_N, class_two_N = N/2, N/2\n",
    "    else:\n",
    "        class_one_N = np.floor(N/2)\n",
    "        class_two_N = N - class_one_N\n",
    "    for idx in np.arange(n_resamples):\n",
    "        class_one_idx, class_two_idx = np.where(y == 1)[0], np.where(y == 0)[0]\n",
    "        idxs = np.array([\n",
    "            np.random.choice(class_one_idx, size=int(class_one_N), replace=True),\n",
    "            np.random.choice(class_two_idx, size=int(class_two_N), replace=True)\n",
    "        ]).ravel()\n",
    "        for shuff_iter in np.arange(10):\n",
    "            np.random.shuffle(idxs)\n",
    "        shuff_idx.append(idxs)\n",
    "    return shuff_idx"
   ]
  },
  {
   "cell_type": "code",
   "execution_count": 15,
   "metadata": {},
   "outputs": [],
   "source": [
    "cv_idxs = evensplit_resampler(y, 10000)"
   ]
  },
  {
   "cell_type": "code",
   "execution_count": 16,
   "metadata": {},
   "outputs": [],
   "source": [
    "clf = Pipeline([\n",
    "    (\"scale\", StandardScaler()),\n",
    "    (\"svc\", svm.SVC(\n",
    "        kernel=\"rbf\"\n",
    "    ))\n",
    "])\n",
    "\n",
    "accs_r1 = np.zeros(len(cv_idxs))\n",
    "\n",
    "for outer_idx, cidx in enumerate(cv_idxs):\n",
    "    X_resampled, y_resampled = X[cidx], y[cidx]\n",
    "    \n",
    "    pred_scores = np.zeros(X.shape[0])\n",
    "    predicted = np.zeros(X.shape[0])\n",
    "    true_class = np.zeros(X.shape[0])\n",
    "    \n",
    "    for idx, (train_idx, test_idx) in enumerate(LeaveOneOut().split(X_resampled)):\n",
    "        X_train, X_test = X_resampled[train_idx], X_resampled[test_idx]\n",
    "        y_train, y_test = y_resampled[train_idx], y_resampled[test_idx]\n",
    "        clf.fit(X_train, y_train)\n",
    "        predicted[idx], true_class[idx] = clf.predict(X_test), y_test\n",
    "        pred_scores[idx] = np.int64(predicted[idx] == true_class[idx])\n",
    "    \n",
    "    accs_r1[outer_idx] = pred_scores.mean()"
   ]
  },
  {
   "cell_type": "code",
   "execution_count": 18,
   "metadata": {},
   "outputs": [
    {
     "data": {
      "text/plain": [
       "Text(0.5,0,'Score')"
      ]
     },
     "execution_count": 18,
     "metadata": {},
     "output_type": "execute_result"
    },
    {
     "data": {
      "image/png": "[encoded data removed]",
      "text/plain": [
       "<matplotlib.figure.Figure at 0x1a178a61d0>"
      ]
     },
     "metadata": {},
     "output_type": "display_data"
    }
   ],
   "source": [
    "plt.hist(accs_r1, bins=50, label='Resampled scores', edgecolor='black')\n",
    "ylim = plt.ylim()\n",
    "plt.plot(2 * [accs_r1.mean()], ylim, '--g', linewidth=3, label=\"Permuted scores mean\")\n",
    "plt.plot([.5, .5], ylim, '--k', linewidth=3, label='Luck')\n",
    "plt.ylim(ylim)\n",
    "plt.legend()\n",
    "plt.xlabel('Score')"
   ]
  },
  {
   "cell_type": "code",
   "execution_count": 19,
   "metadata": {},
   "outputs": [
    {
     "data": {
      "text/plain": [
       "0.5660486842105263"
      ]
     },
     "execution_count": 19,
     "metadata": {},
     "output_type": "execute_result"
    }
   ],
   "source": [
    "np.mean(accs_r1)"
   ]
  },
  {
   "cell_type": "markdown",
   "metadata": {},
   "source": [
    "## checking to see if the addition of quadratic features helps at all"
   ]
  },
  {
   "cell_type": "code",
   "execution_count": 20,
   "metadata": {},
   "outputs": [],
   "source": [
    "X_poly2 = np.hstack((X, X**2))\n",
    "\n",
    "accs_r2 = np.zeros(len(cv_idxs))\n",
    "\n",
    "for outer_idx, cidx in enumerate(cv_idxs):\n",
    "    X_resampled, y_resampled = X_poly2[cidx], y[cidx]\n",
    "    \n",
    "    pred_scores = np.zeros(X.shape[0])\n",
    "    predicted = np.zeros(X.shape[0])\n",
    "    true_class = np.zeros(X.shape[0])\n",
    "    \n",
    "    for idx, (train_idx, test_idx) in enumerate(LeaveOneOut().split(X_resampled)):\n",
    "        X_train, X_test = X_resampled[train_idx], X_resampled[test_idx]\n",
    "        y_train, y_test = y_resampled[train_idx], y_resampled[test_idx]\n",
    "        clf.fit(X_train, y_train)\n",
    "        predicted[idx], true_class[idx] = clf.predict(X_test), y_test\n",
    "        pred_scores[idx] = np.int64(predicted[idx] == true_class[idx])\n",
    "    \n",
    "    accs_r2[outer_idx] = pred_scores.mean()"
   ]
  },
  {
   "cell_type": "code",
   "execution_count": 21,
   "metadata": {},
   "outputs": [
    {
     "data": {
      "text/plain": [
       "Text(0.5,0,'Score')"
      ]
     },
     "execution_count": 21,
     "metadata": {},
     "output_type": "execute_result"
    },
    {
     "data": {
      "image/png": "[encoded data removed]",
      "text/plain": [
       "<matplotlib.figure.Figure at 0x1a180a3c18>"
      ]
     },
     "metadata": {},
     "output_type": "display_data"
    }
   ],
   "source": [
    "plt.hist(accs_r2, bins=50, label='Resampled scores', edgecolor='black')\n",
    "ylim = plt.ylim()\n",
    "plt.plot(2 * [accs_r2.mean()], ylim, '--g', linewidth=3, label=\"Resampled scores mean\")\n",
    "plt.plot([.5, .5], ylim, '--k', linewidth=3, label='Luck')\n",
    "plt.ylim(ylim)\n",
    "plt.legend()\n",
    "plt.xlabel('Score')"
   ]
  },
  {
   "cell_type": "code",
   "execution_count": 23,
   "metadata": {},
   "outputs": [
    {
     "name": "stdout",
     "output_type": "stream",
     "text": [
      "mean score: 0.5735263157894737\n",
      "p-value if assuming the mean is the true score: 0.005678\n"
     ]
    }
   ],
   "source": [
    "print( \"mean score: {mean_acc}\\np-value if assuming the mean is the true score: {pval}\".format(\n",
    "    mean_acc=np.mean(accs_r2),\n",
    "    pval=(sum(accs_r2 >= np.mean(accs_r2)) + 1) / (1*10e5)\n",
    "))"
   ]
  },
  {
   "cell_type": "markdown",
   "metadata": {},
   "source": [
    "## ok, let's build a \"consistency map\" using l1-regularized logistic regression to see which of the 58 features are chosen across many iterations of a classification"
   ]
  },
  {
   "cell_type": "code",
   "execution_count": 68,
   "metadata": {},
   "outputs": [
    {
     "name": "stdout",
     "output_type": "stream",
     "text": [
      "76: samples, 58: features\n"
     ]
    }
   ],
   "source": [
    "from sklearn.model_selection import StratifiedKFold\n",
    "X = data.values; print(\"{}: samples, {}: features\".format(*X.shape))\n",
    "cv_idxs = evensplit_resampler(y, 10000)"
   ]
  },
  {
   "cell_type": "code",
   "execution_count": 69,
   "metadata": {},
   "outputs": [],
   "source": [
    "clf = Pipeline([\n",
    "    (\"scale\", StandardScaler()),\n",
    "    (\"lg\", linear_model.LogisticRegressionCV(\n",
    "        penalty=\"l1\",\n",
    "        solver=\"liblinear\",\n",
    "        cv=StratifiedKFold(n_splits=5)\n",
    "    ))\n",
    "])\n",
    "\n",
    "accs_r3 = np.zeros(len(cv_idxs))\n",
    "mean_n_chosen = []\n",
    "coefs = []\n",
    "intersection_per_resample_coef = []\n",
    "\n",
    "def id_intersect(data):\n",
    "    ids = set(data[0]).intersection(*data)\n",
    "    return np.array(list(ids))"
   ]
  },
  {
   "cell_type": "code",
   "execution_count": 71,
   "metadata": {
    "scrolled": true
   },
   "outputs": [],
   "source": [
    "for outer_idx, cidx in enumerate(cv_idxs):\n",
    "    X_resampled, y_resampled = X[cidx], y[cidx]\n",
    "    \n",
    "    inner_accs = []\n",
    "    inner_n_chosen = []\n",
    "    inner_coefs = []\n",
    "    \n",
    "    for idx, (train_idx, test_idx) in enumerate(StratifiedKFold(n_splits=2).split(X_resampled, y_resampled)):\n",
    "        X_train, X_test = X_resampled[train_idx], X_resampled[test_idx]\n",
    "        y_train, y_test = y_resampled[train_idx], y_resampled[test_idx]\n",
    "        clf.fit(X_train, y_train)\n",
    "        all_inner_coef = clf.named_steps[\"lg\"].coef_.ravel()\n",
    "        coefs.append(all_inner_coef)\n",
    "        inner_accs.append(metrics.accuracy_score(y_test, clf.predict(X_test)))\n",
    "        coef_nonzero = all_inner_coef != 0\n",
    "        inner_n_chosen.append(np.sum(coef_nonzero))\n",
    "        inner_coefs.append(data.columns[coef_nonzero].values)\n",
    "    \n",
    "    intersection_per_resample_coef.append(id_intersect(inner_coefs))\n",
    "    mean_n_chosen.append(np.mean(inner_n_chosen))\n",
    "    accs_r3[outer_idx] = np.mean(inner_accs)"
   ]
  },
  {
   "cell_type": "code",
   "execution_count": 72,
   "metadata": {},
   "outputs": [
    {
     "data": {
      "text/plain": [
       "Text(0.5,0,'Score')"
      ]
     },
     "execution_count": 72,
     "metadata": {},
     "output_type": "execute_result"
    },
    {
     "data": {
      "image/png": "[encoded data removed]",
      "text/plain": [
       "<matplotlib.figure.Figure at 0x1a17edc160>"
      ]
     },
     "metadata": {},
     "output_type": "display_data"
    }
   ],
   "source": [
    "plt.hist(accs_r3, bins=30, label='Resampled mean cross validated test scores', edgecolor='black')\n",
    "ylim = plt.ylim()\n",
    "plt.plot(2 * [accs_r3.mean()], ylim, '--g', linewidth=3, label=\"Resamples scores mean\")\n",
    "plt.plot([.5, .5], ylim, '--k', linewidth=3, label='Luck')\n",
    "plt.ylim(ylim)\n",
    "plt.legend()\n",
    "plt.xlabel('Score')"
   ]
  },
  {
   "cell_type": "code",
   "execution_count": null,
   "metadata": {},
   "outputs": [],
   "source": [
    "(sum(accs > .5)+1) / (10e5+1)"
   ]
  },
  {
   "cell_type": "code",
   "execution_count": 74,
   "metadata": {
    "collapsed": true
   },
   "outputs": [],
   "source": [
    "features = []\n",
    "for c in coefs:\n",
    "    c_idx = c != 0\n",
    "    features.append(data.columns[c_idx].values)"
   ]
  },
  {
   "cell_type": "code",
   "execution_count": 75,
   "metadata": {},
   "outputs": [],
   "source": [
    "from collections import Counter"
   ]
  },
  {
   "cell_type": "code",
   "execution_count": 76,
   "metadata": {},
   "outputs": [],
   "source": [
    "total_possible = 20000\n",
    "counts = Counter([i for x in features for i in x])"
   ]
  },
  {
   "cell_type": "code",
   "execution_count": 77,
   "metadata": {},
   "outputs": [
    {
     "data": {
      "text/plain": [
       "Counter({'Right-Thalamus-Proper.nii.gz': 9827,\n",
       "         'ctx_rh_S_orbital-H_Shaped.nii.gz': 9704,\n",
       "         'Left-Putamen.nii.gz': 10956,\n",
       "         'ctx_lh_G_temporal_middle.nii.gz': 11113,\n",
       "         'ctx_lh_Lat_Fis-post.nii.gz': 11114,\n",
       "         'ctx_lh_G_temp_sup-Plan_polar.nii.gz': 10745,\n",
       "         'ctx_rh_G_and_S_cingul-Ant.nii.gz': 9642,\n",
       "         'ctx_rh_G_temporal_middle.nii.gz': 8625,\n",
       "         'ctx_rh_G_postcentral.nii.gz': 14508,\n",
       "         'ctx_rh_S_collat_transv_ant.nii.gz': 8533,\n",
       "         'ctx_lh_G_precentral.nii.gz': 10623,\n",
       "         'ctx_rh_G_and_S_transv_frontopol.nii.gz': 10195,\n",
       "         'ctx_rh_S_pericallosal.nii.gz': 10477,\n",
       "         'ctx_rh_S_front_middle.nii.gz': 10492,\n",
       "         'Right-Hippocampus.nii.gz': 8329,\n",
       "         'ctx_lh_G_temp_sup-Plan_tempo.nii.gz': 8218,\n",
       "         'ctx_lh_S_temporal_sup.nii.gz': 7877,\n",
       "         'ctx_lh_G_temp_sup-G_T_transv.nii.gz': 9078,\n",
       "         'Left-Accumbens-area.nii.gz': 7981,\n",
       "         'Right-Accumbens-area.nii.gz': 9462,\n",
       "         'ctx_rh_S_temporal_transverse.nii.gz': 8018,\n",
       "         'ctx_rh_G_temp_sup-Plan_polar.nii.gz': 8996,\n",
       "         'ctx_lh_S_collat_transv_ant.nii.gz': 10486,\n",
       "         'Right-Putamen.nii.gz': 7942,\n",
       "         'ctx_lh_G_oc-temp_med-Parahip.nii.gz': 8254,\n",
       "         'ctx_lh_G_temp_sup-Lateral.nii.gz': 8102,\n",
       "         'ctx_rh_G_orbital.nii.gz': 8773,\n",
       "         'ctx_rh_Lat_Fis-post.nii.gz': 9101,\n",
       "         'ctx_rh_S_circular_insula_inf.nii.gz': 8639,\n",
       "         'Right-Amygdala.nii.gz': 9621,\n",
       "         'ctx_lh_S_front_sup.nii.gz': 10406,\n",
       "         'ctx_lh_G_temporal_inf.nii.gz': 10359,\n",
       "         'ctx_rh_G_front_inf-Orbital.nii.gz': 11387,\n",
       "         'ctx_rh_S_temporal_inf.nii.gz': 8228,\n",
       "         'ctx_rh_G_precentral.nii.gz': 10535,\n",
       "         'Left-Caudate.nii.gz': 12087,\n",
       "         'ctx_rh_S_oc-temp_med_and_Lingual.nii.gz': 8684,\n",
       "         'ctx_rh_G_temp_sup-G_T_transv.nii.gz': 9768,\n",
       "         'ctx_lh_S_circular_insula_inf.nii.gz': 8980,\n",
       "         'ctx_lh_S_suborbital.nii.gz': 12489,\n",
       "         'ctx_lh_G_front_middle.nii.gz': 7734,\n",
       "         'ctx_lh_S_temporal_inf.nii.gz': 8872,\n",
       "         'Right-Caudate.nii.gz': 9977,\n",
       "         'ctx_lh_G_subcallosal.nii.gz': 7623,\n",
       "         'Left-Amygdala.nii.gz': 8855,\n",
       "         'ctx_rh_G_oc-temp_med-Parahip.nii.gz': 10148,\n",
       "         'ctx_rh_G_temp_sup-Lateral.nii.gz': 11468,\n",
       "         'ctx_lh_G_and_S_cingul-Ant.nii.gz': 9104,\n",
       "         'ctx_lh_S_temporal_transverse.nii.gz': 9119,\n",
       "         'Left-Thalamus-Proper.nii.gz': 10235,\n",
       "         'ctx_rh_G_front_middle.nii.gz': 8299,\n",
       "         'ctx_rh_G_temp_sup-Plan_tempo.nii.gz': 7202,\n",
       "         'ctx_rh_G_temporal_inf.nii.gz': 9590,\n",
       "         'ctx_lh_G_front_sup.nii.gz': 7352,\n",
       "         'Left-Hippocampus.nii.gz': 8270,\n",
       "         'ctx_rh_G_front_sup.nii.gz': 6609,\n",
       "         'ctx_rh_S_temporal_sup.nii.gz': 8597,\n",
       "         'ctx_rh_G_subcallosal.nii.gz': 8990})"
      ]
     },
     "execution_count": 77,
     "metadata": {},
     "output_type": "execute_result"
    }
   ],
   "source": [
    "counts"
   ]
  },
  {
   "cell_type": "code",
   "execution_count": 80,
   "metadata": {},
   "outputs": [],
   "source": [
    "inter_counts = Counter([i for x in intersection_per_resample_coef for i in x])"
   ]
  },
  {
   "cell_type": "code",
   "execution_count": 81,
   "metadata": {},
   "outputs": [
    {
     "data": {
      "text/plain": [
       "Counter({'ctx_rh_G_postcentral.nii.gz': 5269,\n",
       "         'ctx_lh_Lat_Fis-post.nii.gz': 3081,\n",
       "         'Right-Thalamus-Proper.nii.gz': 2414,\n",
       "         'ctx_lh_G_temporal_middle.nii.gz': 3084,\n",
       "         'ctx_rh_G_and_S_transv_frontopol.nii.gz': 2554,\n",
       "         'Left-Putamen.nii.gz': 3057,\n",
       "         'ctx_rh_S_pericallosal.nii.gz': 2761,\n",
       "         'ctx_rh_S_front_middle.nii.gz': 2758,\n",
       "         'ctx_rh_G_front_inf-Orbital.nii.gz': 3214,\n",
       "         'ctx_rh_G_and_S_cingul-Ant.nii.gz': 2332,\n",
       "         'ctx_lh_G_temp_sup-Plan_tempo.nii.gz': 1706,\n",
       "         'Right-Hippocampus.nii.gz': 1713,\n",
       "         'Right-Accumbens-area.nii.gz': 2241,\n",
       "         'ctx_lh_S_collat_transv_ant.nii.gz': 2740,\n",
       "         'ctx_rh_G_temp_sup-Plan_polar.nii.gz': 2037,\n",
       "         'ctx_rh_G_temporal_middle.nii.gz': 1904,\n",
       "         'ctx_rh_G_temp_sup-Lateral.nii.gz': 3269,\n",
       "         'ctx_lh_G_temp_sup-Plan_polar.nii.gz': 2859,\n",
       "         'ctx_rh_S_oc-temp_med_and_Lingual.nii.gz': 1892,\n",
       "         'ctx_lh_S_suborbital.nii.gz': 3931,\n",
       "         'Left-Thalamus-Proper.nii.gz': 2592,\n",
       "         'ctx_lh_S_front_sup.nii.gz': 2725,\n",
       "         'ctx_rh_G_subcallosal.nii.gz': 2058,\n",
       "         'Right-Putamen.nii.gz': 1603,\n",
       "         'ctx_rh_Lat_Fis-post.nii.gz': 2069,\n",
       "         'ctx_lh_G_front_sup.nii.gz': 1338,\n",
       "         'ctx_lh_G_and_S_cingul-Ant.nii.gz': 2040,\n",
       "         'Left-Caudate.nii.gz': 3653,\n",
       "         'ctx_lh_S_temporal_inf.nii.gz': 1966,\n",
       "         'ctx_lh_G_temp_sup-G_T_transv.nii.gz': 2021,\n",
       "         'ctx_lh_G_precentral.nii.gz': 2830,\n",
       "         'ctx_rh_G_temp_sup-Plan_tempo.nii.gz': 1289,\n",
       "         'Right-Caudate.nii.gz': 2492,\n",
       "         'ctx_rh_S_temporal_sup.nii.gz': 1838,\n",
       "         'ctx_lh_G_subcallosal.nii.gz': 1435,\n",
       "         'ctx_rh_S_circular_insula_inf.nii.gz': 1833,\n",
       "         'ctx_rh_G_orbital.nii.gz': 1925,\n",
       "         'ctx_lh_G_temp_sup-Lateral.nii.gz': 1638,\n",
       "         'ctx_rh_S_orbital-H_Shaped.nii.gz': 2370,\n",
       "         'ctx_lh_S_temporal_sup.nii.gz': 1544,\n",
       "         'Left-Accumbens-area.nii.gz': 1594,\n",
       "         'ctx_lh_G_front_middle.nii.gz': 1496,\n",
       "         'ctx_rh_G_temp_sup-G_T_transv.nii.gz': 2408,\n",
       "         'ctx_rh_G_front_middle.nii.gz': 1701,\n",
       "         'ctx_rh_G_oc-temp_med-Parahip.nii.gz': 2590,\n",
       "         'ctx_rh_G_temporal_inf.nii.gz': 2304,\n",
       "         'ctx_rh_S_temporal_inf.nii.gz': 1691,\n",
       "         'Left-Amygdala.nii.gz': 1967,\n",
       "         'ctx_rh_G_precentral.nii.gz': 2785,\n",
       "         'ctx_lh_G_temporal_inf.nii.gz': 2658,\n",
       "         'Left-Hippocampus.nii.gz': 1724,\n",
       "         'ctx_rh_S_collat_transv_ant.nii.gz': 1815,\n",
       "         'ctx_lh_G_oc-temp_med-Parahip.nii.gz': 1716,\n",
       "         'ctx_lh_S_circular_insula_inf.nii.gz': 2019,\n",
       "         'Right-Amygdala.nii.gz': 2328,\n",
       "         'ctx_rh_G_front_sup.nii.gz': 1085,\n",
       "         'ctx_rh_S_temporal_transverse.nii.gz': 1558,\n",
       "         'ctx_lh_S_temporal_transverse.nii.gz': 2074})"
      ]
     },
     "execution_count": 81,
     "metadata": {},
     "output_type": "execute_result"
    }
   ],
   "source": [
    "inter_counts"
   ]
  },
  {
   "cell_type": "code",
   "execution_count": null,
   "metadata": {
    "collapsed": true
   },
   "outputs": [],
   "source": []
  }
 ],
 "metadata": {
  "kernelspec": {
   "display_name": "Python 3",
   "language": "python",
   "name": "python3"
  },
  "language_info": {
   "codemirror_mode": {
    "name": "ipython",
    "version": 3
   },
   "file_extension": ".py",
   "mimetype": "text/x-python",
   "name": "python",
   "nbconvert_exporter": "python",
   "pygments_lexer": "ipython3",
   "version": "3.6.2"
  }
 },
 "nbformat": 4,
 "nbformat_minor": 2
}
