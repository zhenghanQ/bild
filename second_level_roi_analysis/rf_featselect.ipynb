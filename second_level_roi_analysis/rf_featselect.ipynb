{
 "cells": [
  {
   "cell_type": "code",
   "execution_count": 1,
   "metadata": {
    "collapsed": true
   },
   "outputs": [],
   "source": [
    "import os\n",
    "import numpy as np\n",
    "import pandas as pd\n",
    "\n",
    "% matplotlib inline\n",
    "import matplotlib.pyplot as plt\n",
    "from sklearn import manifold\n",
    "import seaborn as sns\n",
    "\n",
    "from sklearn.preprocessing import StandardScaler\n",
    "from sklearn.pipeline import Pipeline\n",
    "from sklearn.metrics import roc_auc_score\n",
    "\n",
    "from sklearn.model_selection import cross_val_predict\n",
    "from sklearn.model_selection import ShuffleSplit, LeaveOneOut\n",
    "from sklearn.metrics import explained_variance_score\n",
    "from sklearn.model_selection import permutation_test_score\n",
    "\n",
    "from sklearn.model_selection import StratifiedKFold\n",
    "from sklearn.ensemble import RandomForestClassifier, RandomForestRegressor\n",
    "from sklearn.feature_selection import SelectFromModel"
   ]
  },
  {
   "cell_type": "code",
   "execution_count": 2,
   "metadata": {},
   "outputs": [
    {
     "name": "stdout",
     "output_type": "stream",
     "text": [
      "1.0\n",
      "58\n",
      "True\n"
     ]
    }
   ],
   "source": [
    "voxels = pd.read_csv(\"fszstatcope2_nvoxels_nz.csv\", index_col=0)\n",
    "behav = pd.read_csv(\"behav.txt\", sep='\\t', index_col=0)\n",
    "print(np.mean(behav.index == voxels.index)) #should be 1.0\n",
    "voxels_g27 = voxels.iloc[:, (voxels.iloc[1,:] > 27).values]\n",
    "remove_feature_idx = []\n",
    "\n",
    "for idx, col in enumerate(voxels_g27.columns):\n",
    "    for ss in [\"Vent\", \"Stem\", \"Cerebellum\", \"CSF\", \"White\", \"plexus\"]:\n",
    "        if ss in col:\n",
    "            remove_feature_idx.append(idx)\n",
    "            \n",
    "remove_feature_idx = np.unique(remove_feature_idx)\n",
    "print(voxels_g27.shape[1] - remove_feature_idx.shape[0]) # should be 58\n",
    "voxels_data = voxels_g27.iloc[:, np.setdiff1d(np.arange(voxels_g27.shape[1]), remove_feature_idx)]\n",
    "roi_data = pd.read_csv(\"fszstatcope2_means_nz.csv\", index_col=0).loc[:, voxels_data.columns]\n",
    "print(np.all(roi_data.columns == voxels_data.columns)) # should be true\n",
    "\n",
    "# validation set\n",
    "vset_roi_data = pd.read_csv(\"fszstatcope2_means_nz_valset.csv\", index_col=0).loc[:, voxels_data.columns]\n",
    "vset_voxel_data = pd.read_csv(\"fszstatcope2_nvoxels_nz_valset.csv\", index_col=0).loc[:, voxels_data.columns]\n",
    "vbehav = pd.read_csv(\"valset_behav.csv\", index_col=0)"
   ]
  },
  {
   "cell_type": "code",
   "execution_count": 3,
   "metadata": {
    "collapsed": true
   },
   "outputs": [],
   "source": [
    "def projection(data , covars):\n",
    "    \"\"\"for removing linear effect of covariates\"\"\"\n",
    "    X, C = data.values, covars.values\n",
    "    P = np.eye(C.shape[0]) - C.dot(np.linalg.pinv(C.T.dot(C))).dot(C.T)\n",
    "    return pd.DataFrame(P.dot(X), columns=data.columns, index=data.index)\n",
    "\n",
    "data = projection(roi_data, behav.loc[:, [\"gender\", \"iq\", \"composite_motion\"]])\n",
    "vset_data = projection(vset_roi_data, vbehav.loc[:, [\"sex\",\"iq\", \"composite_motion\"]])"
   ]
  },
  {
   "cell_type": "code",
   "execution_count": 4,
   "metadata": {
    "collapsed": true
   },
   "outputs": [],
   "source": [
    "def evensplit_resampler(y, n_resamples):\n",
    "    N, shuff_idx = y.shape[0], []\n",
    "    if N % 2 == 0:\n",
    "        class_one_N, class_two_N = N/2, N/2\n",
    "    else:\n",
    "        class_one_N = np.floor(N/2)\n",
    "        class_two_N = N - class_one_N\n",
    "    for idx in np.arange(n_resamples):\n",
    "        class_one_idx, class_two_idx = np.where(y == 1)[0], np.where(y == 0)[0]\n",
    "        idxs = np.array([\n",
    "            np.random.choice(class_one_idx, size=int(class_one_N), replace=True),\n",
    "            np.random.choice(class_two_idx, size=int(class_two_N), replace=True)\n",
    "        ]).ravel()\n",
    "        for shuff_iter in np.arange(10):\n",
    "            np.random.shuffle(idxs)\n",
    "        shuff_idx.append(idxs)\n",
    "    return shuff_idx"
   ]
  },
  {
   "cell_type": "code",
   "execution_count": 5,
   "metadata": {
    "collapsed": true
   },
   "outputs": [],
   "source": [
    "X = data.values\n",
    "y = behav.young_kid.values\n",
    "\n",
    "results = {\n",
    "    \"pred\":[], \"ytrue\":[], \"nf\":[], \n",
    "    \"feature_names\":[], \"valset_score\":[]\n",
    "}"
   ]
  },
  {
   "cell_type": "code",
   "execution_count": 6,
   "metadata": {},
   "outputs": [],
   "source": [
    "thresh = 0.01\n",
    "cv = LeaveOneOut()\n",
    "clf = RandomForestClassifier()\n",
    "\n",
    "for idx, (train, test) in enumerate(cv.split(X, y)):\n",
    "    sfm = SelectFromModel(clf, threshold=thresh)\n",
    "    sfm.fit(X[train], y[train])\n",
    "    n_features = sfm.transform(X[train]).shape[1]\n",
    "    \n",
    "    while n_features > 10:\n",
    "        sfm.threshold += 0.01\n",
    "        X_transform = sfm.transform(X[train])\n",
    "        n_features = X_transform.shape[1]\n",
    "        \n",
    "    try:  \n",
    "        clf.fit(X_transform, y[train])\n",
    "        results[\"pred\"].append(clf.predict(sfm.transform(X[test])))\n",
    "        results[\"ytrue\"].append(y[test])\n",
    "        results[\"nf\"].append(n_features)\n",
    "        results[\"feature_names\"].append(data.columns.values[sfm.get_support()])\n",
    "        \n",
    "        results[\"valset_score\"].append(\n",
    "            roc_auc_score(\n",
    "                vbehav.young_kid.values,\n",
    "                clf.predict(sfm.transform(vset_data.values))\n",
    "            )\n",
    "        )\n",
    "    except:\n",
    "        pass\n"
   ]
  },
  {
   "cell_type": "code",
   "execution_count": 7,
   "metadata": {},
   "outputs": [
    {
     "data": {
      "text/plain": [
       "0.5713725490196079"
      ]
     },
     "execution_count": 7,
     "metadata": {},
     "output_type": "execute_result"
    }
   ],
   "source": [
    "roc_auc_score(\n",
    "    np.array(results[\"ytrue\"]).ravel(),\n",
    "    np.array(results[\"pred\"]).ravel()\n",
    ")"
   ]
  },
  {
   "cell_type": "code",
   "execution_count": 8,
   "metadata": {},
   "outputs": [],
   "source": [
    "from collections import Counter"
   ]
  },
  {
   "cell_type": "code",
   "execution_count": 9,
   "metadata": {},
   "outputs": [
    {
     "data": {
      "text/plain": [
       "Counter({'ctx_rh_G_oc-temp_med-Parahip.nii.gz': 9,\n",
       "         'ctx_lh_G_temp_sup-Plan_polar.nii.gz': 7,\n",
       "         'Right-Amygdala.nii.gz': 21,\n",
       "         'ctx_rh_G_front_middle.nii.gz': 36,\n",
       "         'ctx_rh_G_precentral.nii.gz': 45,\n",
       "         'ctx_lh_S_suborbital.nii.gz': 19,\n",
       "         'ctx_rh_S_orbital-H_Shaped.nii.gz': 43,\n",
       "         'ctx_lh_S_temporal_transverse.nii.gz': 29,\n",
       "         'ctx_rh_Lat_Fis-post.nii.gz': 9,\n",
       "         'ctx_rh_G_postcentral.nii.gz': 61,\n",
       "         'Right-Hippocampus.nii.gz': 4,\n",
       "         'ctx_lh_G_and_S_cingul-Ant.nii.gz': 21,\n",
       "         'ctx_rh_G_orbital.nii.gz': 16,\n",
       "         'ctx_rh_G_subcallosal.nii.gz': 4,\n",
       "         'ctx_lh_S_temporal_inf.nii.gz': 10,\n",
       "         'Left-Putamen.nii.gz': 8,\n",
       "         'ctx_lh_Lat_Fis-post.nii.gz': 16,\n",
       "         'ctx_lh_G_oc-temp_med-Parahip.nii.gz': 6,\n",
       "         'ctx_lh_G_front_middle.nii.gz': 8,\n",
       "         'Right-Caudate.nii.gz': 4,\n",
       "         'ctx_rh_G_temporal_middle.nii.gz': 8,\n",
       "         'ctx_lh_G_precentral.nii.gz': 14,\n",
       "         'ctx_rh_G_and_S_transv_frontopol.nii.gz': 5,\n",
       "         'ctx_rh_S_temporal_inf.nii.gz': 3,\n",
       "         'ctx_lh_S_collat_transv_ant.nii.gz': 4,\n",
       "         'ctx_rh_G_temp_sup-Lateral.nii.gz': 6,\n",
       "         'ctx_rh_G_temporal_inf.nii.gz': 6,\n",
       "         'ctx_rh_S_pericallosal.nii.gz': 8,\n",
       "         'ctx_lh_S_temporal_sup.nii.gz': 9,\n",
       "         'ctx_rh_S_oc-temp_med_and_Lingual.nii.gz': 5,\n",
       "         'Left-Hippocampus.nii.gz': 7,\n",
       "         'Right-Accumbens-area.nii.gz': 8,\n",
       "         'ctx_rh_G_front_sup.nii.gz': 7,\n",
       "         'ctx_lh_G_temp_sup-Lateral.nii.gz': 6,\n",
       "         'Left-Caudate.nii.gz': 5,\n",
       "         'ctx_rh_S_front_middle.nii.gz': 2,\n",
       "         'ctx_lh_G_subcallosal.nii.gz': 6,\n",
       "         'ctx_lh_G_temp_sup-G_T_transv.nii.gz': 8,\n",
       "         'ctx_rh_G_temp_sup-Plan_polar.nii.gz': 4,\n",
       "         'ctx_rh_S_circular_insula_inf.nii.gz': 10,\n",
       "         'ctx_rh_G_front_inf-Orbital.nii.gz': 4,\n",
       "         'Right-Putamen.nii.gz': 8,\n",
       "         'Left-Thalamus-Proper.nii.gz': 3,\n",
       "         'ctx_lh_G_temporal_inf.nii.gz': 3,\n",
       "         'ctx_rh_G_and_S_cingul-Ant.nii.gz': 3,\n",
       "         'ctx_rh_G_temp_sup-Plan_tempo.nii.gz': 2,\n",
       "         'ctx_lh_G_temp_sup-Plan_tempo.nii.gz': 6,\n",
       "         'ctx_lh_S_front_sup.nii.gz': 3,\n",
       "         'ctx_rh_G_temp_sup-G_T_transv.nii.gz': 10,\n",
       "         'ctx_lh_S_circular_insula_inf.nii.gz': 4,\n",
       "         'Left-Accumbens-area.nii.gz': 1,\n",
       "         'Left-Amygdala.nii.gz': 2,\n",
       "         'Right-Thalamus-Proper.nii.gz': 2,\n",
       "         'ctx_lh_G_temporal_middle.nii.gz': 2,\n",
       "         'ctx_rh_S_temporal_sup.nii.gz': 1})"
      ]
     },
     "execution_count": 9,
     "metadata": {},
     "output_type": "execute_result"
    }
   ],
   "source": [
    "Counter([i for x in results[\"feature_names\"] for i in x])"
   ]
  },
  {
   "cell_type": "code",
   "execution_count": 10,
   "metadata": {},
   "outputs": [
    {
     "data": {
      "text/plain": [
       "0.4531119465329991"
      ]
     },
     "execution_count": 10,
     "metadata": {},
     "output_type": "execute_result"
    }
   ],
   "source": [
    "np.mean(results[\"valset_score\"])"
   ]
  },
  {
   "cell_type": "code",
   "execution_count": null,
   "metadata": {
    "collapsed": true
   },
   "outputs": [],
   "source": []
  }
 ],
 "metadata": {
  "kernelspec": {
   "display_name": "Python 3",
   "language": "python",
   "name": "python3"
  },
  "language_info": {
   "codemirror_mode": {
    "name": "ipython",
    "version": 3
   },
   "file_extension": ".py",
   "mimetype": "text/x-python",
   "name": "python",
   "nbconvert_exporter": "python",
   "pygments_lexer": "ipython3",
   "version": "3.6.2"
  }
 },
 "nbformat": 4,
 "nbformat_minor": 2
}
