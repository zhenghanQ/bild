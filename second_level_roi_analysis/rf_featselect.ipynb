{
 "cells": [
  {
   "cell_type": "code",
   "execution_count": 1,
   "metadata": {
    "collapsed": true
   },
   "outputs": [],
   "source": [
    "import os\n",
    "import h5py\n",
    "import numpy as np\n",
    "import pandas as pd\n",
    "from collections import Counter\n",
    "\n",
    "% matplotlib inline\n",
    "import matplotlib.pyplot as plt\n",
    "\n",
    "from sklearn.metrics import roc_auc_score\n",
    "from sklearn.model_selection import LeaveOneOut, StratifiedKFold\n",
    "from sklearn.ensemble import RandomForestClassifier, GradientBoostingClassifier\n",
    "\n",
    "from sklearn.feature_selection import SelectFromModel\n",
    "from sklearn.preprocessing import StandardScaler\n",
    "\n",
    "from sklearn import linear_model\n",
    "from sklearn.pipeline import Pipeline"
   ]
  },
  {
   "cell_type": "markdown",
   "metadata": {},
   "source": [
    "# loading data and preprocessing"
   ]
  },
  {
   "cell_type": "code",
   "execution_count": 2,
   "metadata": {},
   "outputs": [
    {
     "name": "stdout",
     "output_type": "stream",
     "text": [
      "1.0\n",
      "58\n",
      "True\n"
     ]
    }
   ],
   "source": [
    "voxels = pd.read_csv(\"fszstatcope2_nvoxels_nz.csv\", index_col=0)\n",
    "behav = pd.read_csv(\"behav.txt\", sep='\\t', index_col=0)\n",
    "print(np.mean(behav.index == voxels.index)) #should be 1.0\n",
    "voxels_g27 = voxels.iloc[:, (voxels.iloc[1,:] > 27).values]\n",
    "remove_feature_idx = []\n",
    "\n",
    "for idx, col in enumerate(voxels_g27.columns):\n",
    "    for ss in [\"Vent\", \"Stem\", \"Cerebellum\", \"CSF\", \"White\", \"plexus\"]:\n",
    "        if ss in col:\n",
    "            remove_feature_idx.append(idx)\n",
    "            \n",
    "remove_feature_idx = np.unique(remove_feature_idx)\n",
    "print(voxels_g27.shape[1] - remove_feature_idx.shape[0]) # should be 58\n",
    "voxels_data = voxels_g27.iloc[:, np.setdiff1d(np.arange(voxels_g27.shape[1]), remove_feature_idx)]\n",
    "roi_data = pd.read_csv(\"fszstatcope2_means_nz.csv\", index_col=0).loc[:, voxels_data.columns]\n",
    "print(np.all(roi_data.columns == voxels_data.columns)) # should be true\n",
    "\n",
    "# validation set\n",
    "vset_roi_data = pd.read_csv(\"fszstatcope2_means_nz_valset.csv\", index_col=0).loc[:, voxels_data.columns]\n",
    "vset_voxel_data = pd.read_csv(\"fszstatcope2_nvoxels_nz_valset.csv\", index_col=0).loc[:, voxels_data.columns]\n",
    "vbehav = pd.read_csv(\"valset_behav.csv\", index_col=0)\n",
    "\n",
    "roi2g = roi_data[np.logical_or(behav.young_kid == 1, behav.adult == 1)]\n",
    "behav2g = behav[np.logical_or(behav.young_kid == 1, behav.adult == 1)]"
   ]
  },
  {
   "cell_type": "markdown",
   "metadata": {},
   "source": [
    "# removing linear effect of covariates"
   ]
  },
  {
   "cell_type": "code",
   "execution_count": 3,
   "metadata": {
    "collapsed": true
   },
   "outputs": [],
   "source": [
    "def projection(data , covars):\n",
    "    \"\"\"for removing linear effect of covariates\"\"\"\n",
    "    X, C = data.values, covars.values\n",
    "    P = np.eye(C.shape[0]) - C.dot(np.linalg.pinv(C.T.dot(C))).dot(C.T)\n",
    "    return pd.DataFrame(P.dot(X), columns=data.columns, index=data.index)\n",
    "\n",
    "data = projection(roi2g, behav2g.loc[:, [\"gender\", \"iq\", \"composite_motion\"]])\n",
    "vset_data = projection(vset_roi_data, vbehav.loc[:, [\"sex\",\"iq\", \"composite_motion\"]])"
   ]
  },
  {
   "cell_type": "markdown",
   "metadata": {},
   "source": [
    "# this defines the model that is run each time and some auxiliary functions"
   ]
  },
  {
   "cell_type": "code",
   "execution_count": null,
   "metadata": {
    "collapsed": true
   },
   "outputs": [],
   "source": [
    "def random_forest_model(data, y, thresh, cv, clf, max_feat=10):\n",
    "    X = data.values\n",
    "    results = dict(pred=[], ytrue=[], fi=[], fidx=[])\n",
    "    results_null = dict(pred=[], ytrue=[], fi=[], fidx=[])\n",
    "    \n",
    "    for idx, (train, test) in enumerate(cv.split(X, y)):\n",
    "        sfm = SelectFromModel(clf, threshold=thresh)\n",
    "        sfm.fit(X[train], y[train])\n",
    "        n_features = sfm.transform(X[train]).shape[1]\n",
    "        \n",
    "        while n_features > max_feat:\n",
    "            sfm.threshold += 0.01\n",
    "            X_transform = sfm.transform(X[train])\n",
    "            n_features = X_transform.shape[1]\n",
    "        \n",
    "        clf.fit(X_transform, y[train])\n",
    "        results[\"pred\"].append(clf.predict(sfm.transform(X[test])))\n",
    "        results[\"ytrue\"].append(y[test])\n",
    "        results[\"fi\"].append(clf.feature_importances_)\n",
    "        results[\"fidx\"].append(sfm.get_support())\n",
    "        \n",
    "        # this is to compute the null model\n",
    "        try:\n",
    "            y_shuff = np.copy(y[train])\n",
    "            np.random.shuffle(y_shuff)\n",
    "            clf.fit(X_transform, y_shuff)\n",
    "            results_null[\"pred\"].append(clf.predict(sfm.transform(X[test])))\n",
    "            results_null[\"ytrue\"].append(y[test])\n",
    "            results_null[\"fi\"].append(clf.feature_importances_)\n",
    "            results_null[\"fidx\"].append(sfm.get_support())\n",
    "        except:\n",
    "            print(\"couldn't compute null model\")\n",
    "        \n",
    "    \n",
    "    roc = roc_auc_score(np.array(results[\"ytrue\"]).ravel(), np.array(results[\"pred\"]).ravel())\n",
    "    \n",
    "    # this is to compute the null model\n",
    "    try:\n",
    "        roc_null = roc_auc_score(\n",
    "            np.array(results_null[\"ytrue\"]).ravel(),\n",
    "            np.array(results_null[\"pred\"]).ravel()\n",
    "        )\n",
    "    except:\n",
    "        print(\"couldn't compute null roc score\")\n",
    "        \n",
    "    return results, roc, results_null, roc_null\n",
    "\n",
    "def h5_save(path, data_obj, dts):\n",
    "    if len(data_obj) != len(dts):\n",
    "        print(\"something is wrong\")\n",
    "        return None\n",
    "    with h5py.File(path, \"w\") as data_store:\n",
    "        for idx, (key, val) in enumerate(data_obj.items()):\n",
    "            data_set = data_store.create_dataset(\n",
    "                key, val.shape, dtype=dts[idx]\n",
    "            )\n",
    "            data_set[...] = val\n",
    "    return path, data_obj.keys()\n",
    "    \n",
    "def h5_read(path, key):\n",
    "    with h5py.File(path, \"r\") as file_store:\n",
    "        data = file_store[key][...]\n",
    "    return data"
   ]
  },
  {
   "cell_type": "markdown",
   "metadata": {},
   "source": [
    "# set column selector"
   ]
  },
  {
   "cell_type": "code",
   "execution_count": 4,
   "metadata": {
    "collapsed": true
   },
   "outputs": [],
   "source": [
    "should_use = False\n",
    "\n",
    "if should_use:\n",
    "    use_idx = np.setdiff1d(np.arange(data.shape[1]), \n",
    "                           np.where(data.columns == \"ctx_lh_S_suborbital.nii.gz\")[0])\n",
    "else:\n",
    "    use_idx = np.arange(data.shape[1])"
   ]
  },
  {
   "cell_type": "markdown",
   "metadata": {},
   "source": [
    "# to get the average score so that to rule out uncertainty for performance "
   ]
  },
  {
   "cell_type": "code",
   "execution_count": 179,
   "metadata": {},
   "outputs": [
    {
     "name": "stdout",
     "output_type": "stream",
     "text": [
      "0\n",
      "1\n"
     ]
    }
   ],
   "source": [
    "n_iters = 2 # arbitrary\n",
    "N, P = data.shape\n",
    "rocs = np.zeros(n_iters)\n",
    "rocs_null = np.zeros(n_iters)\n",
    "bools = np.full((n_iters, N, P), False, dtype=bool)\n",
    "bools_null = np.full((n_iters, N, P), False, dtype=bool)\n",
    "imps = np.zeros((n_iters, N, P))\n",
    "imps_null = np.zeros((n_iters, N, P))\n",
    "failed_idxs = []\n",
    "\n",
    "class Storage(object):\n",
    "    def __init__(self, name, feature_index, feature_importance, _n, _p):\n",
    "        self.name = name\n",
    "        self.feature_index = feature_index,\n",
    "        self.feature_importance = feature_importance\n",
    "        self._n = _n\n",
    "        self._p = _p\n",
    "        \n",
    "    def make_bool_matrix(self):\n",
    "        bool_mat = np.array(\n",
    "            [self.feature_index[0][i] for \n",
    "            i in np.arange(len(self.feature_index[0]))]\n",
    "        )\n",
    "        return bool_mat\n",
    "    \n",
    "    def make_importance_matrix(self):\n",
    "        bool_mat = self.make_bool_matrix()\n",
    "        imp_mat = np.zeros((self._n, self._p))\n",
    "        \n",
    "        for idx in np.arange(self._n):\n",
    "            non_zeros = np.where(bool_mat[idx, :])\n",
    "            imp_mat[idx, non_zeros] = self.feature_importance[idx]\n",
    "            \n",
    "        return imp_mat\n",
    "    \n",
    "for idx in np.arange(n_iters):\n",
    "    clf = RandomForestClassifier(n_estimators=1000) # arbitrary\n",
    "    cv = LeaveOneOut() # arbitrary\n",
    "    max_feat = 10 # arbitrary\n",
    "    thresh = 0.01 # arbitrary\n",
    "    \n",
    "    try:\n",
    "        res, roc, res_null, roc_null = random_forest_model(\n",
    "            data.iloc[:, use_idx], behav2g.young_kid.values, thresh, cv, clf, max_feat\n",
    "        )\n",
    "        rocs[idx], rocs_null[idx] = roc, roc_null\n",
    "        s = Storage(\n",
    "            idx, \n",
    "            res[\"fidx\"],\n",
    "            res[\"fi\"],\n",
    "            N, \n",
    "            P\n",
    "        )\n",
    "        s_null = Storage(\n",
    "            idx,\n",
    "            res_null[\"fidx\"],\n",
    "            res_null[\"fi\"],\n",
    "            N,\n",
    "            P\n",
    "        )\n",
    "        bools[idx, :, :] = s.make_bool_matrix()\n",
    "        imps[idx, :, :] = s.make_importance_matrix()\n",
    "        bools_null[idx, :, :] = s_null.make_bool_matrix()\n",
    "        imps_null[idx, :, :] = s_null.make_importance_matrix()\n",
    "    except:\n",
    "        print(idx)\n",
    "        failed_idxs.append(idx)\n",
    "        pass"
   ]
  },
  {
   "cell_type": "code",
   "execution_count": 28,
   "metadata": {},
   "outputs": [
    {
     "data": {
      "text/plain": [
       "<matplotlib.legend.Legend at 0x1a1c3c6828>"
      ]
     },
     "execution_count": 28,
     "metadata": {},
     "output_type": "execute_result"
    },
    {
     "data": {
      "image/png": "[encoded data removed]",
      "text/plain": [
       "<matplotlib.figure.Figure at 0x1a1c3d1eb8>"
      ]
     },
     "metadata": {},
     "output_type": "display_data"
    }
   ],
   "source": [
    "plt.figure(figsize=(10, 6))\n",
    "plt.hist(rocs, edgecolor=\"black\")\n",
    "plt.hist(rocs_null, edgecolor=\"black\", alpha=.7)\n",
    "plt.axvline(rocs.mean(), ls=\"--\", color=\"purple\")\n",
    "plt.axvline(rocs_null.mean(), ls=\"--\", color=\"red\")\n",
    "plt.legend([\"alternative model mean = {}\".format(rocs.mean()),\n",
    "            \"null model mean = {}\".format(rocs_null.mean()),\n",
    "            \"alternative model\", \"null model\"])"
   ]
  },
  {
   "cell_type": "code",
   "execution_count": 180,
   "metadata": {},
   "outputs": [
    {
     "name": "stdout",
     "output_type": "stream",
     "text": [
      "0.3333333333333333\n"
     ]
    }
   ],
   "source": [
    "pvalue = (np.sum(rocs_null >= np.mean(rocs)) + 1.0) / (n_iters + 1.0)\n",
    "print(pvalue)"
   ]
  },
  {
   "cell_type": "markdown",
   "metadata": {},
   "source": [
    "# save everything"
   ]
  },
  {
   "cell_type": "code",
   "execution_count": 30,
   "metadata": {},
   "outputs": [
    {
     "name": "stdout",
     "output_type": "stream",
     "text": [
      "('yk_ok_results_with_nullmodel.h5py', dict_keys(['feat_idx', 'feat_imp', 'roc_score', 'null_feat_idx', 'null_feat_imp', 'null_rocs']))\n"
     ]
    }
   ],
   "source": [
    "save_path = \"yk_ok_results_with_nullmodel.h5py\"\n",
    "\n",
    "data_obj = dict(\n",
    "    feat_idx=bools, \n",
    "    feat_imp=imps, \n",
    "    roc_score=rocs,\n",
    "    null_feat_idx=bools_null,\n",
    "    null_feat_imp=imps_null, \n",
    "    null_rocs=rocs_null\n",
    ")\n",
    "\n",
    "dts = [np.bool, np.float64, np.float64, np.bool, np.float64, np.float64]\n",
    "\n",
    "print(h5_save(save_path, data_obj, dts))"
   ]
  },
  {
   "cell_type": "markdown",
   "metadata": {},
   "source": [
    "# logistic regression model"
   ]
  },
  {
   "cell_type": "code",
   "execution_count": 55,
   "metadata": {
    "collapsed": true
   },
   "outputs": [],
   "source": [
    "clf = Pipeline([\n",
    "    (\"scale\", StandardScaler()),\n",
    "    (\"lg\", linear_model.LogisticRegressionCV(\n",
    "        penalty=\"l1\",\n",
    "        solver=\"liblinear\",\n",
    "        cv=LeaveOneOut()\n",
    "    ))\n",
    "])\n",
    "\n",
    "cv_out = LeaveOneOut()\n",
    "yt, pred = [], []\n",
    "prednull = []\n",
    "coefs = []\n",
    "X = data.values\n",
    "y = np.copy(behav2g.young_kid.values)"
   ]
  },
  {
   "cell_type": "code",
   "execution_count": 49,
   "metadata": {
    "collapsed": true
   },
   "outputs": [],
   "source": [
    "for idx, (train, test) in enumerate(cv_out.split(X, y)):\n",
    "    # alternative model\n",
    "    clf.fit(X[train], y[train])\n",
    "    yt.append(y[test])\n",
    "    pred.append(clf.predict(X[test]))\n",
    "    # null model\n",
    "    yshuff = np.copy(y[train])\n",
    "    np.random.shuffle(yshuff)\n",
    "    clf.fit(X[train], yshuff)\n",
    "    prednull.append(clf.predict(X[test]))"
   ]
  },
  {
   "cell_type": "code",
   "execution_count": 50,
   "metadata": {},
   "outputs": [
    {
     "data": {
      "text/plain": [
       "0.38363636363636366"
      ]
     },
     "execution_count": 50,
     "metadata": {},
     "output_type": "execute_result"
    }
   ],
   "source": [
    "roc_auc_score(np.array(yt).ravel(), np.array(pred).ravel())"
   ]
  },
  {
   "cell_type": "code",
   "execution_count": 51,
   "metadata": {},
   "outputs": [
    {
     "data": {
      "text/plain": [
       "0.3927272727272727"
      ]
     },
     "execution_count": 51,
     "metadata": {},
     "output_type": "execute_result"
    }
   ],
   "source": [
    "roc_auc_score(np.array(yt).ravel(), np.array(prednull).ravel())"
   ]
  },
  {
   "cell_type": "markdown",
   "metadata": {},
   "source": [
    "# trying recursive feature elimination to make it more similar to the rf models"
   ]
  },
  {
   "cell_type": "code",
   "execution_count": 129,
   "metadata": {
    "collapsed": true
   },
   "outputs": [],
   "source": [
    "cv_out = LeaveOneOut()\n",
    "yt, pred = [], []\n",
    "feats = []\n",
    "clf = linear_model.LogisticRegression(penalty=\"l2\")"
   ]
  },
  {
   "cell_type": "code",
   "execution_count": 130,
   "metadata": {
    "collapsed": true
   },
   "outputs": [],
   "source": [
    "for train, test in cv_out.split(X, y):\n",
    "    selector = RFE(clf, 1, step=2)\n",
    "    selector = selector.fit(X[train], y[train])\n",
    "    feats.append(data.columns.values[selector.support_])\n",
    "    X_transformed = selector.transform(X[train])\n",
    "    clf_transf = linear_model.LogisticRegression()\n",
    "    clf_transf.fit(X_transformed, y[train])\n",
    "    yt.append(y[test])\n",
    "    pred.append(clf_transf.predict(selector.transform(X[test])))"
   ]
  },
  {
   "cell_type": "code",
   "execution_count": 131,
   "metadata": {},
   "outputs": [
    {
     "data": {
      "text/plain": [
       "0.33636363636363636"
      ]
     },
     "execution_count": 131,
     "metadata": {},
     "output_type": "execute_result"
    }
   ],
   "source": [
    "roc_auc_score(np.array(yt).ravel(), np.array(pred).ravel())"
   ]
  },
  {
   "cell_type": "code",
   "execution_count": 132,
   "metadata": {},
   "outputs": [
    {
     "data": {
      "text/plain": [
       "Counter({'ctx_rh_S_temporal_inf.nii.gz': 2,\n",
       "         'ctx_lh_G_temp_sup-Lateral.nii.gz': 2,\n",
       "         'ctx_rh_S_temporal_sup.nii.gz': 3,\n",
       "         'ctx_lh_G_temp_sup-G_T_transv.nii.gz': 21,\n",
       "         'ctx_lh_S_temporal_transverse.nii.gz': 3,\n",
       "         'ctx_lh_G_and_S_cingul-Ant.nii.gz': 1,\n",
       "         'ctx_lh_G_temp_sup-Plan_tempo.nii.gz': 2,\n",
       "         'ctx_rh_G_temp_sup-G_T_transv.nii.gz': 3,\n",
       "         'ctx_rh_G_oc-temp_med-Parahip.nii.gz': 1,\n",
       "         'ctx_lh_G_temporal_inf.nii.gz': 1,\n",
       "         'Right-Thalamus-Proper.nii.gz': 1,\n",
       "         'ctx_lh_S_collat_transv_ant.nii.gz': 1,\n",
       "         'ctx_rh_G_temporal_middle.nii.gz': 1,\n",
       "         'ctx_rh_Lat_Fis-post.nii.gz': 3,\n",
       "         'Right-Putamen.nii.gz': 1,\n",
       "         'Left-Putamen.nii.gz': 1})"
      ]
     },
     "execution_count": 132,
     "metadata": {},
     "output_type": "execute_result"
    }
   ],
   "source": [
    "Counter(np.array(feats).ravel())"
   ]
  },
  {
   "cell_type": "markdown",
   "metadata": {},
   "source": [
    "# testing the predictive power of the most selected features with rf on the validation set"
   ]
  },
  {
   "cell_type": "code",
   "execution_count": 133,
   "metadata": {
    "collapsed": true
   },
   "outputs": [],
   "source": [
    "most_selected = [\n",
    "    \"ctx_lh_S_temporal_transverse.nii.gz\",\n",
    "    \"ctx_rh_G_postcentral.nii.gz\",\n",
    "    \"ctx_rh_G_precentral.nii.gz\",\n",
    "    \"ctx_lh_S_temporal_sup.nii.gz\",\n",
    "    \"ctx_lh_S_suborbital.nii.gz\"\n",
    "]"
   ]
  },
  {
   "cell_type": "code",
   "execution_count": 136,
   "metadata": {
    "collapsed": true
   },
   "outputs": [],
   "source": [
    "X = vset_data.loc[:, most_selected].values\n",
    "y = vbehav.young_kid.values"
   ]
  },
  {
   "cell_type": "code",
   "execution_count": 137,
   "metadata": {
    "collapsed": true
   },
   "outputs": [],
   "source": [
    "cv = LeaveOneOut()\n",
    "clf = linear_model.LogisticRegression()\n",
    "yt = []\n",
    "pred = []\n",
    "\n",
    "for train, test in cv.split(X, y):\n",
    "    clf.fit(X[train], y[train])\n",
    "    yt.append(y[test])\n",
    "    pred.append(clf.predict(X[test]))"
   ]
  },
  {
   "cell_type": "code",
   "execution_count": 139,
   "metadata": {},
   "outputs": [
    {
     "data": {
      "text/plain": [
       "0.5079365079365079"
      ]
     },
     "execution_count": 139,
     "metadata": {},
     "output_type": "execute_result"
    }
   ],
   "source": [
    "roc_auc_score(np.array(yt).ravel(), np.array(pred).ravel())"
   ]
  },
  {
   "cell_type": "code",
   "execution_count": 145,
   "metadata": {
    "collapsed": true
   },
   "outputs": [],
   "source": [
    "X = vset_data.loc[:, [\"ctx_lh_S_suborbital.nii.gz\"]].values\n",
    "y = vbehav.young_kid.values\n",
    "\n",
    "clf = Pipeline([\n",
    "    (\"sc\", StandardScaler()),\n",
    "    (\"lg\",linear_model.LogisticRegressionCV(penalty=\"l2\", cv=LeaveOneOut()))\n",
    "])"
   ]
  },
  {
   "cell_type": "code",
   "execution_count": 147,
   "metadata": {},
   "outputs": [
    {
     "data": {
      "text/plain": [
       "Pipeline(memory=None,\n",
       "     steps=[('sc', StandardScaler(copy=True, with_mean=True, with_std=True)), ('lg', LogisticRegressionCV(Cs=10, class_weight=None, cv=LeaveOneOut(), dual=False,\n",
       "           fit_intercept=True, intercept_scaling=1.0, max_iter=100,\n",
       "           multi_class='ovr', n_jobs=1, penalty='l2', random_state=None,\n",
       "           refit=True, scoring=None, solver='lbfgs', tol=0.0001, verbose=0))])"
      ]
     },
     "execution_count": 147,
     "metadata": {},
     "output_type": "execute_result"
    }
   ],
   "source": [
    "clf.fit(data.loc[:, [\"ctx_lh_S_suborbital.nii.gz\"]], behav2g.young_kid.values)"
   ]
  },
  {
   "cell_type": "code",
   "execution_count": null,
   "metadata": {
    "collapsed": true
   },
   "outputs": [],
   "source": [
    "roc_auc_score(y, clf.predict(X))"
   ]
  },
  {
   "cell_type": "code",
   "execution_count": 43,
   "metadata": {
    "collapsed": true
   },
   "outputs": [],
   "source": [
    "n_iters = 100 # arbitrary\n",
    "N, P = data.shape\n",
    "rocs = np.zeros(n_iters)\n",
    "rocs_null = np.zeros(n_iters)\n",
    "bools = np.full((n_iters, N, P), False, dtype=bool)\n",
    "bools_null = np.full((n_iters, N, P), False, dtype=bool)\n",
    "imps = np.zeros((n_iters, N, P))\n",
    "imps_null = np.zeros((n_iters, N, P))\n",
    "failed_idxs = []\n",
    "\n",
    "\n",
    "class Storage(object):\n",
    "    def __init__(self, name, feature_index, feature_importance, _n, _p, feat_elim=False):\n",
    "        self.name = name\n",
    "        self.feature_index = feature_index,\n",
    "        self.feature_importance = feature_importance,\n",
    "        self._n = _n,\n",
    "        self._p = _p,\n",
    "        self.feat_elim = feat_elim\n",
    "        \n",
    "    def make_bool_matrix(self):\n",
    "        if self.feat_elim:\n",
    "            bool_mat = np.array(\n",
    "                [self.feature_index[0][i] for \n",
    "                i in np.arange(len(self.feature_index[0]))]\n",
    "            )\n",
    "        else:\n",
    "            bool_mat = np.array(self.feature_index).astype(np.bool)\n",
    "            if len(bool_mat.shape) > 2:\n",
    "                bool_mat = bool_mat.squeeze()\n",
    "        return bool_mat\n",
    "    \n",
    "    def make_importance_matrix(self):\n",
    "        bool_mat = self.make_bool_matrix()\n",
    "        self_feat_imps = np.array(self.feature_importance)\n",
    "        if len(self_feat_imps.shape) > 2:\n",
    "            self_feat_imps = self_feat_imps.squeeze()\n",
    "        if isinstance(self._n, tuple):\n",
    "                n = self._n[0]\n",
    "        if isinstance(self._p, tuple):\n",
    "                p = self._p[0]\n",
    "        imp_mat = np.zeros((n, p))\n",
    "        if self.feat_elim:         \n",
    "            for idx in np.arange(n):\n",
    "                non_zeros = np.where(bool_mat[idx, :])\n",
    "                imp_mat[idx, non_zeros] = self_feat_imps[idx]\n",
    "        else:\n",
    "            for idx in np.arange(n):\n",
    "                imp_mat[idx, :] = self_feat_imps[idx]           \n",
    "        return imp_mat"
   ]
  },
  {
   "cell_type": "code",
   "execution_count": 44,
   "metadata": {
    "collapsed": true
   },
   "outputs": [],
   "source": [
    "def random_forest_model_all_features(data, y, cv, clf):\n",
    "    X = data.values\n",
    "    results = dict(pred=[], ytrue=[], fi=[], fidx=[])\n",
    "    results_null = dict(pred=[], ytrue=[], fi=[], fidx=[])\n",
    "    P = X.shape[1]\n",
    "    for idx, (train, test) in enumerate(cv.split(X, y)):\n",
    "        \n",
    "        clf.fit(X[train], y[train])\n",
    "        results[\"pred\"].append(clf.predict(X[test]))\n",
    "        results[\"ytrue\"].append(y[test])\n",
    "        results[\"fi\"].append(clf.feature_importances_)\n",
    "        results[\"fidx\"].append(np.arange(P))\n",
    "    \n",
    "        # this is to compute the null model\n",
    "        try:\n",
    "            y_shuff = np.copy(y[train])\n",
    "            np.random.shuffle(y_shuff)\n",
    "            clf.fit(X[train], y_shuff)\n",
    "            results_null[\"pred\"].append(clf.predict(X[test]))\n",
    "            results_null[\"ytrue\"].append(y[test])\n",
    "            results_null[\"fi\"].append(clf.feature_importances_)\n",
    "            results_null[\"fidx\"].append(np.arange(P))\n",
    "        except:\n",
    "            print(\"couldn't compute null model\")\n",
    "           \n",
    "    roc = roc_auc_score(np.array(results[\"ytrue\"]).ravel(), np.array(results[\"pred\"]).ravel())\n",
    "    \n",
    "    # this is to compute the null model\n",
    "    try:\n",
    "        roc_null = roc_auc_score(\n",
    "            np.array(results_null[\"ytrue\"]).ravel(),\n",
    "            np.array(results_null[\"pred\"]).ravel()\n",
    "        )\n",
    "    except:\n",
    "        print(\"couldn't compute null roc score\")\n",
    "        \n",
    "    return results, roc, results_null, roc_null"
   ]
  },
  {
   "cell_type": "code",
   "execution_count": 45,
   "metadata": {
    "collapsed": true
   },
   "outputs": [],
   "source": [
    "def h5_save(path, data_obj, dts):\n",
    "    if len(data_obj) != len(dts):\n",
    "        print(\"something is wrong\")\n",
    "        return None\n",
    "    with h5py.File(path, \"w\") as data_store:\n",
    "        for idx, (key, val) in enumerate(data_obj.items()):\n",
    "            data_set = data_store.create_dataset(\n",
    "                key, val.shape, dtype=dts[idx]\n",
    "            )\n",
    "            data_set[...] = val\n",
    "    return path, data_obj.keys()\n",
    "    \n",
    "def h5_read(path, key):\n",
    "    with h5py.File(path, \"r\") as file_store:\n",
    "        data = file_store[key][...]\n",
    "    return data"
   ]
  },
  {
   "cell_type": "code",
   "execution_count": 46,
   "metadata": {},
   "outputs": [],
   "source": [
    "for idx in np.arange(n_iters):\n",
    "    clf = RandomForestClassifier(n_estimators=1000) # arbitrary\n",
    "    cv = LeaveOneOut() # arbitrary\n",
    "    \n",
    "    try:\n",
    "        res, roc, res_null, roc_null = random_forest_model_all_features(\n",
    "            data.iloc[:, use_idx], behav2g.young_kid.values, cv, clf\n",
    "        )\n",
    "        rocs[idx], rocs_null[idx] = roc, roc_null\n",
    "        s = Storage(\n",
    "            idx, \n",
    "            res[\"fidx\"],\n",
    "            res[\"fi\"],\n",
    "            N, \n",
    "            P\n",
    "        )\n",
    "        s_null = Storage(\n",
    "            idx,\n",
    "            res_null[\"fidx\"],\n",
    "            res_null[\"fi\"],\n",
    "            N,\n",
    "            P\n",
    "        )\n",
    "        bools[idx, :, :] = s.make_bool_matrix()\n",
    "        imps[idx, :, :] = s.make_importance_matrix()\n",
    "        bools_null[idx, :, :] = s_null.make_bool_matrix()\n",
    "        imps_null[idx, :, :] = s_null.make_importance_matrix()\n",
    "    except f:\n",
    "        print(f)\n",
    "        print(idx)\n",
    "        failed_idxs.append(idx)\n",
    "        pass"
   ]
  },
  {
   "cell_type": "code",
   "execution_count": 95,
   "metadata": {},
   "outputs": [
    {
     "name": "stdout",
     "output_type": "stream",
     "text": [
      "0.580409090909091\n"
     ]
    },
    {
     "data": {
      "image/png": "[encoded data removed]",
      "text/plain": [
       "<matplotlib.figure.Figure at 0x1a1be217f0>"
      ]
     },
     "metadata": {},
     "output_type": "display_data"
    }
   ],
   "source": [
    "plt.figure(figsize=(10, 6))\n",
    "plt.hist(rocs, edgecolor=\"black\")\n",
    "plt.hist(rocs_null, edgecolor=\"black\", alpha=.65)\n",
    "plt.axvline(np.mean(rocs), color=\"red\", ls=\"--\")\n",
    "plt.legend([\"mean of alternative model = .58\", \"alternative model predictive roc\", \n",
    "            \"null model predictive roc\"])\n",
    "plt.title(\"using all the data\")\n",
    "plt.savefig(\"kids_vs_adults_alldata_rf_model.png\", dpi=300, bbox_inches=\"tight\")\n",
    "print(np.mean(rocs))"
   ]
  },
  {
   "cell_type": "code",
   "execution_count": 90,
   "metadata": {},
   "outputs": [
    {
     "name": "stdout",
     "output_type": "stream",
     "text": [
      "pvalue: 0.06930693069306931\n"
     ]
    }
   ],
   "source": [
    "print(\"pvalue: {}\".format((np.sum(rocs_null >= np.mean(rocs)) + 1 )/(101)))"
   ]
  },
  {
   "cell_type": "code",
   "execution_count": 87,
   "metadata": {},
   "outputs": [],
   "source": [
    "impdf = pd.DataFrame(\n",
    "    data=np.vstack((imps.mean(0).sum(0), data.columns.values)).T,\n",
    "    columns=[\"summary importances\",\"features\"]\n",
    ")"
   ]
  },
  {
   "cell_type": "code",
   "execution_count": 88,
   "metadata": {
    "scrolled": false
   },
   "outputs": [
    {
     "data": {
      "text/html": [
       "<div>\n",
       "<style scoped>\n",
       "    .dataframe tbody tr th:only-of-type {\n",
       "        vertical-align: middle;\n",
       "    }\n",
       "\n",
       "    .dataframe tbody tr th {\n",
       "        vertical-align: top;\n",
       "    }\n",
       "\n",
       "    .dataframe thead th {\n",
       "        text-align: right;\n",
       "    }\n",
       "</style>\n",
       "<table border=\"1\" class=\"dataframe\">\n",
       "  <thead>\n",
       "    <tr style=\"text-align: right;\">\n",
       "      <th></th>\n",
       "      <th>summary importances</th>\n",
       "      <th>features</th>\n",
       "    </tr>\n",
       "  </thead>\n",
       "  <tbody>\n",
       "    <tr>\n",
       "      <th>0</th>\n",
       "      <td>0.748707</td>\n",
       "      <td>ctx_lh_S_temporal_inf.nii.gz</td>\n",
       "    </tr>\n",
       "    <tr>\n",
       "      <th>1</th>\n",
       "      <td>0.595891</td>\n",
       "      <td>Right-Thalamus-Proper.nii.gz</td>\n",
       "    </tr>\n",
       "    <tr>\n",
       "      <th>2</th>\n",
       "      <td>0.970142</td>\n",
       "      <td>ctx_lh_G_temp_sup-G_T_transv.nii.gz</td>\n",
       "    </tr>\n",
       "    <tr>\n",
       "      <th>3</th>\n",
       "      <td>1.01363</td>\n",
       "      <td>ctx_rh_S_orbital-H_Shaped.nii.gz</td>\n",
       "    </tr>\n",
       "    <tr>\n",
       "      <th>4</th>\n",
       "      <td>0.520917</td>\n",
       "      <td>Left-Accumbens-area.nii.gz</td>\n",
       "    </tr>\n",
       "    <tr>\n",
       "      <th>5</th>\n",
       "      <td>0.557776</td>\n",
       "      <td>ctx_rh_G_oc-temp_med-Parahip.nii.gz</td>\n",
       "    </tr>\n",
       "    <tr>\n",
       "      <th>6</th>\n",
       "      <td>0.585878</td>\n",
       "      <td>Right-Accumbens-area.nii.gz</td>\n",
       "    </tr>\n",
       "    <tr>\n",
       "      <th>7</th>\n",
       "      <td>0.610969</td>\n",
       "      <td>ctx_rh_G_temp_sup-Lateral.nii.gz</td>\n",
       "    </tr>\n",
       "    <tr>\n",
       "      <th>8</th>\n",
       "      <td>0.515651</td>\n",
       "      <td>ctx_rh_S_temporal_transverse.nii.gz</td>\n",
       "    </tr>\n",
       "    <tr>\n",
       "      <th>9</th>\n",
       "      <td>0.435165</td>\n",
       "      <td>Right-Caudate.nii.gz</td>\n",
       "    </tr>\n",
       "    <tr>\n",
       "      <th>10</th>\n",
       "      <td>0.6274</td>\n",
       "      <td>ctx_rh_G_front_sup.nii.gz</td>\n",
       "    </tr>\n",
       "    <tr>\n",
       "      <th>11</th>\n",
       "      <td>1.13034</td>\n",
       "      <td>ctx_lh_G_and_S_cingul-Ant.nii.gz</td>\n",
       "    </tr>\n",
       "    <tr>\n",
       "      <th>12</th>\n",
       "      <td>0.489751</td>\n",
       "      <td>ctx_rh_G_temp_sup-Plan_polar.nii.gz</td>\n",
       "    </tr>\n",
       "    <tr>\n",
       "      <th>13</th>\n",
       "      <td>0.744568</td>\n",
       "      <td>Left-Putamen.nii.gz</td>\n",
       "    </tr>\n",
       "    <tr>\n",
       "      <th>14</th>\n",
       "      <td>0.754416</td>\n",
       "      <td>ctx_lh_G_temporal_middle.nii.gz</td>\n",
       "    </tr>\n",
       "    <tr>\n",
       "      <th>15</th>\n",
       "      <td>0.778431</td>\n",
       "      <td>ctx_lh_S_collat_transv_ant.nii.gz</td>\n",
       "    </tr>\n",
       "    <tr>\n",
       "      <th>16</th>\n",
       "      <td>1.56905</td>\n",
       "      <td>ctx_lh_S_temporal_transverse.nii.gz</td>\n",
       "    </tr>\n",
       "    <tr>\n",
       "      <th>17</th>\n",
       "      <td>0.783652</td>\n",
       "      <td>ctx_lh_Lat_Fis-post.nii.gz</td>\n",
       "    </tr>\n",
       "    <tr>\n",
       "      <th>18</th>\n",
       "      <td>0.571293</td>\n",
       "      <td>ctx_lh_G_temp_sup-Plan_polar.nii.gz</td>\n",
       "    </tr>\n",
       "    <tr>\n",
       "      <th>19</th>\n",
       "      <td>0.790052</td>\n",
       "      <td>Right-Putamen.nii.gz</td>\n",
       "    </tr>\n",
       "    <tr>\n",
       "      <th>20</th>\n",
       "      <td>0.584496</td>\n",
       "      <td>ctx_rh_G_and_S_cingul-Ant.nii.gz</td>\n",
       "    </tr>\n",
       "    <tr>\n",
       "      <th>21</th>\n",
       "      <td>0.959021</td>\n",
       "      <td>ctx_rh_G_temporal_middle.nii.gz</td>\n",
       "    </tr>\n",
       "    <tr>\n",
       "      <th>22</th>\n",
       "      <td>0.590905</td>\n",
       "      <td>ctx_lh_G_oc-temp_med-Parahip.nii.gz</td>\n",
       "    </tr>\n",
       "    <tr>\n",
       "      <th>23</th>\n",
       "      <td>0.983173</td>\n",
       "      <td>ctx_rh_S_temporal_sup.nii.gz</td>\n",
       "    </tr>\n",
       "    <tr>\n",
       "      <th>24</th>\n",
       "      <td>0.77913</td>\n",
       "      <td>ctx_lh_G_temp_sup-Lateral.nii.gz</td>\n",
       "    </tr>\n",
       "    <tr>\n",
       "      <th>25</th>\n",
       "      <td>1.23103</td>\n",
       "      <td>ctx_rh_G_orbital.nii.gz</td>\n",
       "    </tr>\n",
       "    <tr>\n",
       "      <th>26</th>\n",
       "      <td>0.756932</td>\n",
       "      <td>ctx_rh_Lat_Fis-post.nii.gz</td>\n",
       "    </tr>\n",
       "    <tr>\n",
       "      <th>27</th>\n",
       "      <td>0.612311</td>\n",
       "      <td>ctx_rh_S_circular_insula_inf.nii.gz</td>\n",
       "    </tr>\n",
       "    <tr>\n",
       "      <th>28</th>\n",
       "      <td>0.597662</td>\n",
       "      <td>Right-Amygdala.nii.gz</td>\n",
       "    </tr>\n",
       "    <tr>\n",
       "      <th>29</th>\n",
       "      <td>2.94176</td>\n",
       "      <td>ctx_rh_G_postcentral.nii.gz</td>\n",
       "    </tr>\n",
       "    <tr>\n",
       "      <th>30</th>\n",
       "      <td>0.623634</td>\n",
       "      <td>ctx_lh_G_subcallosal.nii.gz</td>\n",
       "    </tr>\n",
       "    <tr>\n",
       "      <th>31</th>\n",
       "      <td>0.625674</td>\n",
       "      <td>Left-Thalamus-Proper.nii.gz</td>\n",
       "    </tr>\n",
       "    <tr>\n",
       "      <th>32</th>\n",
       "      <td>0.772872</td>\n",
       "      <td>ctx_lh_S_front_sup.nii.gz</td>\n",
       "    </tr>\n",
       "    <tr>\n",
       "      <th>33</th>\n",
       "      <td>0.981333</td>\n",
       "      <td>ctx_rh_G_front_middle.nii.gz</td>\n",
       "    </tr>\n",
       "    <tr>\n",
       "      <th>34</th>\n",
       "      <td>0.505855</td>\n",
       "      <td>ctx_rh_G_temp_sup-Plan_tempo.nii.gz</td>\n",
       "    </tr>\n",
       "    <tr>\n",
       "      <th>35</th>\n",
       "      <td>0.766646</td>\n",
       "      <td>ctx_lh_G_temporal_inf.nii.gz</td>\n",
       "    </tr>\n",
       "    <tr>\n",
       "      <th>36</th>\n",
       "      <td>0.588765</td>\n",
       "      <td>ctx_rh_S_collat_transv_ant.nii.gz</td>\n",
       "    </tr>\n",
       "    <tr>\n",
       "      <th>37</th>\n",
       "      <td>1.07156</td>\n",
       "      <td>ctx_lh_G_precentral.nii.gz</td>\n",
       "    </tr>\n",
       "    <tr>\n",
       "      <th>38</th>\n",
       "      <td>0.823192</td>\n",
       "      <td>ctx_rh_G_temporal_inf.nii.gz</td>\n",
       "    </tr>\n",
       "    <tr>\n",
       "      <th>39</th>\n",
       "      <td>0.732109</td>\n",
       "      <td>ctx_rh_G_front_inf-Orbital.nii.gz</td>\n",
       "    </tr>\n",
       "    <tr>\n",
       "      <th>40</th>\n",
       "      <td>0.459187</td>\n",
       "      <td>ctx_rh_G_subcallosal.nii.gz</td>\n",
       "    </tr>\n",
       "    <tr>\n",
       "      <th>41</th>\n",
       "      <td>0.580847</td>\n",
       "      <td>ctx_rh_G_and_S_transv_frontopol.nii.gz</td>\n",
       "    </tr>\n",
       "    <tr>\n",
       "      <th>42</th>\n",
       "      <td>0.898088</td>\n",
       "      <td>ctx_rh_S_temporal_inf.nii.gz</td>\n",
       "    </tr>\n",
       "    <tr>\n",
       "      <th>43</th>\n",
       "      <td>2.29355</td>\n",
       "      <td>ctx_rh_G_precentral.nii.gz</td>\n",
       "    </tr>\n",
       "    <tr>\n",
       "      <th>44</th>\n",
       "      <td>0.481332</td>\n",
       "      <td>ctx_rh_S_pericallosal.nii.gz</td>\n",
       "    </tr>\n",
       "    <tr>\n",
       "      <th>45</th>\n",
       "      <td>0.5824</td>\n",
       "      <td>Left-Caudate.nii.gz</td>\n",
       "    </tr>\n",
       "    <tr>\n",
       "      <th>46</th>\n",
       "      <td>0.512013</td>\n",
       "      <td>Left-Amygdala.nii.gz</td>\n",
       "    </tr>\n",
       "    <tr>\n",
       "      <th>47</th>\n",
       "      <td>0.454879</td>\n",
       "      <td>ctx_rh_S_front_middle.nii.gz</td>\n",
       "    </tr>\n",
       "    <tr>\n",
       "      <th>48</th>\n",
       "      <td>0.752325</td>\n",
       "      <td>ctx_rh_S_oc-temp_med_and_Lingual.nii.gz</td>\n",
       "    </tr>\n",
       "    <tr>\n",
       "      <th>49</th>\n",
       "      <td>0.47267</td>\n",
       "      <td>Right-Hippocampus.nii.gz</td>\n",
       "    </tr>\n",
       "    <tr>\n",
       "      <th>50</th>\n",
       "      <td>0.499316</td>\n",
       "      <td>ctx_lh_G_front_sup.nii.gz</td>\n",
       "    </tr>\n",
       "    <tr>\n",
       "      <th>51</th>\n",
       "      <td>0.521085</td>\n",
       "      <td>ctx_rh_G_temp_sup-G_T_transv.nii.gz</td>\n",
       "    </tr>\n",
       "    <tr>\n",
       "      <th>52</th>\n",
       "      <td>0.754049</td>\n",
       "      <td>ctx_lh_G_temp_sup-Plan_tempo.nii.gz</td>\n",
       "    </tr>\n",
       "    <tr>\n",
       "      <th>53</th>\n",
       "      <td>1.79344</td>\n",
       "      <td>ctx_lh_S_temporal_sup.nii.gz</td>\n",
       "    </tr>\n",
       "    <tr>\n",
       "      <th>54</th>\n",
       "      <td>0.5399</td>\n",
       "      <td>Left-Hippocampus.nii.gz</td>\n",
       "    </tr>\n",
       "    <tr>\n",
       "      <th>55</th>\n",
       "      <td>0.636921</td>\n",
       "      <td>ctx_lh_S_circular_insula_inf.nii.gz</td>\n",
       "    </tr>\n",
       "    <tr>\n",
       "      <th>56</th>\n",
       "      <td>1.86051</td>\n",
       "      <td>ctx_lh_S_suborbital.nii.gz</td>\n",
       "    </tr>\n",
       "    <tr>\n",
       "      <th>57</th>\n",
       "      <td>0.58573</td>\n",
       "      <td>ctx_lh_G_front_middle.nii.gz</td>\n",
       "    </tr>\n",
       "  </tbody>\n",
       "</table>\n",
       "</div>"
      ],
      "text/plain": [
       "   summary importances                                 features\n",
       "0             0.748707             ctx_lh_S_temporal_inf.nii.gz\n",
       "1             0.595891             Right-Thalamus-Proper.nii.gz\n",
       "2             0.970142      ctx_lh_G_temp_sup-G_T_transv.nii.gz\n",
       "3              1.01363         ctx_rh_S_orbital-H_Shaped.nii.gz\n",
       "4             0.520917               Left-Accumbens-area.nii.gz\n",
       "5             0.557776      ctx_rh_G_oc-temp_med-Parahip.nii.gz\n",
       "6             0.585878              Right-Accumbens-area.nii.gz\n",
       "7             0.610969         ctx_rh_G_temp_sup-Lateral.nii.gz\n",
       "8             0.515651      ctx_rh_S_temporal_transverse.nii.gz\n",
       "9             0.435165                     Right-Caudate.nii.gz\n",
       "10              0.6274                ctx_rh_G_front_sup.nii.gz\n",
       "11             1.13034         ctx_lh_G_and_S_cingul-Ant.nii.gz\n",
       "12            0.489751      ctx_rh_G_temp_sup-Plan_polar.nii.gz\n",
       "13            0.744568                      Left-Putamen.nii.gz\n",
       "14            0.754416          ctx_lh_G_temporal_middle.nii.gz\n",
       "15            0.778431        ctx_lh_S_collat_transv_ant.nii.gz\n",
       "16             1.56905      ctx_lh_S_temporal_transverse.nii.gz\n",
       "17            0.783652               ctx_lh_Lat_Fis-post.nii.gz\n",
       "18            0.571293      ctx_lh_G_temp_sup-Plan_polar.nii.gz\n",
       "19            0.790052                     Right-Putamen.nii.gz\n",
       "20            0.584496         ctx_rh_G_and_S_cingul-Ant.nii.gz\n",
       "21            0.959021          ctx_rh_G_temporal_middle.nii.gz\n",
       "22            0.590905      ctx_lh_G_oc-temp_med-Parahip.nii.gz\n",
       "23            0.983173             ctx_rh_S_temporal_sup.nii.gz\n",
       "24             0.77913         ctx_lh_G_temp_sup-Lateral.nii.gz\n",
       "25             1.23103                  ctx_rh_G_orbital.nii.gz\n",
       "26            0.756932               ctx_rh_Lat_Fis-post.nii.gz\n",
       "27            0.612311      ctx_rh_S_circular_insula_inf.nii.gz\n",
       "28            0.597662                    Right-Amygdala.nii.gz\n",
       "29             2.94176              ctx_rh_G_postcentral.nii.gz\n",
       "30            0.623634              ctx_lh_G_subcallosal.nii.gz\n",
       "31            0.625674              Left-Thalamus-Proper.nii.gz\n",
       "32            0.772872                ctx_lh_S_front_sup.nii.gz\n",
       "33            0.981333             ctx_rh_G_front_middle.nii.gz\n",
       "34            0.505855      ctx_rh_G_temp_sup-Plan_tempo.nii.gz\n",
       "35            0.766646             ctx_lh_G_temporal_inf.nii.gz\n",
       "36            0.588765        ctx_rh_S_collat_transv_ant.nii.gz\n",
       "37             1.07156               ctx_lh_G_precentral.nii.gz\n",
       "38            0.823192             ctx_rh_G_temporal_inf.nii.gz\n",
       "39            0.732109        ctx_rh_G_front_inf-Orbital.nii.gz\n",
       "40            0.459187              ctx_rh_G_subcallosal.nii.gz\n",
       "41            0.580847   ctx_rh_G_and_S_transv_frontopol.nii.gz\n",
       "42            0.898088             ctx_rh_S_temporal_inf.nii.gz\n",
       "43             2.29355               ctx_rh_G_precentral.nii.gz\n",
       "44            0.481332             ctx_rh_S_pericallosal.nii.gz\n",
       "45              0.5824                      Left-Caudate.nii.gz\n",
       "46            0.512013                     Left-Amygdala.nii.gz\n",
       "47            0.454879             ctx_rh_S_front_middle.nii.gz\n",
       "48            0.752325  ctx_rh_S_oc-temp_med_and_Lingual.nii.gz\n",
       "49             0.47267                 Right-Hippocampus.nii.gz\n",
       "50            0.499316                ctx_lh_G_front_sup.nii.gz\n",
       "51            0.521085      ctx_rh_G_temp_sup-G_T_transv.nii.gz\n",
       "52            0.754049      ctx_lh_G_temp_sup-Plan_tempo.nii.gz\n",
       "53             1.79344             ctx_lh_S_temporal_sup.nii.gz\n",
       "54              0.5399                  Left-Hippocampus.nii.gz\n",
       "55            0.636921      ctx_lh_S_circular_insula_inf.nii.gz\n",
       "56             1.86051               ctx_lh_S_suborbital.nii.gz\n",
       "57             0.58573             ctx_lh_G_front_middle.nii.gz"
      ]
     },
     "execution_count": 88,
     "metadata": {},
     "output_type": "execute_result"
    }
   ],
   "source": [
    "impdf"
   ]
  },
  {
   "cell_type": "code",
   "execution_count": 91,
   "metadata": {},
   "outputs": [
    {
     "name": "stdout",
     "output_type": "stream",
     "text": [
      "('yk_ad_results_with_nullmodel.h5py', dict_keys(['feat_idx', 'feat_imp', 'roc_score', 'null_feat_idx', 'null_feat_imp', 'null_rocs']))\n"
     ]
    }
   ],
   "source": [
    "save_path = \"yk_ad_results_with_nullmodel.h5py\"\n",
    "\n",
    "data_obj = dict(\n",
    "    feat_idx=bools, \n",
    "    feat_imp=imps, \n",
    "    roc_score=rocs,\n",
    "    null_feat_idx=bools_null,\n",
    "    null_feat_imp=imps_null, \n",
    "    null_rocs=rocs_null\n",
    ")\n",
    "\n",
    "dts = [np.bool, np.float64, np.float64, np.bool, np.float64, np.float64]\n",
    "\n",
    "print(h5_save(save_path, data_obj, dts))"
   ]
  },
  {
   "cell_type": "code",
   "execution_count": null,
   "metadata": {
    "collapsed": true
   },
   "outputs": [],
   "source": []
  }
 ],
 "metadata": {
  "kernelspec": {
   "display_name": "Python 3",
   "language": "python",
   "name": "python3"
  },
  "language_info": {
   "codemirror_mode": {
    "name": "ipython",
    "version": 3
   },
   "file_extension": ".py",
   "mimetype": "text/x-python",
   "name": "python",
   "nbconvert_exporter": "python",
   "pygments_lexer": "ipython3",
   "version": "3.6.2"
  }
 },
 "nbformat": 4,
 "nbformat_minor": 2
}
