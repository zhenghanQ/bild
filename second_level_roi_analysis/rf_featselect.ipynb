{
 "cells": [
  {
   "cell_type": "code",
   "execution_count": 1,
   "metadata": {
    "collapsed": true
   },
   "outputs": [],
   "source": [
    "import os\n",
    "import h5py\n",
    "import numpy as np\n",
    "import pandas as pd\n",
    "from collections import Counter\n",
    "\n",
    "% matplotlib inline\n",
    "import matplotlib.pyplot as plt\n",
    "\n",
    "from sklearn.metrics import roc_auc_score\n",
    "from sklearn.model_selection import LeaveOneOut\n",
    "from sklearn.ensemble import RandomForestClassifier, GradientBoostingClassifier\n",
    "\n",
    "from sklearn.feature_selection import SelectFromModel\n",
    "from sklearn.model_selection import permutation_test_score"
   ]
  },
  {
   "cell_type": "markdown",
   "metadata": {},
   "source": [
    "# loading data and preprocessing"
   ]
  },
  {
   "cell_type": "code",
   "execution_count": 2,
   "metadata": {},
   "outputs": [
    {
     "name": "stdout",
     "output_type": "stream",
     "text": [
      "1.0\n",
      "58\n",
      "True\n"
     ]
    }
   ],
   "source": [
    "voxels = pd.read_csv(\"fszstatcope2_nvoxels_nz.csv\", index_col=0)\n",
    "behav = pd.read_csv(\"behav.txt\", sep='\\t', index_col=0)\n",
    "print(np.mean(behav.index == voxels.index)) #should be 1.0\n",
    "voxels_g27 = voxels.iloc[:, (voxels.iloc[1,:] > 27).values]\n",
    "remove_feature_idx = []\n",
    "\n",
    "for idx, col in enumerate(voxels_g27.columns):\n",
    "    for ss in [\"Vent\", \"Stem\", \"Cerebellum\", \"CSF\", \"White\", \"plexus\"]:\n",
    "        if ss in col:\n",
    "            remove_feature_idx.append(idx)\n",
    "            \n",
    "remove_feature_idx = np.unique(remove_feature_idx)\n",
    "print(voxels_g27.shape[1] - remove_feature_idx.shape[0]) # should be 58\n",
    "voxels_data = voxels_g27.iloc[:, np.setdiff1d(np.arange(voxels_g27.shape[1]), remove_feature_idx)]\n",
    "roi_data = pd.read_csv(\"fszstatcope2_means_nz.csv\", index_col=0).loc[:, voxels_data.columns]\n",
    "print(np.all(roi_data.columns == voxels_data.columns)) # should be true\n",
    "\n",
    "# validation set\n",
    "vset_roi_data = pd.read_csv(\"fszstatcope2_means_nz_valset.csv\", index_col=0).loc[:, voxels_data.columns]\n",
    "vset_voxel_data = pd.read_csv(\"fszstatcope2_nvoxels_nz_valset.csv\", index_col=0).loc[:, voxels_data.columns]\n",
    "vbehav = pd.read_csv(\"valset_behav.csv\", index_col=0)\n",
    "\n",
    "roi2g = roi_data[np.logical_or(behav.young_kid == 1, behav.adult == 1)]\n",
    "behav2g = behav[np.logical_or(behav.young_kid == 1, behav.adult == 1)]"
   ]
  },
  {
   "cell_type": "markdown",
   "metadata": {},
   "source": [
    "# removing linear effect of covariates"
   ]
  },
  {
   "cell_type": "code",
   "execution_count": 3,
   "metadata": {
    "collapsed": true
   },
   "outputs": [],
   "source": [
    "def projection(data , covars):\n",
    "    \"\"\"for removing linear effect of covariates\"\"\"\n",
    "    X, C = data.values, covars.values\n",
    "    P = np.eye(C.shape[0]) - C.dot(np.linalg.pinv(C.T.dot(C))).dot(C.T)\n",
    "    return pd.DataFrame(P.dot(X), columns=data.columns, index=data.index)\n",
    "\n",
    "data = projection(roi2g, behav2g.loc[:, [\"gender\", \"iq\", \"composite_motion\"]])\n",
    "vset_data = projection(vset_roi_data, vbehav.loc[:, [\"sex\",\"iq\", \"composite_motion\"]])"
   ]
  },
  {
   "cell_type": "markdown",
   "metadata": {},
   "source": [
    "# this defines the model that is run each time and some auxiliary functions"
   ]
  },
  {
   "cell_type": "code",
   "execution_count": 4,
   "metadata": {
    "collapsed": true
   },
   "outputs": [],
   "source": [
    "def random_forest_model(data, y, thresh, cv, clf, max_feat=10):\n",
    "    X = data.values\n",
    "    results = dict(pred=[], ytrue=[], fi=[], fidx=[])\n",
    "    results_null = dict(pred=[], ytrue=[], fi=[], fidx=[])\n",
    "    \n",
    "    for idx, (train, test) in enumerate(cv.split(X, y)):\n",
    "        sfm = SelectFromModel(clf, threshold=thresh)\n",
    "        sfm.fit(X[train], y[train])\n",
    "        n_features = sfm.transform(X[train]).shape[1]\n",
    "        \n",
    "        while n_features > max_feat:\n",
    "            sfm.threshold += 0.01\n",
    "            X_transform = sfm.transform(X[train])\n",
    "            n_features = X_transform.shape[1]\n",
    "        \n",
    "        clf.fit(X_transform, y[train])\n",
    "        results[\"pred\"].append(clf.predict(sfm.transform(X[test])))\n",
    "        results[\"ytrue\"].append(y[test])\n",
    "        results[\"fi\"].append(clf.feature_importances_)\n",
    "        results[\"fidx\"].append(sfm.get_support())\n",
    "        \n",
    "        # this is to compute the null model\n",
    "        try:\n",
    "            y_shuff = np.copy(y[train])\n",
    "            np.random.shuffle(y_shuff)\n",
    "            clf.fit(X_transform, y_shuff)\n",
    "            results_null[\"pred\"].append(clf.predict(sfm.transform(X[test])))\n",
    "            results_null[\"ytrue\"].append(y[test])\n",
    "            results_null[\"fi\"].append(clf.feature_importances_)\n",
    "            results_null[\"fidx\"].append(sfm.get_support())\n",
    "        except:\n",
    "            print(\"couldn't compute null model\")\n",
    "        \n",
    "    \n",
    "    roc = roc_auc_score(np.array(results[\"ytrue\"]).ravel(), np.array(results[\"pred\"]).ravel())\n",
    "    \n",
    "    # this is to compute the null model\n",
    "    try:\n",
    "        roc_null = roc_auc_score(\n",
    "            np.array(results_null[\"ytrue\"]).ravel(),\n",
    "            np.array(results_null[\"pred\"]).ravel()\n",
    "        )\n",
    "    except:\n",
    "        print(\"couldn't compute null roc score\")\n",
    "        \n",
    "    return results, roc, results_null, roc_null\n",
    "\n",
    "def h5_save(path, data_obj, dts):\n",
    "    if len(data_obj) != len(dts):\n",
    "        print(\"something is wrong\")\n",
    "        return None\n",
    "    with h5py.File(path, \"w\") as data_store:\n",
    "        for idx, (key, val) in enumerate(data_obj.items()):\n",
    "            data_set = data_store.create_dataset(\n",
    "                key, val.shape, dtype=dts[idx]\n",
    "            )\n",
    "            data_set[...] = val\n",
    "    return path, data_obj.keys()\n",
    "    \n",
    "def h5_read(path, key):\n",
    "    with h5py.File(path, \"r\") as file_store:\n",
    "        data = file_store[key][...]\n",
    "    return data"
   ]
  },
  {
   "cell_type": "markdown",
   "metadata": {},
   "source": [
    "# to get the average score so that to rule out uncertainty for performance "
   ]
  },
  {
   "cell_type": "code",
   "execution_count": 5,
   "metadata": {},
   "outputs": [],
   "source": [
    "n_iters = 200 # arbitrary\n",
    "N, P = data.shape\n",
    "rocs = np.zeros(n_iters)\n",
    "rocs_null = np.zeros(n_iters)\n",
    "bools = np.full((n_iters, N, P), False, dtype=bool)\n",
    "bools_null = np.full((n_iters, N, P), False, dtype=bool)\n",
    "imps = np.zeros((n_iters, N, P))\n",
    "imps_null = np.zeros((n_iters, N, P))\n",
    "failed_idxs = []\n",
    "\n",
    "class Storage(object):\n",
    "    def __init__(self, name, feature_index, feature_importance, _n, _p):\n",
    "        self.name = name\n",
    "        self.feature_index = feature_index,\n",
    "        self.feature_importance = feature_importance\n",
    "        self._n = _n\n",
    "        self._p = _p\n",
    "        \n",
    "    def make_bool_matrix(self):\n",
    "        bool_mat = np.array(\n",
    "            [self.feature_index[0][i] for \n",
    "            i in np.arange(len(self.feature_index[0]))]\n",
    "        )\n",
    "        return bool_mat\n",
    "    \n",
    "    def make_importance_matrix(self):\n",
    "        bool_mat = self.make_bool_matrix()\n",
    "        imp_mat = np.zeros((self._n, self._p))\n",
    "        \n",
    "        for idx in np.arange(self._n):\n",
    "            non_zeros = np.where(bool_mat[idx, :])\n",
    "            imp_mat[idx, non_zeros] = self.feature_importance[idx]\n",
    "            \n",
    "        return imp_mat\n",
    "    \n",
    "for idx in np.arange(n_iters):\n",
    "    clf = RandomForestClassifier(n_estimators=1000) # arbitrary\n",
    "    cv = LeaveOneOut() # arbitrary\n",
    "    max_feat = 10 # arbitrary\n",
    "    thresh = 0.01 # arbitrary\n",
    "    \n",
    "    try:\n",
    "        res, roc, res_null, roc_null = random_forest_model(\n",
    "            data, behav2g.young_kid.values, thresh, cv, clf, max_feat\n",
    "        )\n",
    "        rocs[idx], rocs_null[idx] = roc, roc_null\n",
    "        s = Storage(\n",
    "                idx, \n",
    "                res[\"fidx\"],\n",
    "                res[\"fi\"],\n",
    "                N, \n",
    "                P\n",
    "        )\n",
    "        s_null = Storage(\n",
    "            idx,\n",
    "            res_null[\"fidx\"],\n",
    "            res_null[\"fi\"],\n",
    "            N,\n",
    "            P\n",
    "        )\n",
    "        bools[idx, :, :] = s.make_bool_matrix()\n",
    "        imps[idx, :, :] = s.make_importance_matrix()\n",
    "        bools_null[idx, :, :] = s_null.make_bool_matrix()\n",
    "        imps_null[idx, :, :] = s_null.make_importance_matrix()\n",
    "    except:\n",
    "        print(idx)\n",
    "        failed_idx.append(idx)\n",
    "        pass"
   ]
  },
  {
   "cell_type": "code",
   "execution_count": 17,
   "metadata": {},
   "outputs": [
    {
     "data": {
      "text/plain": [
       "<matplotlib.legend.Legend at 0x1a1c2a8400>"
      ]
     },
     "execution_count": 17,
     "metadata": {},
     "output_type": "execute_result"
    },
    {
     "data": {
      "image/png": "[encoded data removed]",
      "text/plain": [
       "<matplotlib.figure.Figure at 0x1a1c121f28>"
      ]
     },
     "metadata": {},
     "output_type": "display_data"
    }
   ],
   "source": [
    "plt.figure(figsize=(10, 6))\n",
    "plt.hist(rocs, edgecolor=\"black\")\n",
    "plt.hist(rocs_null, edgecolor=\"black\", alpha=.7)\n",
    "plt.axvline(rocs.mean(), ls=\"--\", color=\"purple\")\n",
    "plt.axvline(rocs_null.mean(), ls=\"--\", color=\"red\")\n",
    "plt.legend([\"alternative model mean = {}\".format(rocs.mean()),\n",
    "            \"null model mean = {}\".format(rocs_null.mean()),\n",
    "            \"alternative model\", \"null model\"])"
   ]
  },
  {
   "cell_type": "code",
   "execution_count": 7,
   "metadata": {},
   "outputs": [
    {
     "name": "stdout",
     "output_type": "stream",
     "text": [
      "0.004975124378109453\n"
     ]
    }
   ],
   "source": [
    "pvalue = (np.sum(rocs_null >= np.mean(rocs)) + 1.0) / (n_iters + 1.0)\n",
    "print(pvalue)"
   ]
  },
  {
   "cell_type": "markdown",
   "metadata": {},
   "source": [
    "# save everything"
   ]
  },
  {
   "cell_type": "code",
   "execution_count": 8,
   "metadata": {},
   "outputs": [
    {
     "name": "stdout",
     "output_type": "stream",
     "text": [
      "('results_with_nullmodel.h5py', dict_keys(['feat_idx', 'feat_imp', 'roc_score', 'null_feat_idx', 'null_feat_imp', 'null_rocs']))\n"
     ]
    }
   ],
   "source": [
    "save_path = \"results_with_nullmodel.h5py\"\n",
    "\n",
    "data_obj = dict(\n",
    "    feat_idx=bools, \n",
    "    feat_imp=imps, \n",
    "    roc_score=rocs,\n",
    "    null_feat_idx=bools_null,\n",
    "    null_feat_imp=imps_null, \n",
    "    null_rocs=rocs_null\n",
    ")\n",
    "\n",
    "dts = [np.bool, np.float64, np.float64, np.bool, np.float64, np.float64]\n",
    "\n",
    "print(h5_save(save_path, data_obj, dts))"
   ]
  },
  {
   "cell_type": "code",
   "execution_count": 10,
   "metadata": {},
   "outputs": [
    {
     "data": {
      "text/plain": [
       "[]"
      ]
     },
     "execution_count": 10,
     "metadata": {},
     "output_type": "execute_result"
    }
   ],
   "source": [
    "failed_idxs"
   ]
  },
  {
   "cell_type": "code",
   "execution_count": null,
   "metadata": {
    "collapsed": true
   },
   "outputs": [],
   "source": []
  }
 ],
 "metadata": {
  "kernelspec": {
   "display_name": "Python 3",
   "language": "python",
   "name": "python3"
  },
  "language_info": {
   "codemirror_mode": {
    "name": "ipython",
    "version": 3
   },
   "file_extension": ".py",
   "mimetype": "text/x-python",
   "name": "python",
   "nbconvert_exporter": "python",
   "pygments_lexer": "ipython3",
   "version": "3.6.2"
  }
 },
 "nbformat": 4,
 "nbformat_minor": 2
}
