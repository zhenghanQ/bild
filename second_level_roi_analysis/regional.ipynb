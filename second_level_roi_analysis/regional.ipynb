{
 "cells": [
  {
   "cell_type": "code",
   "execution_count": 1,
   "metadata": {
    "collapsed": true
   },
   "outputs": [],
   "source": [
    "import os\n",
    "import h5py\n",
    "import numpy as np\n",
    "import pandas as pd\n",
    "from collections import Counter\n",
    "\n",
    "% matplotlib inline\n",
    "import matplotlib.pyplot as plt\n",
    "\n",
    "from sklearn.metrics import roc_auc_score\n",
    "from sklearn.model_selection import LeaveOneOut, StratifiedKFold\n",
    "from sklearn.ensemble import RandomForestClassifier, GradientBoostingClassifier\n",
    "\n",
    "from sklearn.feature_selection import SelectFromModel\n",
    "from sklearn.preprocessing import StandardScaler\n",
    "\n",
    "from sklearn import linear_model\n",
    "from sklearn.pipeline import Pipeline\n",
    "from sklearn.feature_selection import RFE"
   ]
  },
  {
   "cell_type": "code",
   "execution_count": 2,
   "metadata": {
    "collapsed": true
   },
   "outputs": [],
   "source": [
    "regions = dict(\n",
    "    \n",
    "    lfp = [\n",
    "        \"ctx_lh_S_front_sup.nii.gz\",\n",
    "        \"ctx_lh_G_precentral.nii.gz\",\n",
    "        \"ctx_lh_G_front_middle.nii.gz\",\n",
    "        \"ctx_lh_G_and_S_cingul-Ant.nii.gz\"\n",
    "    ],\n",
    "    \n",
    "    rfp = [\n",
    "        \"ctx_rh_G_front_sup.nii.gz\",\n",
    "        \"ctx_rh_G_postcentral.nii.gz\",\n",
    "        \"ctx_rh_G_front_middle.nii.gz\",\n",
    "        \"ctx_rh_G_front_inf-Orbital.nii.gz\",\n",
    "        \"ctx_rh_G_and_S_transv_frontopol.nii.gz\",\n",
    "        \"ctx_rh_G_precentral.nii.gz\",\n",
    "        \"ctx_rh_S_front_middle.nii.gz\",\n",
    "        \"ctx_rh_G_and_S_cingul-Ant.nii.gz\"\n",
    "    ],\n",
    "    \n",
    "    lt = [\n",
    "        \"ctx_lh_S_temporal_inf.nii.gz\",\n",
    "        \"ctx_lh_G_temp_sup-G_T_transv.nii.gz\",\n",
    "        \"ctx_lh_G_temporal_middle.nii.gz\",\n",
    "        \"ctx_lh_G_temp_sup-Plan_polar.nii.gz\",\n",
    "        \"ctx_lh_G_temp_sup-Lateral.nii.gz\",\n",
    "        \"ctx_lh_G_temporal_inf.nii.gz\",\n",
    "        \"ctx_lh_G_temp_sup-Plan_tempo.nii.gz\",\n",
    "        \"ctx_lh_S_temporal_sup.nii.gz\"\n",
    "    ],\n",
    "    \n",
    "    rt = [\n",
    "        \"ctx_rh_G_temp_sup-Lateral.nii.gz\",\n",
    "        \"ctx_rh_S_temporal_transverse.nii.gz\",\n",
    "        \"ctx_rh_G_temp_sup-Plan_polar.nii.gz\",\n",
    "        \"ctx_rh_G_temporal_middle.nii.gz\",\n",
    "        \"ctx_rh_S_temporal_sup.nii.gz\",\n",
    "        \"ctx_rh_G_temp_sup-Plan_tempo.nii.gz\",\n",
    "        \"ctx_rh_G_temporal_inf.nii.gz\",\n",
    "        \"ctx_rh_S_temporal_inf.nii.gz\",\n",
    "        \"ctx_rh_G_temp_sup-G_T_transv.nii.gz\"\n",
    "    ],\n",
    "    \n",
    "    sc = [\n",
    "        \"Right-Thalamus-Proper.nii.gz\",\n",
    "        \"Left-Thalamus-Proper.nii.gz\",\n",
    "        \"Right-Accumbens-area.nii.gz\",\n",
    "        \"Left-Accumbens-area.nii.gz\",\n",
    "        \"Right-Caudate.nii.gz\",\n",
    "        \"Left-Caudate.nii.gz\",\n",
    "        \"Right-Putamen.nii.gz\",\n",
    "        \"Left-Putamen.nii.gz\",\n",
    "        \"Right-Amygdala.nii.gz\",\n",
    "        \"Left-Amygdala.nii.gz\",\n",
    "        \"Right-Hippocampus.nii.gz\",\n",
    "        \"Left-Hippocampus.nii.gz\"\n",
    "    ]\n",
    "    \n",
    ")"
   ]
  },
  {
   "cell_type": "code",
   "execution_count": 5,
   "metadata": {},
   "outputs": [
    {
     "name": "stdout",
     "output_type": "stream",
     "text": [
      "1.0\n"
     ]
    }
   ],
   "source": [
    "means = pd.read_csv(\"fszstatcope2_means_nz.csv\", index_col=0)\n",
    "behav = pd.read_csv(\"behav.txt\", sep='\\t', index_col=0)\n",
    "print(np.mean(behav.index == means.index)) #should be 1.0"
   ]
  },
  {
   "cell_type": "code",
   "execution_count": 157,
   "metadata": {},
   "outputs": [
    {
     "name": "stdout",
     "output_type": "stream",
     "text": [
      "3dbrainviz.ipynb                      kids_vs_adults_rochists_featElim.png\r\n",
      "RFCUSTOM.py                           \u001b[34moldk_vs_adult\u001b[m\u001b[m/\r\n",
      "Untitled.ipynb                        oos_roc_rf.txt\r\n",
      "all_td_age.csv                        regional.ipynb\r\n",
      "alldata_rf_model.png                  resh5py\r\n",
      "behav.txt                             results_with_nullmodel.h5py\r\n",
      "feature_per_iteration_inclusions.csv  rf_featselect.ipynb\r\n",
      "fszstatcope2_means_all.csv            rochist.png\r\n",
      "fszstatcope2_means_nz.csv             sklearn_prelim.ipynb\r\n",
      "fszstatcope2_means_nz_valset.csv      test_h5py\r\n",
      "fszstatcope2_nvoxels_all.csv          valset_behav.csv\r\n",
      "fszstatcope2_nvoxels_nz.csv           yk_ad_results_with_nullmodel.h5py\r\n",
      "fszstatcope2_nvoxels_nz_valset.csv    yk_ok_results_with_nullmodel.h5py\r\n",
      "\u001b[34mgit\u001b[m\u001b[m/                                  \u001b[34myoungk_vs_adult\u001b[m\u001b[m/\r\n",
      "glm.ipynb                             \u001b[34myoungk_vs_oldk\u001b[m\u001b[m/\r\n",
      "kids_vs_adults_alldata_rf_model.png\r\n"
     ]
    }
   ],
   "source": [
    "ls"
   ]
  },
  {
   "cell_type": "code",
   "execution_count": 6,
   "metadata": {},
   "outputs": [],
   "source": [
    "behav2g = behav[np.logical_or(behav.young_kid == 1, behav.adult == 1)]\n",
    "data2g = means[np.logical_or(behav.young_kid == 1, behav.adult == 1)]"
   ]
  },
  {
   "cell_type": "code",
   "execution_count": 7,
   "metadata": {
    "collapsed": true
   },
   "outputs": [],
   "source": [
    "def projection(data , covars):\n",
    "    \"\"\"for removing linear effect of covariates\"\"\"\n",
    "    X, C = data.values, covars.values\n",
    "    P = np.eye(C.shape[0]) - C.dot(np.linalg.pinv(C.T.dot(C))).dot(C.T)\n",
    "    return pd.DataFrame(P.dot(X), columns=data.columns, index=data.index)"
   ]
  },
  {
   "cell_type": "code",
   "execution_count": 8,
   "metadata": {
    "collapsed": true
   },
   "outputs": [],
   "source": [
    "def random_forest_model(data, y, cv, clf):\n",
    "    X, P = data.values, data.shape[1]\n",
    "    results = dict(pred=[], ytrue=[], fi=[], fidx=[])\n",
    "    results_null = dict(pred=[], ytrue=[], fi=[], fidx=[])\n",
    "    \n",
    "    for idx, (train, test) in enumerate(cv.split(X, y)):   \n",
    "        clf.fit(X[train], y[train])\n",
    "        results[\"pred\"].append(clf.predict(X[test]))\n",
    "        results[\"ytrue\"].append(y[test])\n",
    "        results[\"fi\"].append(clf.feature_importances_)\n",
    "        results[\"fidx\"].append([True for i in range(P)])\n",
    "        \n",
    "        # this is to compute the null model\n",
    "        try:\n",
    "            y_shuff = np.copy(y[train])\n",
    "            np.random.shuffle(y_shuff)\n",
    "            clf.fit(X[train], y_shuff)\n",
    "            results_null[\"pred\"].append(clf.predict(X[test]))\n",
    "            results_null[\"ytrue\"].append(y[test])\n",
    "            results_null[\"fi\"].append(clf.feature_importances_)\n",
    "            results_null[\"fidx\"].append([True for i in range(P)])\n",
    "        except:\n",
    "            print(\"couldn't compute null model\")\n",
    "        \n",
    "    \n",
    "    roc = roc_auc_score(np.array(results[\"ytrue\"]).ravel(), np.array(results[\"pred\"]).ravel())\n",
    "    \n",
    "    # this is to compute the null model\n",
    "    try:\n",
    "        roc_null = roc_auc_score(\n",
    "            np.array(results_null[\"ytrue\"]).ravel(),\n",
    "            np.array(results_null[\"pred\"]).ravel()\n",
    "        )\n",
    "    except:\n",
    "        print(\"couldn't compute null roc score\")\n",
    "        \n",
    "    return results, roc, results_null, roc_null"
   ]
  },
  {
   "cell_type": "code",
   "execution_count": 9,
   "metadata": {
    "collapsed": true,
    "scrolled": true
   },
   "outputs": [],
   "source": [
    "data2g = projection(data2g, behav2g.loc[:, [\"gender\", \"iq\", \"composite_motion\"]])"
   ]
  },
  {
   "cell_type": "code",
   "execution_count": 10,
   "metadata": {
    "collapsed": true
   },
   "outputs": [],
   "source": [
    "data_sets = {}\n",
    "\n",
    "for key, group in regions.items():\n",
    "    data_sets[key] = data2g.loc[:, group]\n",
    "    "
   ]
  },
  {
   "cell_type": "code",
   "execution_count": null,
   "metadata": {
    "collapsed": true
   },
   "outputs": [],
   "source": []
  },
  {
   "cell_type": "code",
   "execution_count": 182,
   "metadata": {
    "collapsed": true
   },
   "outputs": [],
   "source": [
    "niters=100\n",
    "rocs = {\"lfp\":[], \"rfp\":[], \"lt\":[], \"rt\":[], \"sc\":[]}\n",
    "rocs_null = {\"lfp\":[], \"rfp\":[], \"lt\":[], \"rt\":[], \"sc\":[]}\n",
    "res = {\"lfp\":[], \"rfp\":[], \"lt\":[], \"rt\":[], \"sc\":[]}\n",
    "res_null = {\"lfp\":[], \"rfp\":[], \"lt\":[], \"rt\":[], \"sc\":[]}\n",
    " \n",
    "for key, val in data_sets.items():\n",
    "    for i_iter in np.arange(niters):\n",
    "        cv=LeaveOneOut()\n",
    "        clf=RandomForestClassifier(n_estimators=10)\n",
    "        \n",
    "        res_g, roc_g, resnull_g, rocnull_g = random_forest_model(\n",
    "            val, \n",
    "            behav2g.young_kid.values,\n",
    "            cv,\n",
    "            clf\n",
    "        )\n",
    "        \n",
    "        rocs[key].append(roc_g)\n",
    "        rocs_null[key].append(rocnull_g)\n",
    "        res[key].append(res_g)\n",
    "        res_null[key].append(resnull_g)"
   ]
  },
  {
   "cell_type": "markdown",
   "metadata": {},
   "source": [
    "# predictive roc scores"
   ]
  },
  {
   "cell_type": "code",
   "execution_count": 183,
   "metadata": {},
   "outputs": [
    {
     "name": "stdout",
     "output_type": "stream",
     "text": [
      "lfp \t 0.6491272727272728\n",
      "rfp \t 0.6015272727272728\n",
      "lt \t 0.5552181818181817\n",
      "rt \t 0.5549545454545455\n",
      "sc \t 0.40193636363636365\n"
     ]
    }
   ],
   "source": [
    "for key, val in rocs.items():\n",
    "    print(key, \"\\t\", np.mean(val))"
   ]
  },
  {
   "cell_type": "code",
   "execution_count": 193,
   "metadata": {},
   "outputs": [
    {
     "data": {
      "text/plain": [
       "<matplotlib.legend.Legend at 0x1a201ac208>"
      ]
     },
     "execution_count": 193,
     "metadata": {},
     "output_type": "execute_result"
    },
    {
     "data": {
      "image/png": "[encoded data removed]",
      "text/plain": [
       "<matplotlib.figure.Figure at 0x1a1ff2f278>"
      ]
     },
     "metadata": {},
     "output_type": "display_data"
    }
   ],
   "source": [
    "plt.figure(figsize=(12, 8))\n",
    "plt.hist(rocs[\"lfp\"], edgecolor=\"black\")\n",
    "plt.hist(rocs[\"rfp\"], edgecolor=\"black\", alpha=.65)\n",
    "plt.hist(rocs[\"rt\"], edgecolor=\"black\", alpha=.65)\n",
    "plt.hist(rocs[\"lt\"], edgecolor=\"black\", alpha=.65)\n",
    "plt.hist(rocs[\"sc\"], edgecolor=\"black\", alpha=.65)\n",
    "plt.legend([\"lfp\", \"rfp\", \"rt\", \"lt\", \"sc\"])"
   ]
  },
  {
   "cell_type": "markdown",
   "metadata": {},
   "source": [
    "# empirical p-values"
   ]
  },
  {
   "cell_type": "code",
   "execution_count": 215,
   "metadata": {},
   "outputs": [
    {
     "name": "stdout",
     "output_type": "stream",
     "text": [
      "region: lfp p-value: 0.019801980198019802\n",
      "region: rfp p-value: 0.039603960396039604\n",
      "region: lt p-value: 0.12871287128712872\n",
      "region: rt p-value: 0.19801980198019803\n",
      "region: sc p-value: 0.8415841584158416\n"
     ]
    }
   ],
   "source": [
    "for key in [\"lfp\", \"rfp\", \"lt\", \"rt\", \"sc\"]:\n",
    "    pval = (np.sum(rocs_null[key] >= np.mean(rocs[key])) + 1) / (niters + 1)\n",
    "    print(\"region: {} p-value: {}\".format(key, pval))"
   ]
  },
  {
   "cell_type": "markdown",
   "metadata": {},
   "source": [
    "# feature importances"
   ]
  },
  {
   "cell_type": "code",
   "execution_count": 202,
   "metadata": {
    "collapsed": true
   },
   "outputs": [],
   "source": [
    "lfp_imps = np.zeros((niters, len(regions[\"lfp\"])))\n",
    "rfp_imps = np.zeros((niters, len(regions[\"rfp\"])))\n",
    "lt_imps = np.zeros((niters, len(regions[\"lt\"])))\n",
    "rt_imps = np.zeros((niters, len(regions[\"rt\"])))\n",
    "sc_imps = np.zeros((niters, len(regions[\"sc\"])))\n",
    "\n",
    "for i in np.arange(niters):\n",
    "    lfp_imps[i, :] = np.array(res[\"lfp\"][i][\"fi\"]).mean(0)\n",
    "    rfp_imps[i, :] = np.array(res[\"rfp\"][i][\"fi\"]).mean(0)\n",
    "    lt_imps[i, :] = np.array(res[\"lt\"][i][\"fi\"]).mean(0)\n",
    "    rt_imps[i, :] = np.array(res[\"rt\"][i][\"fi\"]).mean(0)\n",
    "    sc_imps[i, :] = np.array(res[\"sc\"][i][\"fi\"]).mean(0)"
   ]
  },
  {
   "cell_type": "code",
   "execution_count": 207,
   "metadata": {},
   "outputs": [
    {
     "name": "stdout",
     "output_type": "stream",
     "text": [
      "ctx_lh_S_front_sup.nii.gz \t 0.23491725162854438\n",
      "ctx_lh_G_precentral.nii.gz \t 0.2738833257972053\n",
      "ctx_lh_G_front_middle.nii.gz \t 0.1883258237053612\n",
      "ctx_lh_G_and_S_cingul-Ant.nii.gz \t 0.3028735988688893\n"
     ]
    }
   ],
   "source": [
    "for pair in zip(regions[\"lfp\"], lfp_imps.mean(0)):\n",
    "    print(pair[0], \"\\t\", pair[1])"
   ]
  },
  {
   "cell_type": "code",
   "execution_count": 208,
   "metadata": {},
   "outputs": [
    {
     "name": "stdout",
     "output_type": "stream",
     "text": [
      "ctx_rh_G_front_sup.nii.gz \t 0.10031106639030694\n",
      "ctx_rh_G_postcentral.nii.gz \t 0.20001410022832236\n",
      "ctx_rh_G_front_middle.nii.gz \t 0.12148321118633748\n",
      "ctx_rh_G_front_inf-Orbital.nii.gz \t 0.11352760694086808\n",
      "ctx_rh_G_and_S_transv_frontopol.nii.gz \t 0.09253652175839067\n",
      "ctx_rh_G_precentral.nii.gz \t 0.16652460636807795\n",
      "ctx_rh_S_front_middle.nii.gz \t 0.09685940675178156\n",
      "ctx_rh_G_and_S_cingul-Ant.nii.gz \t 0.10874348037591494\n"
     ]
    }
   ],
   "source": [
    "for pair in zip(regions[\"rfp\"], rfp_imps.mean(0)):\n",
    "    print(pair[0], \"\\t\", pair[1])"
   ]
  },
  {
   "cell_type": "code",
   "execution_count": 209,
   "metadata": {},
   "outputs": [
    {
     "name": "stdout",
     "output_type": "stream",
     "text": [
      "ctx_lh_S_temporal_inf.nii.gz \t 0.1258579335431441\n",
      "ctx_lh_G_temp_sup-G_T_transv.nii.gz \t 0.11485939038234902\n",
      "ctx_lh_G_temporal_middle.nii.gz \t 0.13385354168310598\n",
      "ctx_lh_G_temp_sup-Plan_polar.nii.gz \t 0.10153474459807231\n",
      "ctx_lh_G_temp_sup-Lateral.nii.gz \t 0.11198580668851443\n",
      "ctx_lh_G_temporal_inf.nii.gz \t 0.12645410319352945\n",
      "ctx_lh_G_temp_sup-Plan_tempo.nii.gz \t 0.11570915360882843\n",
      "ctx_lh_S_temporal_sup.nii.gz \t 0.1697453263024564\n"
     ]
    }
   ],
   "source": [
    "for pair in zip(regions[\"lt\"], lt_imps.mean(0)):\n",
    "    print(pair[0], \"\\t\", pair[1])"
   ]
  },
  {
   "cell_type": "code",
   "execution_count": 210,
   "metadata": {},
   "outputs": [
    {
     "name": "stdout",
     "output_type": "stream",
     "text": [
      "ctx_rh_G_temp_sup-Lateral.nii.gz \t 0.10012266402172758\n",
      "ctx_rh_S_temporal_transverse.nii.gz \t 0.09480240641667548\n",
      "ctx_rh_G_temp_sup-Plan_polar.nii.gz \t 0.08281815557367292\n",
      "ctx_rh_G_temporal_middle.nii.gz \t 0.1459234137218595\n",
      "ctx_rh_S_temporal_sup.nii.gz \t 0.11442856825811205\n",
      "ctx_rh_G_temp_sup-Plan_tempo.nii.gz \t 0.10093663702020252\n",
      "ctx_rh_G_temporal_inf.nii.gz \t 0.1221560466648318\n",
      "ctx_rh_S_temporal_inf.nii.gz \t 0.14237079092735114\n",
      "ctx_rh_G_temp_sup-G_T_transv.nii.gz \t 0.09644131739556708\n"
     ]
    }
   ],
   "source": [
    "for pair in zip(regions[\"rt\"], rt_imps.mean(0)):\n",
    "    print(pair[0], \"\\t\", pair[1])"
   ]
  },
  {
   "cell_type": "code",
   "execution_count": 211,
   "metadata": {},
   "outputs": [
    {
     "name": "stdout",
     "output_type": "stream",
     "text": [
      "Right-Thalamus-Proper.nii.gz \t 0.0786133698564401\n",
      "Left-Thalamus-Proper.nii.gz \t 0.08952810687882938\n",
      "Right-Accumbens-area.nii.gz \t 0.08117475441116227\n",
      "Left-Accumbens-area.nii.gz \t 0.07212150895365896\n",
      "Right-Caudate.nii.gz \t 0.06663621615364827\n",
      "Left-Caudate.nii.gz \t 0.08047495157251641\n",
      "Right-Putamen.nii.gz \t 0.0969690225780906\n",
      "Left-Putamen.nii.gz \t 0.1022390964478393\n",
      "Right-Amygdala.nii.gz \t 0.08841624017069635\n",
      "Left-Amygdala.nii.gz \t 0.08031965723593118\n",
      "Right-Hippocampus.nii.gz \t 0.0804377109175787\n",
      "Left-Hippocampus.nii.gz \t 0.08306936482360854\n"
     ]
    }
   ],
   "source": [
    "for pair in zip(regions[\"sc\"], sc_imps.mean(0)):\n",
    "    print(pair[0], \"\\t\", pair[1])"
   ]
  },
  {
   "cell_type": "markdown",
   "metadata": {
    "collapsed": true
   },
   "source": [
    "# now doing young kids vs older kids"
   ]
  },
  {
   "cell_type": "code",
   "execution_count": 13,
   "metadata": {
    "collapsed": true
   },
   "outputs": [],
   "source": [
    "behav_ykok = behav[np.logical_or(behav.young_kid == 1, behav.old_kid == 1)]\n",
    "data_ykok = means[np.logical_or(behav.young_kid == 1, behav.old_kid == 1)]\n",
    "data_ykok = projection(data_ykok, behav_ykok.loc[:, [\"gender\", \"iq\", \"composite_motion\"]])"
   ]
  },
  {
   "cell_type": "code",
   "execution_count": 17,
   "metadata": {
    "collapsed": true
   },
   "outputs": [],
   "source": [
    "data_sets_ykok = {}\n",
    "\n",
    "for key, group in regions.items():\n",
    "    data_sets_ykok[key] = data_ykok.loc[:, group]"
   ]
  },
  {
   "cell_type": "code",
   "execution_count": 18,
   "metadata": {
    "collapsed": true
   },
   "outputs": [],
   "source": [
    "niters=100\n",
    "rocs_ykok = {\"lfp\":[], \"rfp\":[], \"lt\":[], \"rt\":[], \"sc\":[]}\n",
    "rocs_null_ykok = {\"lfp\":[], \"rfp\":[], \"lt\":[], \"rt\":[], \"sc\":[]}\n",
    "res_ykok = {\"lfp\":[], \"rfp\":[], \"lt\":[], \"rt\":[], \"sc\":[]}\n",
    "res_null_ykok = {\"lfp\":[], \"rfp\":[], \"lt\":[], \"rt\":[], \"sc\":[]}\n",
    " \n",
    "for key, val in data_sets_ykok.items():\n",
    "    for i_iter in np.arange(niters):\n",
    "        cv=LeaveOneOut()\n",
    "        clf=RandomForestClassifier(n_estimators=10)\n",
    "        \n",
    "        res_g, roc_g, resnull_g, rocnull_g = random_forest_model(\n",
    "            val, \n",
    "            behav_ykok.young_kid.values,\n",
    "            cv,\n",
    "            clf\n",
    "        )\n",
    "        \n",
    "        rocs_ykok[key].append(roc_g)\n",
    "        rocs_null_ykok[key].append(rocnull_g)\n",
    "        res_ykok[key].append(res_g)\n",
    "        res_null_ykok[key].append(resnull_g)"
   ]
  },
  {
   "cell_type": "markdown",
   "metadata": {},
   "source": [
    "# predictive roc scores"
   ]
  },
  {
   "cell_type": "code",
   "execution_count": 19,
   "metadata": {},
   "outputs": [
    {
     "name": "stdout",
     "output_type": "stream",
     "text": [
      "lfp \t 0.5452275862068966\n",
      "rfp \t 0.5332413793103449\n",
      "lt \t 0.392\n",
      "rt \t 0.4094689655172414\n",
      "sc \t 0.48791034482758616\n"
     ]
    }
   ],
   "source": [
    "for key, val in rocs_ykok.items():\n",
    "    print(key, \"\\t\", np.mean(val))"
   ]
  },
  {
   "cell_type": "code",
   "execution_count": 21,
   "metadata": {},
   "outputs": [
    {
     "data": {
      "text/plain": [
       "<matplotlib.legend.Legend at 0x1a22dd2160>"
      ]
     },
     "execution_count": 21,
     "metadata": {},
     "output_type": "execute_result"
    },
    {
     "data": {
      "image/png": "[encoded data removed]",
      "text/plain": [
       "<matplotlib.figure.Figure at 0x1a22d3b0b8>"
      ]
     },
     "metadata": {},
     "output_type": "display_data"
    }
   ],
   "source": [
    "plt.figure(figsize=(12, 8))\n",
    "plt.hist(rocs_ykok[\"lfp\"], edgecolor=\"black\")\n",
    "plt.hist(rocs_ykok[\"rfp\"], edgecolor=\"black\", alpha=.65)\n",
    "plt.hist(rocs_ykok[\"rt\"], edgecolor=\"black\", alpha=.65)\n",
    "plt.hist(rocs_ykok[\"lt\"], edgecolor=\"black\", alpha=.65)\n",
    "plt.hist(rocs_ykok[\"sc\"], edgecolor=\"black\", alpha=.65)\n",
    "plt.legend([\"lfp\", \"rfp\", \"rt\", \"lt\", \"sc\"])"
   ]
  },
  {
   "cell_type": "markdown",
   "metadata": {},
   "source": [
    "# empirical p-values"
   ]
  },
  {
   "cell_type": "code",
   "execution_count": 22,
   "metadata": {},
   "outputs": [
    {
     "name": "stdout",
     "output_type": "stream",
     "text": [
      "region: lfp p-value: 0.15841584158415842\n",
      "region: rfp p-value: 0.25742574257425743\n",
      "region: lt p-value: 0.9405940594059405\n",
      "region: rt p-value: 0.8613861386138614\n",
      "region: sc p-value: 0.504950495049505\n"
     ]
    }
   ],
   "source": [
    "for key in [\"lfp\", \"rfp\", \"lt\", \"rt\", \"sc\"]:\n",
    "    pval = (np.sum(rocs_null_ykok[key] >= np.mean(rocs_ykok[key])) + 1) / (niters + 1)\n",
    "    print(\"region: {} p-value: {}\".format(key, pval))"
   ]
  },
  {
   "cell_type": "markdown",
   "metadata": {},
   "source": [
    "# feature importances"
   ]
  },
  {
   "cell_type": "code",
   "execution_count": 23,
   "metadata": {
    "collapsed": true
   },
   "outputs": [],
   "source": [
    "lfp_imps = np.zeros((niters, len(regions[\"lfp\"])))\n",
    "rfp_imps = np.zeros((niters, len(regions[\"rfp\"])))\n",
    "lt_imps = np.zeros((niters, len(regions[\"lt\"])))\n",
    "rt_imps = np.zeros((niters, len(regions[\"rt\"])))\n",
    "sc_imps = np.zeros((niters, len(regions[\"sc\"])))\n",
    "\n",
    "for i in np.arange(niters):\n",
    "    lfp_imps[i, :] = np.array(res_ykok[\"lfp\"][i][\"fi\"]).mean(0)\n",
    "    rfp_imps[i, :] = np.array(res_ykok[\"rfp\"][i][\"fi\"]).mean(0)\n",
    "    lt_imps[i, :] = np.array(res_ykok[\"lt\"][i][\"fi\"]).mean(0)\n",
    "    rt_imps[i, :] = np.array(res_ykok[\"rt\"][i][\"fi\"]).mean(0)\n",
    "    sc_imps[i, :] = np.array(res_ykok[\"sc\"][i][\"fi\"]).mean(0)"
   ]
  },
  {
   "cell_type": "code",
   "execution_count": 24,
   "metadata": {},
   "outputs": [
    {
     "name": "stdout",
     "output_type": "stream",
     "text": [
      "ctx_lh_S_front_sup.nii.gz \t 0.2286526206659888\n",
      "ctx_lh_G_precentral.nii.gz \t 0.27449287129560723\n",
      "ctx_lh_G_front_middle.nii.gz \t 0.20321231421431318\n",
      "ctx_lh_G_and_S_cingul-Ant.nii.gz \t 0.2936421938240906\n"
     ]
    }
   ],
   "source": [
    "for pair in zip(regions[\"lfp\"], lfp_imps.mean(0)):\n",
    "    print(pair[0], \"\\t\", pair[1])"
   ]
  },
  {
   "cell_type": "code",
   "execution_count": 25,
   "metadata": {},
   "outputs": [
    {
     "name": "stdout",
     "output_type": "stream",
     "text": [
      "ctx_rh_G_front_sup.nii.gz \t 0.12514580364246225\n",
      "ctx_rh_G_postcentral.nii.gz \t 0.1680813445149048\n",
      "ctx_rh_G_front_middle.nii.gz \t 0.10522325449688937\n",
      "ctx_rh_G_front_inf-Orbital.nii.gz \t 0.09436835769512687\n",
      "ctx_rh_G_and_S_transv_frontopol.nii.gz \t 0.11866048660559204\n",
      "ctx_rh_G_precentral.nii.gz \t 0.15754727442381505\n",
      "ctx_rh_S_front_middle.nii.gz \t 0.11332138224223912\n",
      "ctx_rh_G_and_S_cingul-Ant.nii.gz \t 0.11765209637897071\n"
     ]
    }
   ],
   "source": [
    "for pair in zip(regions[\"rfp\"], rfp_imps.mean(0)):\n",
    "    print(pair[0], \"\\t\", pair[1])"
   ]
  },
  {
   "cell_type": "code",
   "execution_count": 26,
   "metadata": {},
   "outputs": [
    {
     "name": "stdout",
     "output_type": "stream",
     "text": [
      "ctx_lh_S_temporal_inf.nii.gz \t 0.12112509912640532\n",
      "ctx_lh_G_temp_sup-G_T_transv.nii.gz \t 0.13177949009073356\n",
      "ctx_lh_G_temporal_middle.nii.gz \t 0.12821000789256445\n",
      "ctx_lh_G_temp_sup-Plan_polar.nii.gz \t 0.15183294560006522\n",
      "ctx_lh_G_temp_sup-Lateral.nii.gz \t 0.10679298850839673\n",
      "ctx_lh_G_temporal_inf.nii.gz \t 0.13985648664161424\n",
      "ctx_lh_G_temp_sup-Plan_tempo.nii.gz \t 0.11164423409333216\n",
      "ctx_lh_S_temporal_sup.nii.gz \t 0.10875874804688826\n"
     ]
    }
   ],
   "source": [
    "for pair in zip(regions[\"lt\"], lt_imps.mean(0)):\n",
    "    print(pair[0], \"\\t\", pair[1])"
   ]
  },
  {
   "cell_type": "code",
   "execution_count": 27,
   "metadata": {},
   "outputs": [
    {
     "name": "stdout",
     "output_type": "stream",
     "text": [
      "ctx_rh_G_temp_sup-Lateral.nii.gz \t 0.11264999716620887\n",
      "ctx_rh_S_temporal_transverse.nii.gz \t 0.11539371363051792\n",
      "ctx_rh_G_temp_sup-Plan_polar.nii.gz \t 0.10006852909213032\n",
      "ctx_rh_G_temporal_middle.nii.gz \t 0.10630464932488934\n",
      "ctx_rh_S_temporal_sup.nii.gz \t 0.0925314125461143\n",
      "ctx_rh_G_temp_sup-Plan_tempo.nii.gz \t 0.10189485658623672\n",
      "ctx_rh_G_temporal_inf.nii.gz \t 0.12878837969658444\n",
      "ctx_rh_S_temporal_inf.nii.gz \t 0.09575195613151787\n",
      "ctx_rh_G_temp_sup-G_T_transv.nii.gz \t 0.14661650582580027\n"
     ]
    }
   ],
   "source": [
    "for pair in zip(regions[\"rt\"], rt_imps.mean(0)):\n",
    "    print(pair[0], \"\\t\", pair[1])"
   ]
  },
  {
   "cell_type": "code",
   "execution_count": 28,
   "metadata": {},
   "outputs": [
    {
     "name": "stdout",
     "output_type": "stream",
     "text": [
      "Right-Thalamus-Proper.nii.gz \t 0.07656060855774899\n",
      "Left-Thalamus-Proper.nii.gz \t 0.07478382559186629\n",
      "Right-Accumbens-area.nii.gz \t 0.09469655500138083\n",
      "Left-Accumbens-area.nii.gz \t 0.07599075072127878\n",
      "Right-Caudate.nii.gz \t 0.06811312409044264\n",
      "Left-Caudate.nii.gz \t 0.08209410834344189\n",
      "Right-Putamen.nii.gz \t 0.08786297638459097\n",
      "Left-Putamen.nii.gz \t 0.08566450156188726\n",
      "Right-Amygdala.nii.gz \t 0.10023514808976156\n",
      "Left-Amygdala.nii.gz \t 0.09325806164053922\n",
      "Right-Hippocampus.nii.gz \t 0.07271449191920681\n",
      "Left-Hippocampus.nii.gz \t 0.08802584809785499\n"
     ]
    }
   ],
   "source": [
    "for pair in zip(regions[\"sc\"], sc_imps.mean(0)):\n",
    "    print(pair[0], \"\\t\", pair[1])"
   ]
  },
  {
   "cell_type": "code",
   "execution_count": null,
   "metadata": {
    "collapsed": true
   },
   "outputs": [],
   "source": []
  }
 ],
 "metadata": {
  "kernelspec": {
   "display_name": "Python 3",
   "language": "python",
   "name": "python3"
  },
  "language_info": {
   "codemirror_mode": {
    "name": "ipython",
    "version": 3
   },
   "file_extension": ".py",
   "mimetype": "text/x-python",
   "name": "python",
   "nbconvert_exporter": "python",
   "pygments_lexer": "ipython3",
   "version": "3.6.2"
  }
 },
 "nbformat": 4,
 "nbformat_minor": 2
}
