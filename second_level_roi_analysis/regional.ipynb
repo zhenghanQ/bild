{
 "cells": [
  {
   "cell_type": "code",
   "execution_count": 1,
   "metadata": {
    "collapsed": true
   },
   "outputs": [],
   "source": [
    "import os\n",
    "import h5py\n",
    "import numpy as np\n",
    "import pandas as pd\n",
    "from collections import Counter\n",
    "\n",
    "% matplotlib inline\n",
    "import matplotlib.pyplot as plt\n",
    "\n",
    "from sklearn.metrics import roc_auc_score\n",
    "from sklearn.model_selection import LeaveOneOut, StratifiedKFold\n",
    "from sklearn.ensemble import RandomForestClassifier, GradientBoostingClassifier\n",
    "\n",
    "from sklearn.feature_selection import SelectFromModel\n",
    "from sklearn.preprocessing import StandardScaler\n",
    "\n",
    "from sklearn import linear_model\n",
    "from sklearn.pipeline import Pipeline\n",
    "from sklearn.feature_selection import RFE"
   ]
  },
  {
   "cell_type": "code",
   "execution_count": 2,
   "metadata": {
    "collapsed": true
   },
   "outputs": [],
   "source": [
    "regions = dict(\n",
    "    \n",
    "    lfp = [\n",
    "        \"ctx_lh_S_front_sup.nii.gz\",\n",
    "        \"ctx_lh_G_precentral.nii.gz\",\n",
    "        \"ctx_lh_G_front_middle.nii.gz\",\n",
    "        \"ctx_lh_G_and_S_cingul-Ant.nii.gz\"\n",
    "    ],\n",
    "    \n",
    "    rfp = [\n",
    "        \"ctx_rh_G_front_sup.nii.gz\",\n",
    "        \"ctx_rh_G_postcentral.nii.gz\",\n",
    "        \"ctx_rh_G_front_middle.nii.gz\",\n",
    "        \"ctx_rh_G_front_inf-Orbital.nii.gz\",\n",
    "        \"ctx_rh_G_and_S_transv_frontopol.nii.gz\",\n",
    "        \"ctx_rh_G_precentral.nii.gz\",\n",
    "        \"ctx_rh_S_front_middle.nii.gz\",\n",
    "        \"ctx_rh_G_and_S_cingul-Ant.nii.gz\"\n",
    "    ],\n",
    "    \n",
    "    lt = [\n",
    "        \"ctx_lh_S_temporal_inf.nii.gz\",\n",
    "        \"ctx_lh_G_temp_sup-G_T_transv.nii.gz\",\n",
    "        \"ctx_lh_G_temporal_middle.nii.gz\",\n",
    "        \"ctx_lh_G_temp_sup-Plan_polar.nii.gz\",\n",
    "        \"ctx_lh_G_temp_sup-Lateral.nii.gz\",\n",
    "        \"ctx_lh_G_temporal_inf.nii.gz\",\n",
    "        \"ctx_lh_G_temp_sup-Plan_tempo.nii.gz\",\n",
    "        \"ctx_lh_S_temporal_sup.nii.gz\"\n",
    "    ],\n",
    "    \n",
    "    rt = [\n",
    "        \"ctx_rh_G_temp_sup-Lateral.nii.gz\",\n",
    "        \"ctx_rh_S_temporal_transverse.nii.gz\",\n",
    "        \"ctx_rh_G_temp_sup-Plan_polar.nii.gz\",\n",
    "        \"ctx_rh_G_temporal_middle.nii.gz\",\n",
    "        \"ctx_rh_S_temporal_sup.nii.gz\",\n",
    "        \"ctx_rh_G_temp_sup-Plan_tempo.nii.gz\",\n",
    "        \"ctx_rh_G_temporal_inf.nii.gz\",\n",
    "        \"ctx_rh_S_temporal_inf.nii.gz\",\n",
    "        \"ctx_rh_G_temp_sup-G_T_transv.nii.gz\"\n",
    "    ],\n",
    "    \n",
    "    sc = [\n",
    "        \"Right-Thalamus-Proper.nii.gz\",\n",
    "        \"Left-Thalamus-Proper.nii.gz\",\n",
    "        \"Right-Accumbens-area.nii.gz\",\n",
    "        \"Left-Accumbens-area.nii.gz\",\n",
    "        \"Right-Caudate.nii.gz\",\n",
    "        \"Left-Caudate.nii.gz\",\n",
    "        \"Right-Putamen.nii.gz\",\n",
    "        \"Left-Putamen.nii.gz\",\n",
    "        \"Right-Amygdala.nii.gz\",\n",
    "        \"Left-Amygdala.nii.gz\",\n",
    "        \"Right-Hippocampus.nii.gz\",\n",
    "        \"Left-Hippocampus.nii.gz\"\n",
    "    ]\n",
    "    \n",
    ")"
   ]
  },
  {
   "cell_type": "code",
   "execution_count": 3,
   "metadata": {},
   "outputs": [
    {
     "name": "stdout",
     "output_type": "stream",
     "text": [
      "1.0\n"
     ]
    }
   ],
   "source": [
    "means = pd.read_csv(\"fszstatcope2_means_nz.csv\", index_col=0)\n",
    "behav = pd.read_csv(\"behav.txt\", sep='\\t', index_col=0)\n",
    "print(np.mean(behav.index == means.index)) #should be 1.0"
   ]
  },
  {
   "cell_type": "code",
   "execution_count": 4,
   "metadata": {},
   "outputs": [
    {
     "name": "stdout",
     "output_type": "stream",
     "text": [
      "3dbrainviz.ipynb                      linear_models.ipynb\r\n",
      "RFCUSTOM.py                           multi_classif.ipynb\r\n",
      "all_td_age.csv                        \u001b[34moldk_vs_adult\u001b[m\u001b[m/\r\n",
      "alldata_rf_model.png                  oos_roc_rf.txt\r\n",
      "behav.txt                             regional.ipynb\r\n",
      "feature_per_iteration_inclusions.csv  resh5py\r\n",
      "fszstatcope2_means_all.csv            results_with_nullmodel.h5py\r\n",
      "fszstatcope2_means_nz.csv             rf_featselect.ipynb\r\n",
      "fszstatcope2_means_nz_valset.csv      rf_regression.ipynb\r\n",
      "fszstatcope2_nvoxels_all.csv          rochist.png\r\n",
      "fszstatcope2_nvoxels_nz.csv           test_h5py\r\n",
      "fszstatcope2_nvoxels_nz_valset.csv    valset_behav.csv\r\n",
      "\u001b[34mgit\u001b[m\u001b[m/                                  yk_ad_results_with_nullmodel.h5py\r\n",
      "glm.ipynb                             yk_ok_results_with_nullmodel.h5py\r\n",
      "kids_vs_adults_alldata_rf_model.png   \u001b[34myoungk_vs_adult\u001b[m\u001b[m/\r\n",
      "kids_vs_adults_rochists_featElim.png  \u001b[34myoungk_vs_oldk\u001b[m\u001b[m/\r\n"
     ]
    }
   ],
   "source": [
    "ls"
   ]
  },
  {
   "cell_type": "code",
   "execution_count": 5,
   "metadata": {
    "collapsed": true
   },
   "outputs": [],
   "source": [
    "behav2g = behav[np.logical_or(behav.young_kid == 1, behav.adult == 1)]\n",
    "data2g = means[np.logical_or(behav.young_kid == 1, behav.adult == 1)]"
   ]
  },
  {
   "cell_type": "code",
   "execution_count": 6,
   "metadata": {
    "collapsed": true
   },
   "outputs": [],
   "source": [
    "def projection(data , covars):\n",
    "    \"\"\"for removing linear effect of covariates\"\"\"\n",
    "    X, C = data.values, covars.values\n",
    "    P = np.eye(C.shape[0]) - C.dot(np.linalg.pinv(C.T.dot(C))).dot(C.T)\n",
    "    return pd.DataFrame(P.dot(X), columns=data.columns, index=data.index)"
   ]
  },
  {
   "cell_type": "code",
   "execution_count": 7,
   "metadata": {
    "collapsed": true
   },
   "outputs": [],
   "source": [
    "def random_forest_model(data, y, cv, clf):\n",
    "    X, P = data.values, data.shape[1]\n",
    "    results = dict(pred=[], ytrue=[], fi=[], fidx=[])\n",
    "    results_null = dict(pred=[], ytrue=[], fi=[], fidx=[])\n",
    "    \n",
    "    for idx, (train, test) in enumerate(cv.split(X, y)):   \n",
    "        clf.fit(X[train], y[train])\n",
    "        results[\"pred\"].append(clf.predict(X[test]))\n",
    "        results[\"ytrue\"].append(y[test])\n",
    "        results[\"fi\"].append(clf.feature_importances_)\n",
    "        results[\"fidx\"].append([True for i in range(P)])\n",
    "        \n",
    "        # this is to compute the null model\n",
    "        try:\n",
    "            y_shuff = np.copy(y[train])\n",
    "            np.random.shuffle(y_shuff)\n",
    "            clf.fit(X[train], y_shuff)\n",
    "            results_null[\"pred\"].append(clf.predict(X[test]))\n",
    "            results_null[\"ytrue\"].append(y[test])\n",
    "            results_null[\"fi\"].append(clf.feature_importances_)\n",
    "            results_null[\"fidx\"].append([True for i in range(P)])\n",
    "        except:\n",
    "            print(\"couldn't compute null model\")\n",
    "        \n",
    "    \n",
    "    roc = roc_auc_score(np.array(results[\"ytrue\"]).ravel(), np.array(results[\"pred\"]).ravel())\n",
    "    \n",
    "    # this is to compute the null model\n",
    "    try:\n",
    "        roc_null = roc_auc_score(\n",
    "            np.array(results_null[\"ytrue\"]).ravel(),\n",
    "            np.array(results_null[\"pred\"]).ravel()\n",
    "        )\n",
    "    except:\n",
    "        print(\"couldn't compute null roc score\")\n",
    "        \n",
    "    return results, roc, results_null, roc_null"
   ]
  },
  {
   "cell_type": "code",
   "execution_count": 8,
   "metadata": {
    "collapsed": true,
    "scrolled": true
   },
   "outputs": [],
   "source": [
    "data2g = projection(data2g, behav2g.loc[:, [\"gender\", \"iq\", \"composite_motion\"]])"
   ]
  },
  {
   "cell_type": "code",
   "execution_count": 12,
   "metadata": {
    "collapsed": true
   },
   "outputs": [],
   "source": [
    "data_sets = {}\n",
    "\n",
    "for key, group in regions.items():\n",
    "    data_sets[key] = data2g.loc[:, group]\n",
    "    "
   ]
  },
  {
   "cell_type": "code",
   "execution_count": 14,
   "metadata": {},
   "outputs": [
    {
     "name": "stdout",
     "output_type": "stream",
     "text": [
      "1\n"
     ]
    }
   ],
   "source": [
    "print(1)"
   ]
  },
  {
   "cell_type": "code",
   "execution_count": 13,
   "metadata": {},
   "outputs": [],
   "source": [
    "niters=100\n",
    "rocs = {\"lfp\":[], \"rfp\":[], \"lt\":[], \"rt\":[], \"sc\":[]}\n",
    "rocs_null = {\"lfp\":[], \"rfp\":[], \"lt\":[], \"rt\":[], \"sc\":[]}\n",
    "res = {\"lfp\":[], \"rfp\":[], \"lt\":[], \"rt\":[], \"sc\":[]}\n",
    "res_null = {\"lfp\":[], \"rfp\":[], \"lt\":[], \"rt\":[], \"sc\":[]}\n",
    " \n",
    "for key, val in data_sets.items():\n",
    "    for i_iter in np.arange(niters):\n",
    "        cv=LeaveOneOut()\n",
    "        clf=RandomForestClassifier(n_estimators=1000, n_jobs=4)\n",
    "        \n",
    "        res_g, roc_g, resnull_g, rocnull_g = random_forest_model(\n",
    "            val, \n",
    "            behav2g.young_kid.values,\n",
    "            cv,\n",
    "            clf\n",
    "        )\n",
    "        \n",
    "        rocs[key].append(roc_g)\n",
    "        rocs_null[key].append(rocnull_g)\n",
    "        res[key].append(res_g)\n",
    "        res_null[key].append(resnull_g)"
   ]
  },
  {
   "cell_type": "markdown",
   "metadata": {},
   "source": [
    "# predictive roc scores"
   ]
  },
  {
   "cell_type": "code",
   "execution_count": 15,
   "metadata": {},
   "outputs": [
    {
     "name": "stdout",
     "output_type": "stream",
     "text": [
      "lfp \t 0.7156818181818183\n",
      "rfp \t 0.5916363636363636\n",
      "lt \t 0.5707636363636364\n",
      "rt \t 0.5460272727272726\n",
      "sc \t 0.3316454545454545\n"
     ]
    }
   ],
   "source": [
    "for key, val in rocs.items():\n",
    "    print(key, \"\\t\", np.mean(val))"
   ]
  },
  {
   "cell_type": "code",
   "execution_count": 16,
   "metadata": {},
   "outputs": [
    {
     "data": {
      "text/plain": [
       "<matplotlib.legend.Legend at 0x11ec1e2e8>"
      ]
     },
     "execution_count": 16,
     "metadata": {},
     "output_type": "execute_result"
    },
    {
     "data": {
      "image/png": "[encoded data removed]",
      "text/plain": [
       "<matplotlib.figure.Figure at 0x11e9ce978>"
      ]
     },
     "metadata": {},
     "output_type": "display_data"
    }
   ],
   "source": [
    "plt.figure(figsize=(12, 8))\n",
    "plt.hist(rocs[\"lfp\"], edgecolor=\"black\")\n",
    "plt.hist(rocs[\"rfp\"], edgecolor=\"black\", alpha=.65)\n",
    "plt.hist(rocs[\"rt\"], edgecolor=\"black\", alpha=.65)\n",
    "plt.hist(rocs[\"lt\"], edgecolor=\"black\", alpha=.65)\n",
    "plt.hist(rocs[\"sc\"], edgecolor=\"black\", alpha=.65)\n",
    "plt.legend([\"lfp\", \"rfp\", \"rt\", \"lt\", \"sc\"])"
   ]
  },
  {
   "cell_type": "markdown",
   "metadata": {},
   "source": [
    "# empirical p-values"
   ]
  },
  {
   "cell_type": "code",
   "execution_count": 17,
   "metadata": {},
   "outputs": [
    {
     "name": "stdout",
     "output_type": "stream",
     "text": [
      "region: lfp p-value: 0.009900990099009901\n",
      "region: rfp p-value: 0.0297029702970297\n",
      "region: lt p-value: 0.09900990099009901\n",
      "region: rt p-value: 0.1485148514851485\n",
      "region: sc p-value: 0.9801980198019802\n"
     ]
    }
   ],
   "source": [
    "for key in [\"lfp\", \"rfp\", \"lt\", \"rt\", \"sc\"]:\n",
    "    pval = (np.sum(rocs_null[key] >= np.mean(rocs[key])) + 1) / (niters + 1)\n",
    "    print(\"region: {} p-value: {}\".format(key, pval))"
   ]
  },
  {
   "cell_type": "markdown",
   "metadata": {},
   "source": [
    "# feature importances"
   ]
  },
  {
   "cell_type": "code",
   "execution_count": 18,
   "metadata": {
    "collapsed": true
   },
   "outputs": [],
   "source": [
    "lfp_imps = np.zeros((niters, len(regions[\"lfp\"])))\n",
    "rfp_imps = np.zeros((niters, len(regions[\"rfp\"])))\n",
    "lt_imps = np.zeros((niters, len(regions[\"lt\"])))\n",
    "rt_imps = np.zeros((niters, len(regions[\"rt\"])))\n",
    "sc_imps = np.zeros((niters, len(regions[\"sc\"])))\n",
    "\n",
    "for i in np.arange(niters):\n",
    "    lfp_imps[i, :] = np.array(res[\"lfp\"][i][\"fi\"]).mean(0)\n",
    "    rfp_imps[i, :] = np.array(res[\"rfp\"][i][\"fi\"]).mean(0)\n",
    "    lt_imps[i, :] = np.array(res[\"lt\"][i][\"fi\"]).mean(0)\n",
    "    rt_imps[i, :] = np.array(res[\"rt\"][i][\"fi\"]).mean(0)\n",
    "    sc_imps[i, :] = np.array(res[\"sc\"][i][\"fi\"]).mean(0)"
   ]
  },
  {
   "cell_type": "code",
   "execution_count": 19,
   "metadata": {},
   "outputs": [
    {
     "name": "stdout",
     "output_type": "stream",
     "text": [
      "ctx_lh_S_front_sup.nii.gz \t 0.23381592656424502\n",
      "ctx_lh_G_precentral.nii.gz \t 0.275069220646934\n",
      "ctx_lh_G_front_middle.nii.gz \t 0.1896295608221924\n",
      "ctx_lh_G_and_S_cingul-Ant.nii.gz \t 0.30148529196662843\n"
     ]
    }
   ],
   "source": [
    "for pair in zip(regions[\"lfp\"], lfp_imps.mean(0)):\n",
    "    print(pair[0], \"\\t\", pair[1])"
   ]
  },
  {
   "cell_type": "code",
   "execution_count": 20,
   "metadata": {},
   "outputs": [
    {
     "name": "stdout",
     "output_type": "stream",
     "text": [
      "ctx_rh_G_front_sup.nii.gz \t 0.10068001569574785\n",
      "ctx_rh_G_postcentral.nii.gz \t 0.19956284765592203\n",
      "ctx_rh_G_front_middle.nii.gz \t 0.12155000433481296\n",
      "ctx_rh_G_front_inf-Orbital.nii.gz \t 0.11314959854641472\n",
      "ctx_rh_G_and_S_transv_frontopol.nii.gz \t 0.09232511063868765\n",
      "ctx_rh_G_precentral.nii.gz \t 0.16717320845487763\n",
      "ctx_rh_S_front_middle.nii.gz \t 0.09685848221054597\n",
      "ctx_rh_G_and_S_cingul-Ant.nii.gz \t 0.10870073246299108\n"
     ]
    }
   ],
   "source": [
    "for pair in zip(regions[\"rfp\"], rfp_imps.mean(0)):\n",
    "    print(pair[0], \"\\t\", pair[1])"
   ]
  },
  {
   "cell_type": "code",
   "execution_count": 21,
   "metadata": {},
   "outputs": [
    {
     "name": "stdout",
     "output_type": "stream",
     "text": [
      "ctx_lh_S_temporal_inf.nii.gz \t 0.12582463109644748\n",
      "ctx_lh_G_temp_sup-G_T_transv.nii.gz \t 0.11541909668498272\n",
      "ctx_lh_G_temporal_middle.nii.gz \t 0.13321838855091506\n",
      "ctx_lh_G_temp_sup-Plan_polar.nii.gz \t 0.10047604627088765\n",
      "ctx_lh_G_temp_sup-Lateral.nii.gz \t 0.11273401084991069\n",
      "ctx_lh_G_temporal_inf.nii.gz \t 0.12673038265104997\n",
      "ctx_lh_G_temp_sup-Plan_tempo.nii.gz \t 0.1157178688927132\n",
      "ctx_lh_S_temporal_sup.nii.gz \t 0.1698795750030932\n"
     ]
    }
   ],
   "source": [
    "for pair in zip(regions[\"lt\"], lt_imps.mean(0)):\n",
    "    print(pair[0], \"\\t\", pair[1])"
   ]
  },
  {
   "cell_type": "code",
   "execution_count": 22,
   "metadata": {},
   "outputs": [
    {
     "name": "stdout",
     "output_type": "stream",
     "text": [
      "ctx_rh_G_temp_sup-Lateral.nii.gz \t 0.10026391106219722\n",
      "ctx_rh_S_temporal_transverse.nii.gz \t 0.094971337041867\n",
      "ctx_rh_G_temp_sup-Plan_polar.nii.gz \t 0.08275003645705142\n",
      "ctx_rh_G_temporal_middle.nii.gz \t 0.14580320929187937\n",
      "ctx_rh_S_temporal_sup.nii.gz \t 0.11461589701558156\n",
      "ctx_rh_G_temp_sup-Plan_tempo.nii.gz \t 0.10099170635389973\n",
      "ctx_rh_G_temporal_inf.nii.gz \t 0.12235975049822613\n",
      "ctx_rh_S_temporal_inf.nii.gz \t 0.14163489142232547\n",
      "ctx_rh_G_temp_sup-G_T_transv.nii.gz \t 0.09660926085697188\n"
     ]
    }
   ],
   "source": [
    "for pair in zip(regions[\"rt\"], rt_imps.mean(0)):\n",
    "    print(pair[0], \"\\t\", pair[1])"
   ]
  },
  {
   "cell_type": "code",
   "execution_count": 23,
   "metadata": {},
   "outputs": [
    {
     "name": "stdout",
     "output_type": "stream",
     "text": [
      "Right-Thalamus-Proper.nii.gz \t 0.07866218241230546\n",
      "Left-Thalamus-Proper.nii.gz \t 0.08824306775343688\n",
      "Right-Accumbens-area.nii.gz \t 0.08086414653224808\n",
      "Left-Accumbens-area.nii.gz \t 0.07218731952475699\n",
      "Right-Caudate.nii.gz \t 0.06664789574260055\n",
      "Left-Caudate.nii.gz \t 0.08042711603119067\n",
      "Right-Putamen.nii.gz \t 0.09756005089933222\n",
      "Left-Putamen.nii.gz \t 0.10226584105442559\n",
      "Right-Amygdala.nii.gz \t 0.08937681298036847\n",
      "Left-Amygdala.nii.gz \t 0.0806139051095017\n",
      "Right-Hippocampus.nii.gz \t 0.08037895778293573\n",
      "Left-Hippocampus.nii.gz \t 0.0827727041768977\n"
     ]
    }
   ],
   "source": [
    "for pair in zip(regions[\"sc\"], sc_imps.mean(0)):\n",
    "    print(pair[0], \"\\t\", pair[1])"
   ]
  },
  {
   "cell_type": "markdown",
   "metadata": {
    "collapsed": true
   },
   "source": [
    "# now doing young kids vs older kids"
   ]
  },
  {
   "cell_type": "code",
   "execution_count": 24,
   "metadata": {
    "collapsed": true
   },
   "outputs": [],
   "source": [
    "behav_ykok = behav[np.logical_or(behav.old_kid == 1, behav.adult == 1)]\n",
    "data_ykok = means[np.logical_or(behav.old_kid == 1, behav.adult == 1)]\n",
    "data_ykok = projection(data_ykok, behav_ykok.loc[:, [\"gender\", \"iq\", \"composite_motion\"]])"
   ]
  },
  {
   "cell_type": "code",
   "execution_count": 25,
   "metadata": {
    "collapsed": true
   },
   "outputs": [],
   "source": [
    "data_sets_ykok = {}\n",
    "\n",
    "for key, group in regions.items():\n",
    "    data_sets_ykok[key] = data_ykok.loc[:, group]"
   ]
  },
  {
   "cell_type": "code",
   "execution_count": 26,
   "metadata": {
    "collapsed": true
   },
   "outputs": [],
   "source": [
    "niters=100\n",
    "rocs_ykok = {\"lfp\":[], \"rfp\":[], \"lt\":[], \"rt\":[], \"sc\":[]}\n",
    "rocs_null_ykok = {\"lfp\":[], \"rfp\":[], \"lt\":[], \"rt\":[], \"sc\":[]}\n",
    "res_ykok = {\"lfp\":[], \"rfp\":[], \"lt\":[], \"rt\":[], \"sc\":[]}\n",
    "res_null_ykok = {\"lfp\":[], \"rfp\":[], \"lt\":[], \"rt\":[], \"sc\":[]}\n",
    " \n",
    "for key, val in data_sets_ykok.items():\n",
    "    for i_iter in np.arange(niters):\n",
    "        cv=LeaveOneOut()\n",
    "        clf=RandomForestClassifier(n_estimators=1000)\n",
    "        \n",
    "        res_g, roc_g, resnull_g, rocnull_g = random_forest_model(\n",
    "            val, \n",
    "            behav_ykok.old_kid.values,\n",
    "            cv,\n",
    "            clf\n",
    "        )\n",
    "        \n",
    "        rocs_ykok[key].append(roc_g)\n",
    "        rocs_null_ykok[key].append(rocnull_g)\n",
    "        res_ykok[key].append(res_g)\n",
    "        res_null_ykok[key].append(resnull_g)"
   ]
  },
  {
   "cell_type": "markdown",
   "metadata": {},
   "source": [
    "# predictive roc scores"
   ]
  },
  {
   "cell_type": "code",
   "execution_count": 27,
   "metadata": {},
   "outputs": [
    {
     "name": "stdout",
     "output_type": "stream",
     "text": [
      "lfp \t 0.5393416927899686\n",
      "rfp \t 0.5155956112852664\n",
      "lt \t 0.4443025078369906\n",
      "rt \t 0.5851724137931034\n",
      "sc \t 0.5124686520376175\n"
     ]
    }
   ],
   "source": [
    "for key, val in rocs_ykok.items():\n",
    "    print(key, \"\\t\", np.mean(val))"
   ]
  },
  {
   "cell_type": "code",
   "execution_count": 28,
   "metadata": {},
   "outputs": [
    {
     "data": {
      "text/plain": [
       "<matplotlib.legend.Legend at 0x1224db550>"
      ]
     },
     "execution_count": 28,
     "metadata": {},
     "output_type": "execute_result"
    },
    {
     "data": {
      "image/png": "[encoded data removed]",
      "text/plain": [
       "<matplotlib.figure.Figure at 0x120eb84e0>"
      ]
     },
     "metadata": {},
     "output_type": "display_data"
    }
   ],
   "source": [
    "plt.figure(figsize=(12, 8))\n",
    "plt.hist(rocs_ykok[\"lfp\"], edgecolor=\"black\")\n",
    "plt.hist(rocs_ykok[\"rfp\"], edgecolor=\"black\", alpha=.65)\n",
    "plt.hist(rocs_ykok[\"rt\"], edgecolor=\"black\", alpha=.65)\n",
    "plt.hist(rocs_ykok[\"lt\"], edgecolor=\"black\", alpha=.65)\n",
    "plt.hist(rocs_ykok[\"sc\"], edgecolor=\"black\", alpha=.65)\n",
    "plt.legend([\"lfp\", \"rfp\", \"rt\", \"lt\", \"sc\"])"
   ]
  },
  {
   "cell_type": "markdown",
   "metadata": {},
   "source": [
    "# empirical p-values"
   ]
  },
  {
   "cell_type": "code",
   "execution_count": 29,
   "metadata": {},
   "outputs": [
    {
     "name": "stdout",
     "output_type": "stream",
     "text": [
      "region: lfp p-value: 0.18811881188118812\n",
      "region: rfp p-value: 0.25742574257425743\n",
      "region: lt p-value: 0.6237623762376238\n",
      "region: rt p-value: 0.06930693069306931\n",
      "region: sc p-value: 0.26732673267326734\n"
     ]
    }
   ],
   "source": [
    "for key in [\"lfp\", \"rfp\", \"lt\", \"rt\", \"sc\"]:\n",
    "    pval = (np.sum(rocs_null_ykok[key] >= np.mean(rocs_ykok[key])) + 1) / (niters + 1)\n",
    "    print(\"region: {} p-value: {}\".format(key, pval))"
   ]
  },
  {
   "cell_type": "markdown",
   "metadata": {},
   "source": [
    "# feature importances"
   ]
  },
  {
   "cell_type": "code",
   "execution_count": 30,
   "metadata": {
    "collapsed": true
   },
   "outputs": [],
   "source": [
    "lfp_imps = np.zeros((niters, len(regions[\"lfp\"])))\n",
    "rfp_imps = np.zeros((niters, len(regions[\"rfp\"])))\n",
    "lt_imps = np.zeros((niters, len(regions[\"lt\"])))\n",
    "rt_imps = np.zeros((niters, len(regions[\"rt\"])))\n",
    "sc_imps = np.zeros((niters, len(regions[\"sc\"])))\n",
    "\n",
    "for i in np.arange(niters):\n",
    "    lfp_imps[i, :] = np.array(res_ykok[\"lfp\"][i][\"fi\"]).mean(0)\n",
    "    rfp_imps[i, :] = np.array(res_ykok[\"rfp\"][i][\"fi\"]).mean(0)\n",
    "    lt_imps[i, :] = np.array(res_ykok[\"lt\"][i][\"fi\"]).mean(0)\n",
    "    rt_imps[i, :] = np.array(res_ykok[\"rt\"][i][\"fi\"]).mean(0)\n",
    "    sc_imps[i, :] = np.array(res_ykok[\"sc\"][i][\"fi\"]).mean(0)"
   ]
  },
  {
   "cell_type": "code",
   "execution_count": 31,
   "metadata": {},
   "outputs": [
    {
     "name": "stdout",
     "output_type": "stream",
     "text": [
      "ctx_lh_S_front_sup.nii.gz \t 0.22692442949271327\n",
      "ctx_lh_G_precentral.nii.gz \t 0.214688406740378\n",
      "ctx_lh_G_front_middle.nii.gz \t 0.22571779073432044\n",
      "ctx_lh_G_and_S_cingul-Ant.nii.gz \t 0.33266937303258837\n"
     ]
    }
   ],
   "source": [
    "for pair in zip(regions[\"lfp\"], lfp_imps.mean(0)):\n",
    "    print(pair[0], \"\\t\", pair[1])"
   ]
  },
  {
   "cell_type": "code",
   "execution_count": 32,
   "metadata": {},
   "outputs": [
    {
     "name": "stdout",
     "output_type": "stream",
     "text": [
      "ctx_rh_G_front_sup.nii.gz \t 0.11629226718277183\n",
      "ctx_rh_G_postcentral.nii.gz \t 0.14767183977172355\n",
      "ctx_rh_G_front_middle.nii.gz \t 0.11165314518610588\n",
      "ctx_rh_G_front_inf-Orbital.nii.gz \t 0.11005823118671688\n",
      "ctx_rh_G_and_S_transv_frontopol.nii.gz \t 0.11917565206333142\n",
      "ctx_rh_G_precentral.nii.gz \t 0.11736154650329658\n",
      "ctx_rh_S_front_middle.nii.gz \t 0.13041975176822856\n",
      "ctx_rh_G_and_S_cingul-Ant.nii.gz \t 0.14736756633782563\n"
     ]
    }
   ],
   "source": [
    "for pair in zip(regions[\"rfp\"], rfp_imps.mean(0)):\n",
    "    print(pair[0], \"\\t\", pair[1])"
   ]
  },
  {
   "cell_type": "code",
   "execution_count": 33,
   "metadata": {},
   "outputs": [
    {
     "name": "stdout",
     "output_type": "stream",
     "text": [
      "ctx_lh_S_temporal_inf.nii.gz \t 0.14295353190610405\n",
      "ctx_lh_G_temp_sup-G_T_transv.nii.gz \t 0.11540041625379266\n",
      "ctx_lh_G_temporal_middle.nii.gz \t 0.11408229959817567\n",
      "ctx_lh_G_temp_sup-Plan_polar.nii.gz \t 0.12893093485285997\n",
      "ctx_lh_G_temp_sup-Lateral.nii.gz \t 0.11312814789781539\n",
      "ctx_lh_G_temporal_inf.nii.gz \t 0.14920333046416848\n",
      "ctx_lh_G_temp_sup-Plan_tempo.nii.gz \t 0.11476946836725559\n",
      "ctx_lh_S_temporal_sup.nii.gz \t 0.12153187065982833\n"
     ]
    }
   ],
   "source": [
    "for pair in zip(regions[\"lt\"], lt_imps.mean(0)):\n",
    "    print(pair[0], \"\\t\", pair[1])"
   ]
  },
  {
   "cell_type": "code",
   "execution_count": 34,
   "metadata": {},
   "outputs": [
    {
     "name": "stdout",
     "output_type": "stream",
     "text": [
      "ctx_rh_G_temp_sup-Lateral.nii.gz \t 0.13683221828434497\n",
      "ctx_rh_S_temporal_transverse.nii.gz \t 0.0856953963536297\n",
      "ctx_rh_G_temp_sup-Plan_polar.nii.gz \t 0.09701426682832023\n",
      "ctx_rh_G_temporal_middle.nii.gz \t 0.13640830098820275\n",
      "ctx_rh_S_temporal_sup.nii.gz \t 0.1483060242044463\n",
      "ctx_rh_G_temp_sup-Plan_tempo.nii.gz \t 0.06568547340041238\n",
      "ctx_rh_G_temporal_inf.nii.gz \t 0.12137044277334924\n",
      "ctx_rh_S_temporal_inf.nii.gz \t 0.12012277850434462\n",
      "ctx_rh_G_temp_sup-G_T_transv.nii.gz \t 0.08856509866294988\n"
     ]
    }
   ],
   "source": [
    "for pair in zip(regions[\"rt\"], rt_imps.mean(0)):\n",
    "    print(pair[0], \"\\t\", pair[1])"
   ]
  },
  {
   "cell_type": "code",
   "execution_count": 35,
   "metadata": {},
   "outputs": [
    {
     "name": "stdout",
     "output_type": "stream",
     "text": [
      "Right-Thalamus-Proper.nii.gz \t 0.08138771013581564\n",
      "Left-Thalamus-Proper.nii.gz \t 0.11515132285981135\n",
      "Right-Accumbens-area.nii.gz \t 0.0903488611920868\n",
      "Left-Accumbens-area.nii.gz \t 0.0899324141564881\n",
      "Right-Caudate.nii.gz \t 0.059619149439435845\n",
      "Left-Caudate.nii.gz \t 0.11796566639441082\n",
      "Right-Putamen.nii.gz \t 0.10205024974760767\n",
      "Left-Putamen.nii.gz \t 0.06454843135881361\n",
      "Right-Amygdala.nii.gz \t 0.05792794177598913\n",
      "Left-Amygdala.nii.gz \t 0.06234605247392015\n",
      "Right-Hippocampus.nii.gz \t 0.08197255662447844\n",
      "Left-Hippocampus.nii.gz \t 0.07674964384114244\n"
     ]
    }
   ],
   "source": [
    "for pair in zip(regions[\"sc\"], sc_imps.mean(0)):\n",
    "    print(pair[0], \"\\t\", pair[1])"
   ]
  },
  {
   "cell_type": "code",
   "execution_count": null,
   "metadata": {
    "collapsed": true
   },
   "outputs": [],
   "source": []
  }
 ],
 "metadata": {
  "kernelspec": {
   "display_name": "Python 3",
   "language": "python",
   "name": "python3"
  },
  "language_info": {
   "codemirror_mode": {
    "name": "ipython",
    "version": 3
   },
   "file_extension": ".py",
   "mimetype": "text/x-python",
   "name": "python",
   "nbconvert_exporter": "python",
   "pygments_lexer": "ipython3",
   "version": "3.6.2"
  }
 },
 "nbformat": 4,
 "nbformat_minor": 2
}
