{
 "cells": [
  {
   "cell_type": "code",
   "execution_count": 45,
   "metadata": {
    "collapsed": true
   },
   "outputs": [],
   "source": [
    "import pandas as pd\n",
    "import numpy as np\n",
    "import h5py\n",
    "import matplotlib.pyplot as plt\n",
    "% matplotlib inline\n",
    "\n",
    "import os\n",
    "import h5py\n",
    "import numpy as np\n",
    "import pandas as pd\n",
    "from collections import Counter\n",
    "\n",
    "% matplotlib inline\n",
    "import matplotlib.pyplot as plt\n",
    "\n",
    "from sklearn.metrics import explained_variance_score\n",
    "from sklearn.model_selection import LeaveOneOut, KFold\n",
    "\n",
    "from sklearn.feature_selection import SelectFromModel\n",
    "from sklearn.preprocessing import StandardScaler\n",
    "\n",
    "from sklearn import linear_model\n",
    "from sklearn.pipeline import Pipeline\n",
    "from sklearn.kernel_ridge import KernelRidge\n",
    "from sklearn.model_selection import GridSearchCV\n",
    "from sklearn.model_selection import learning_curve"
   ]
  },
  {
   "cell_type": "code",
   "execution_count": 2,
   "metadata": {
    "collapsed": true
   },
   "outputs": [],
   "source": [
    "def h5_save(path, data_obj, dts):\n",
    "    if len(data_obj) != len(dts):\n",
    "        print(\"something is wrong\")\n",
    "        return None\n",
    "    with h5py.File(path, \"w\") as data_store:\n",
    "        for idx, (key, val) in enumerate(data_obj.items()):\n",
    "            data_set = data_store.create_dataset(\n",
    "                key, val.shape, dtype=dts[idx]\n",
    "            )\n",
    "            data_set[...] = val\n",
    "    return path, data_obj.keys()\n",
    "    \n",
    "def h5_read(path, key):\n",
    "    with h5py.File(path, \"r\") as file_store:\n",
    "        data = file_store[key][...]\n",
    "    return data"
   ]
  },
  {
   "cell_type": "code",
   "execution_count": 3,
   "metadata": {},
   "outputs": [
    {
     "name": "stdout",
     "output_type": "stream",
     "text": [
      "3dbrainviz.ipynb                      \u001b[34moldk_vs_adult\u001b[m\u001b[m/\r\n",
      "RFCUSTOM.py                           oos_roc_rf.txt\r\n",
      "Untitled.ipynb                        regional.ipynb\r\n",
      "all_td_age.csv                        resh5py\r\n",
      "alldata_rf_model.png                  results_with_nullmodel.h5py\r\n",
      "behav.txt                             rf_featselect.ipynb\r\n",
      "feature_per_iteration_inclusions.csv  rochist.png\r\n",
      "fszstatcope2_means_all.csv            sklearn_prelim.ipynb\r\n",
      "fszstatcope2_means_nz.csv             test_h5py\r\n",
      "fszstatcope2_means_nz_valset.csv      valset_behav.csv\r\n",
      "fszstatcope2_nvoxels_all.csv          yk_ad_results_with_nullmodel.h5py\r\n",
      "fszstatcope2_nvoxels_nz.csv           yk_ok_results_with_nullmodel.h5py\r\n",
      "fszstatcope2_nvoxels_nz_valset.csv    \u001b[34myoungk_vs_adult\u001b[m\u001b[m/\r\n",
      "\u001b[34mgit\u001b[m\u001b[m/                                  \u001b[34myoungk_vs_oldk\u001b[m\u001b[m/\r\n",
      "glm.ipynb\r\n"
     ]
    }
   ],
   "source": [
    "ls"
   ]
  },
  {
   "cell_type": "code",
   "execution_count": 3,
   "metadata": {},
   "outputs": [
    {
     "name": "stdout",
     "output_type": "stream",
     "text": [
      "1.0\n",
      "58\n",
      "True\n"
     ]
    }
   ],
   "source": [
    "voxels = pd.read_csv(\"fszstatcope2_nvoxels_nz.csv\", index_col=0)\n",
    "behav = pd.read_csv(\"behav.txt\", sep='\\t', index_col=0)\n",
    "print(np.mean(behav.index == voxels.index)) #should be 1.0\n",
    "voxels_g27 = voxels.iloc[:, (voxels.iloc[1,:] > 27).values]\n",
    "remove_feature_idx = []\n",
    "\n",
    "for idx, col in enumerate(voxels_g27.columns):\n",
    "    for ss in [\"Vent\", \"Stem\", \"Cerebellum\", \"CSF\", \"White\", \"plexus\"]:\n",
    "        if ss in col:\n",
    "            remove_feature_idx.append(idx)\n",
    "            \n",
    "remove_feature_idx = np.unique(remove_feature_idx)\n",
    "print(voxels_g27.shape[1] - remove_feature_idx.shape[0]) # should be 58\n",
    "voxels_data = voxels_g27.iloc[:, np.setdiff1d(np.arange(voxels_g27.shape[1]), remove_feature_idx)]\n",
    "roi_data = pd.read_csv(\"fszstatcope2_means_nz.csv\", index_col=0).loc[:, voxels_data.columns]\n",
    "print(np.all(roi_data.columns == voxels_data.columns)) # should be true\n",
    "\n",
    "# validation set\n",
    "vset_roi_data = pd.read_csv(\"fszstatcope2_means_nz_valset.csv\", index_col=0).loc[:, voxels_data.columns]\n",
    "vset_voxel_data = pd.read_csv(\"fszstatcope2_nvoxels_nz_valset.csv\", index_col=0).loc[:, voxels_data.columns]\n",
    "vbehav = pd.read_csv(\"valset_behav.csv\", index_col=0)"
   ]
  },
  {
   "cell_type": "code",
   "execution_count": 4,
   "metadata": {
    "collapsed": true
   },
   "outputs": [],
   "source": [
    "def projection(data , covars):\n",
    "    \"\"\"for removing linear effect of covariates\"\"\"\n",
    "    X, C = data.values, covars.values\n",
    "    P = np.eye(C.shape[0]) - C.dot(np.linalg.pinv(C.T.dot(C))).dot(C.T)\n",
    "    return pd.DataFrame(P.dot(X), columns=data.columns, index=data.index)"
   ]
  },
  {
   "cell_type": "code",
   "execution_count": 5,
   "metadata": {
    "collapsed": true
   },
   "outputs": [],
   "source": [
    "data = projection(roi_data, behav.loc[:, [\"gender\", \"iq\", \"composite_motion\"]])"
   ]
  },
  {
   "cell_type": "code",
   "execution_count": 11,
   "metadata": {},
   "outputs": [
    {
     "data": {
      "text/plain": [
       "((76, 13), (76, 58))"
      ]
     },
     "execution_count": 11,
     "metadata": {},
     "output_type": "execute_result"
    }
   ],
   "source": [
    "behav.shape, data.shape"
   ]
  },
  {
   "cell_type": "code",
   "execution_count": 6,
   "metadata": {
    "collapsed": true
   },
   "outputs": [],
   "source": [
    "y = behav.age.values\n",
    "X = data.values"
   ]
  },
  {
   "cell_type": "code",
   "execution_count": 39,
   "metadata": {},
   "outputs": [],
   "source": [
    "clf = Pipeline([\n",
    "    (\"scale\", StandardScaler()),\n",
    "    (\"lm\", linear_model.RidgeCV(\n",
    "        cv=KFold(n_splits=10)\n",
    "    ))\n",
    "])\n",
    "\n",
    "cv_out = LeaveOneOut()\n",
    "\n",
    "res = {\n",
    "    \"r2\":[],\n",
    "    \"ytrue\":[],\n",
    "    \"pred\":[]\n",
    "}"
   ]
  },
  {
   "cell_type": "code",
   "execution_count": 40,
   "metadata": {},
   "outputs": [],
   "source": [
    "for idx, (train, test) in enumerate(cv_out.split(X, y)):\n",
    "    clf.fit(X[train], y[train])\n",
    "    res[\"pred\"].append(clf.predict(X[test]))\n",
    "    res[\"ytrue\"].append(y[test])\n",
    "    "
   ]
  },
  {
   "cell_type": "code",
   "execution_count": 41,
   "metadata": {},
   "outputs": [
    {
     "name": "stdout",
     "output_type": "stream",
     "text": [
      "-1.0167326904631717\n",
      "-1.0493401623574319\n"
     ]
    }
   ],
   "source": [
    "print(explained_variance_score(\n",
    "    np.array(res[\"ytrue\"]).ravel(),\n",
    "    np.array(res[\"pred\"]).ravel()\n",
    "))\n"
   ]
  },
  {
   "cell_type": "code",
   "execution_count": 42,
   "metadata": {},
   "outputs": [
    {
     "data": {
      "text/plain": [
       "<matplotlib.collections.PathCollection at 0x11f7cc8d0>"
      ]
     },
     "execution_count": 42,
     "metadata": {},
     "output_type": "execute_result"
    },
    {
     "data": {
      "image/png": "[encoded data removed]",
      "text/plain": [
       "<matplotlib.figure.Figure at 0x11f795d30>"
      ]
     },
     "metadata": {},
     "output_type": "display_data"
    }
   ],
   "source": [
    "plt.figure(figsize=(10, 6))\n",
    "plt.scatter(np.array(res[\"ytrue\"]).ravel(), np.array(res[\"pred\"]).ravel(), \n",
    "            c=behav.young_kid.values + behav.old_kid.values*2 + behav.adult.values*3)\n"
   ]
  },
  {
   "cell_type": "markdown",
   "metadata": {},
   "source": [
    "# trying kernel ridge regression"
   ]
  },
  {
   "cell_type": "code",
   "execution_count": 161,
   "metadata": {},
   "outputs": [],
   "source": [
    "kr = GridSearchCV(KernelRidge(kernel='laplacian', gamma=0.1), cv=6,\n",
    "                  param_grid={\"alpha\": [1e0, 0.1, 1e-2, 1e-3, 1e-4, 1e-5],\n",
    "                              \"gamma\": np.logspace(-2, 2, 5)})\n",
    "\n",
    "res = {\n",
    "    \"r2\":[],\n",
    "    \"ytrue\":[],\n",
    "    \"pred\":[]\n",
    "}\n",
    "\n",
    "sc = StandardScaler()"
   ]
  },
  {
   "cell_type": "code",
   "execution_count": 162,
   "metadata": {
    "collapsed": true
   },
   "outputs": [],
   "source": [
    "cv_out = LeaveOneOut()"
   ]
  },
  {
   "cell_type": "code",
   "execution_count": 163,
   "metadata": {},
   "outputs": [],
   "source": [
    "for idx, (train, test) in enumerate(cv_out.split(X, y)):\n",
    "    X_transform = sc.fit_transform(X[train], y[train])\n",
    "    kr.fit(X_transform, y[train])\n",
    "    res[\"pred\"].append(kr.predict(sc.transform(X[test])))\n",
    "    res[\"ytrue\"].append(y[test])"
   ]
  },
  {
   "cell_type": "code",
   "execution_count": 164,
   "metadata": {},
   "outputs": [
    {
     "data": {
      "text/plain": [
       "Text(0,0.5,'predicted age')"
      ]
     },
     "execution_count": 164,
     "metadata": {},
     "output_type": "execute_result"
    },
    {
     "data": {
      "image/png": "[encoded data removed]",
      "text/plain": [
       "<matplotlib.figure.Figure at 0x120b985f8>"
      ]
     },
     "metadata": {},
     "output_type": "display_data"
    }
   ],
   "source": [
    "plt.figure(figsize=(10,6))\n",
    "plt.scatter(\n",
    "    np.array(res[\"ytrue\"]).ravel(), np.array(res[\"pred\"]).ravel(),\n",
    "    c=behav.young_kid.values + behav.old_kid.values*2 + behav.adult.values*3\n",
    ")\n",
    "plt.xlabel(\"true age\")\n",
    "plt.ylabel(\"predicted age\")"
   ]
  },
  {
   "cell_type": "code",
   "execution_count": 165,
   "metadata": {},
   "outputs": [
    {
     "name": "stdout",
     "output_type": "stream",
     "text": [
      "0.07550152032567292\n"
     ]
    }
   ],
   "source": [
    "print(\n",
    "    explained_variance_score(\n",
    "        np.array(res[\"ytrue\"]).ravel(),\n",
    "        np.array(res[\"pred\"]).ravel()\n",
    "    )\n",
    ")"
   ]
  },
  {
   "cell_type": "code",
   "execution_count": null,
   "metadata": {
    "collapsed": true
   },
   "outputs": [],
   "source": []
  }
 ],
 "metadata": {
  "kernelspec": {
   "display_name": "Python 3",
   "language": "python",
   "name": "python3"
  },
  "language_info": {
   "codemirror_mode": {
    "name": "ipython",
    "version": 3
   },
   "file_extension": ".py",
   "mimetype": "text/x-python",
   "name": "python",
   "nbconvert_exporter": "python",
   "pygments_lexer": "ipython3",
   "version": "3.6.2"
  }
 },
 "nbformat": 4,
 "nbformat_minor": 2
}
